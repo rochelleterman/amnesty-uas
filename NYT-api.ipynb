{
 "metadata": {
  "name": "",
  "signature": "sha256:c74379fc6f4a69c007a6cba1fb5d67b036bace7258ed5d52fe7c1986aadc8f6a"
 },
 "nbformat": 3,
 "nbformat_minor": 0,
 "worksheets": [
  {
   "cells": [
    {
     "cell_type": "code",
     "collapsed": false,
     "input": [
      "from nytimesarticle import articleAPI"
     ],
     "language": "python",
     "metadata": {},
     "outputs": [],
     "prompt_number": 1
    },
    {
     "cell_type": "code",
     "collapsed": false,
     "input": [
      "api = articleAPI('e15cea455f73cc47d6d971667e09c31c:19:44644296')"
     ],
     "language": "python",
     "metadata": {},
     "outputs": [],
     "prompt_number": 2
    },
    {
     "cell_type": "markdown",
     "metadata": {},
     "source": [
      "###Unpickle my data from Amnesty_NER.ipynb"
     ]
    },
    {
     "cell_type": "code",
     "collapsed": false,
     "input": [
      "import pprint, pickle"
     ],
     "language": "python",
     "metadata": {},
     "outputs": [],
     "prompt_number": 3
    },
    {
     "cell_type": "code",
     "collapsed": false,
     "input": [
      "pkl_file = open('Data/data.pkl', 'rb')"
     ],
     "language": "python",
     "metadata": {},
     "outputs": [],
     "prompt_number": 4
    },
    {
     "cell_type": "code",
     "collapsed": false,
     "input": [
      "names = pickle.load(pkl_file)"
     ],
     "language": "python",
     "metadata": {},
     "outputs": [],
     "prompt_number": 5
    },
    {
     "cell_type": "code",
     "collapsed": false,
     "input": [
      "pkl_file.close()"
     ],
     "language": "python",
     "metadata": {},
     "outputs": [],
     "prompt_number": 6
    },
    {
     "cell_type": "markdown",
     "metadata": {},
     "source": [
      "###Continuing with my analysis"
     ]
    },
    {
     "cell_type": "code",
     "collapsed": false,
     "input": [
      "len(names.keys())"
     ],
     "language": "python",
     "metadata": {},
     "outputs": [
      {
       "metadata": {},
       "output_type": "pyout",
       "prompt_number": 12,
       "text": [
        "18394"
       ]
      }
     ],
     "prompt_number": 12
    },
    {
     "cell_type": "code",
     "collapsed": false,
     "input": [
      "namesSub = dict((k, names[k]) for k in names.keys()[18001:18595]) # taking subset of dict for testing purposes\n",
      "namesSub"
     ],
     "language": "python",
     "metadata": {},
     "outputs": [
      {
       "metadata": {},
       "output_type": "pyout",
       "prompt_number": 41,
       "text": [
        "{22441: ['Hana Shalabi'],\n",
        " 22442: ['Tayseer al-Qanou', 'Obeid', 'Iyad Jandiya'],\n",
        " 22444: ['Rami al-Masri',\n",
        "  'Nufuz Husni',\n",
        "  'Karima Abu Dalal',\n",
        "  'Rami Al-Arouqi',\n",
        "  'Sameer Taleb',\n",
        "  'Muhammad al-Hurani'],\n",
        " 22445: ['Ras al-Ahmar'],\n",
        " 22447: ['Khader Adnan'],\n",
        " 22449: ['Hodgkin', 'Ahmed Abu Mteer'],\n",
        " 22450: ['Ahmed Abu Mteer'],\n",
        " 22452: ['Ahmad Ghoshe'],\n",
        " 22453: ['Ahmad Qatamesh'],\n",
        " 22455: ['Ahmad Qatamesh'],\n",
        " 22459: ['Mahmoud al-Sarsak', 'Mahmoud'],\n",
        " 22461: ['Adnan', 'Adnan Ibrahim al-Hajjar'],\n",
        " 22462: ['Ahmad Qatamesh'],\n",
        " 22463: ['Mahmoud al-Sarsak', 'Mahmoud', 'Halahleh'],\n",
        " 22466: ['Hodgkin', 'Karima Abu Dalal'],\n",
        " 22467: ['Hassan Safadi'],\n",
        " 22473: ['Hassan Safadi', 'Samer al-Barq'],\n",
        " 22474: ['Arab Jahalin'],\n",
        " 22475: ['Akram Rikhawi'],\n",
        " 22477: ['Ehud Barak', 'Nufuz Husni'],\n",
        " 22479: ['Aziz Dweik'],\n",
        " 22482: ['Akram Rikhawi'],\n",
        " 22483: ['Akram Rikhawi'],\n",
        " 22484: ['Adnan al-Hajjar', 'Adnan Ibrahim al-Hajjar'],\n",
        " 22487: ['Ahmed Nahid Mohsin',\n",
        "  'Mohammed Odeh Thabet',\n",
        "  'Nour Mohammed al-Jarou',\n",
        "  'Alison',\n",
        "  'Yousef Rami Abu Latifa'],\n",
        " 22488: ['Hassan Safadi', 'Samer al-Barq'],\n",
        " 22489: ['Samer al-Barq', 'Hassan Safadi'],\n",
        " 22490: ['Hassan Safadi'],\n",
        " 22491: ['Hassan Safadi', 'Samer al-Barq'],\n",
        " 22493: ['Samer', 'Samer al-Barq', 'Hassan Safadi'],\n",
        " 22494: ['Hassan Safadi', 'Samer al-Barq'],\n",
        " 22495: ['Bassem Tamimi'],\n",
        " 22502: ['Hamza', 'Abd al-Rahman Fanatsa', 'Daoud', 'Adnan al-Howeish'],\n",
        " 22503: ['Bilal Musa'],\n",
        " 22505: ['Sabah al-Jaber al-Sabah', 'Membriri Vecina', 'Amir'],\n",
        " 22506: ['May Membriri Vecina', 'Amir'],\n",
        " 22507: ['Jakatia Pawa', 'Amir'],\n",
        " 22508: ['Nasser Abul'],\n",
        " 22509: ['Sabah al-Ahmad al-Sabah', 'Marilou Ranario'],\n",
        " 22510: ['Nasser al-Sabah', 'Talal bin Nasser al-Sabah'],\n",
        " 22511: ['Nasser Al Sabah', 'Muhammad'],\n",
        " 22512: ['Nasser Al Sabah', 'Muhammad'],\n",
        " 22513: ['Mohamed ElBaradei'],\n",
        " 22514: ['Nasser Abul'],\n",
        " 22515: ['Muhammad'],\n",
        " 22516: ['Bidun'],\n",
        " 22517: ['Muhammad'],\n",
        " 22518: ['Abd al-Karim al-Kharbit', 'Ibrahim', 'Bashar Sab'],\n",
        " 22520: ['Arab', 'Mohammad Taher Batili'],\n",
        " 22521: ['Muhammad Babikir', 'Aziz Muhammad Adam'],\n",
        " 22523: ['Fathi', 'Fathi el-Jahmi'],\n",
        " 22525: ['Fathi'],\n",
        " 22527: ['Abdelrahman'],\n",
        " 22528: ['Mu\\xe2\\x80\\x99ammar al-Gaddafi'],\n",
        " 22529: ['Samir Mokhtar Hassan',\n",
        "  'Hassan Mahmud Wagih',\n",
        "  'Kwabena Kankam',\n",
        "  'Fadl Ismael AbuHeteta'],\n",
        " 22531: ['Fathi', 'Fathi el-Jahmi'],\n",
        " 22532: ['Jamal al-Hajji'],\n",
        " 22533: ['Al Jazeera'],\n",
        " 22535: ['Max Goeldi'],\n",
        " 22536: ['Saif al-Islam al-Gaddafi'],\n",
        " 22537: ['Mu\\xe2\\x80\\x99ammar al-Gaddafi'],\n",
        " 22540: ['Mu\\xe2\\x80\\x99ammar al-Gaddafi', 'Eman al-Obaidi'],\n",
        " 22541: ['Saif al-Islam al-Gaddafi'],\n",
        " 22542: ['Zeyad Ramadan', 'Ghazi Ramadan', 'Khaled Sury'],\n",
        " 22543: ['Zeyad Ramadan', 'Ghazi Ramadan', 'Khaled Sury'],\n",
        " 22545: ['Hani al-Aqbani'],\n",
        " 22546: ['Ahmed Ali Abdel Rahman Abou Raqba'],\n",
        " 22547: ['Mu\\xe2\\x80\\x99ammar al-Gaddafi', 'Anoud Abdallah al-Senussi'],\n",
        " 22552: ['Ibrahim Sa\\xe2\\x80\\x99id al-Hajri', 'Muhammad al-Habssi'],\n",
        " 22557: ['Mahmoud Abbas', 'Mahmoud Husni Rmailat'],\n",
        " 22558: ['Mohammed Baraka'],\n",
        " 22560: ['Jamal Qandil Doghmosh'],\n",
        " 22563: ['Hazem Hilmi Herez', 'Jamal Qandil Doghmosh'],\n",
        " 22565: ['Saed Yassin'],\n",
        " 22568: ['Mohammed', 'Mohammed al-Ajami'],\n",
        " 22569: ['Mohammed al-Ajami'],\n",
        " 22570: ['Al-Qahtani'],\n",
        " 22571: ['Zuhair al-Janbi', 'Otaibi', 'Kamil', 'Mohammed', 'Abbas al-Ahmad'],\n",
        " 22572: ['Saud al-Hashimi'],\n",
        " 22574: ['Fouad Ahmad al-Farhan'],\n",
        " 22575: ['Adnan Jamil',\n",
        "  'Hussein Baida Abud',\n",
        "  'Mahmoud Shekar',\n",
        "  'Wanas Matar',\n",
        "  'Khaled Mitan'],\n",
        " 22576: ['Mohamed Kohail', 'Mehanna Sa'],\n",
        " 22578: ['Hamza Kashgari'],\n",
        " 22579: [\"Gary O'Nions\", 'Gary Dixon'],\n",
        " 22580: ['King Abdullah'],\n",
        " 22581: ['Mohammad Abdul Amir'],\n",
        " 22582: ['Mohammad Abdul Amir'],\n",
        " 22583: ['Abdullah', 'Mohammed', 'Abdulkareem'],\n",
        " 22585: [\"Hadi Sa'eed Al-Muteef\",\n",
        "  'Ahmed al-Bahrani',\n",
        "  'Suliamon Olyfemi',\n",
        "  'Siti Zainab Binti Duhri Rupa'],\n",
        " 22586: ['Thamer Abdulkareem'],\n",
        " 22587: ['Tawfiq Jaber Ibrahim'],\n",
        " 22589: ['Gary Dixon', 'Dixon'],\n",
        " 22590: ['Mohammed Salim', 'Mastan', 'Hamza Abu Bakir'],\n",
        " 22591: ['Khamisa Mohammed Sawadi', 'Hadyan', 'Fahad'],\n",
        " 22592: ['Mohammad Abdul Amir'],\n",
        " 22595: ['Rizana Nafeek'],\n",
        " 22596: ['Muhammad', 'Madina'],\n",
        " 22597: ['Ali Hussain Sibat'],\n",
        " 22598: ['Tawfiq Jaber Ibrahim'],\n",
        " 22599: [\"Hadi Sa'eed Al-Muteef\",\n",
        "  'Ahmed al-Bahrani',\n",
        "  'Suliamon Olyfemi',\n",
        "  'Siti Zainab Binti Duhri Rupa'],\n",
        " 22600: ['Muhammad',\n",
        "  'Hassan Muhammad al-Sadiq',\n",
        "  'Ali Muhammad al-Sfawani',\n",
        "  'Qassim Muhammad al-Mawsi'],\n",
        " 22601: ['Mohamed Kohail', 'Mehanna Sa'],\n",
        " 22603: ['Naushad', 'Bandaranaike', 'Haleema Nissa Cader'],\n",
        " 22604: ['Mohamed Kohail', 'Mehanna Sa'],\n",
        " 22605: ['Abdul Hamid al-Fakki'],\n",
        " 22607: ['Fadhel Maki'],\n",
        " 22608: ['Issa al-Hamid', 'Abdullah al-Hamid'],\n",
        " 22609: ['Abdul Hamid al-Fakki', 'Ramadan'],\n",
        " 22610: ['Mohammad Salih al-Bajadi'],\n",
        " 22611: ['Mohammed Saleh', 'Mohammed Saleh al-Bajady'],\n",
        " 22612: ['Issa', 'Abdullah al-Hamid'],\n",
        " 22614: ['Mohammed Saleh', 'Mohammed Saleh al-Bajady'],\n",
        " 22615: ['Alexander Mitchell', 'William Sampson'],\n",
        " 22618: ['Fatima'],\n",
        " 22619: ['Mohamed Kohail', 'Sultan Kohail', 'Mehanna Sa'],\n",
        " 22621: ['Fadel Makki al-Manasef', 'Fadel al-Manasef'],\n",
        " 22624: ['Sabri Bogday'],\n",
        " 22625: ['Ahmad Hamid Muhammad Sabir',\n",
        "  'Madina',\n",
        "  'Bilal Bin Muslih Bin Jabir al-Muwallad'],\n",
        " 22626: ['Ali Hussain Sibat'],\n",
        " 22628: ['Faisal Fouzan al-Otaibi'],\n",
        " 22629: ['Khamisa Mohammed Sawadi', 'Hadyan', 'Fahad'],\n",
        " 22630: ['Abdullah', 'Mohammed'],\n",
        " 22632: ['Mohamed Kohail', 'Mehanna Sa', 'Sultan'],\n",
        " 22633: ['Abdul Karim'],\n",
        " 22635: ['Matrouk al-Faleh'],\n",
        " 22637: ['Mohamed Kohail', 'Mehanna Sa'],\n",
        " 22638: ['Jamal Muhammad Tijani'],\n",
        " 22639: ['Abdullah Saleh al-Muhanna'],\n",
        " 22640: ['Jaber Shahbah', 'Muhammad Jaber Shahbah'],\n",
        " 22645: ['Khalid al-Zahrani'],\n",
        " 22646: ['Muhammad Basheer al-Ramaly', 'Muhammad Basheer'],\n",
        " 22647: ['Tawfiq Jaber Ibrahim'],\n",
        " 22648: ['Fouad Ahmad al-Farhan'],\n",
        " 22649: ['Khalid al-Zahrani'],\n",
        " 22650: ['Ibrahim bin Mohammad bin Saghir Hassan', 'Ali al-Talib'],\n",
        " 22651: ['Muhammad', 'Ali Abu Raziza'],\n",
        " 22652: ['Abdullah Saleh al-Muhanna'],\n",
        " 22653: ['Fadhel Maki al-Manasif'],\n",
        " 22655: ['Matrouk al-Faleh'],\n",
        " 22656: ['Otaibi', 'Mohammed'],\n",
        " 22657: ['Mohammed Salim', 'Hamza Abu Bakir'],\n",
        " 22658: ['Abdul Hamid bin Hussain bin Moustafa al-Fakki'],\n",
        " 22659: ['Hassan Bashir', 'Muhammad Salih', 'Muhammad Hamid Ibrahim Sulayman'],\n",
        " 22662: ['Fadhel Maki al-Manasif'],\n",
        " 22664: ['Khalid al-Zahrani'],\n",
        " 22665: ['Arar',\n",
        "  'Mohammad Abdul Amir',\n",
        "  'Muhammad bin Abd Rab al-Amir bin Ali al-Shammari'],\n",
        " 22666: ['Eduardo Arcilla',\n",
        "  'Rolando Manaloto Gonzales',\n",
        "  'Victoriano Alfonso',\n",
        "  'Efren Francisco Dimaun',\n",
        "  'Omar Basillo',\n",
        "  'Joel Sinamban'],\n",
        " 22668: ['Muhammad Basheer al-Ramaly', 'Muhammad Basheer'],\n",
        " 22671: ['Ali Agirdas'],\n",
        " 22672: ['Khamisa Mohammed Sawadi', 'Hadyan', 'Fahad'],\n",
        " 22673: ['Ali Hassan',\n",
        "  'Issa al-Buri',\n",
        "  'Qassim Bin Rida Bin Sulayman al Mahdi',\n",
        "  'Khalid Bin Muhammad'],\n",
        " 22674: ['Muhammad Basheer',\n",
        "  \"Muhammad Basheer bin Sa'oud al-Ramaly al-Shammari\"],\n",
        " 22676: ['Mohamed Kohail', 'Mehanna Sa'],\n",
        " 22679: ['Ali Hassan',\n",
        "  'Issa al-Qadihi',\n",
        "  'Issa al-Buri',\n",
        "  'Qassim Bin Rida Bin Sulayman al Mahdi',\n",
        "  'Khalid Bin Muhammad'],\n",
        " 22681: ['Mastan', 'Hamza Abu Bakir'],\n",
        " 22682: ['Abdullah Fandi al-Shammari', 'Sultan bin \\xe2\\x80\\x98Abdul Aziz'],\n",
        " 22683: ['Mohamed Kohail', 'Mehanna Sa'],\n",
        " 22684: ['Raouf Amin', 'Shawqi Abd Rabbuh'],\n",
        " 22685: ['Bahjat Khalid Mas'],\n",
        " 22686: ['Amir Hussain', 'Haas Muhammad Muzamdar'],\n",
        " 22688: ['Mustafa Jum'],\n",
        " 22690: ['Yassin Ziadeh', 'Radwan Ziadeh'],\n",
        " 22691: ['Fayez Sarah'],\n",
        " 22692: ['Mohammed Amin al-Shawa'],\n",
        " 22693: ['Hassan', \"Raghdah Sa'id Hassan\"],\n",
        " 22694: ['Mohamed Anwar Dabbas'],\n",
        " 22695: ['Ahmad Suwaidani',\n",
        "  'Hadithe Murade',\n",
        "  'Muhammad',\n",
        "  'Dafi Jam',\n",
        "  'Fawzi Rida',\n",
        "  'Mustafa Rustum',\n",
        "  'Abd al-Hamid Miqdad'],\n",
        " 22696: ['Mamum al-Humsi'],\n",
        " 22697: ['Muhammed Haji Darwish'],\n",
        " 22698: ['Hassam Hussein', 'Ali'],\n",
        " 22699: ['Usra al-Hassani'],\n",
        " 22701: ['Suhaib al-Ammar'],\n",
        " 22702: [\"Haytham Na'al\", 'Faris Murad', 'Imad Shiha'],\n",
        " 22703: ['Safouan Ammouri', 'Ben Abdelwahed Ammouri'],\n",
        " 22704: ['Mustafa Jum'],\n",
        " 22705: ['Haytham al-Maleh'],\n",
        " 22706: ['Georges Moubayed'],\n",
        " 22707: ['Mustafa Dib Khalil'],\n",
        " 22708: ['Riad Seif'],\n",
        " 22709: ['Mohammad Sai'],\n",
        " 22710: ['Abed al-Rahman'],\n",
        " 22711: ['Abd al-Rahman Mohammed'],\n",
        " 22712: ['Mamun al-Humsi'],\n",
        " 22715: ['Talal Abu Dan'],\n",
        " 22716: ['Maryam Kallis'],\n",
        " 22717: ['Berzani Karro'],\n",
        " 22718: ['Ahmad Mohammad Hudaifa', 'Ahmad Abu al-Khair'],\n",
        " 22720: ['Aref Dalilah'],\n",
        " 22721: ['Ahmad Mohammad Hudaifa', 'Ahmad Abu al-Khair'],\n",
        " 22722: ['Adel Walid Kharsa'],\n",
        " 22723: ['Aziz al-Khayyir'],\n",
        " 22724: ['Mulla Ahmed'],\n",
        " 22725: ['Maryam Kallis'],\n",
        " 22726: ['Kutiba al-Issa', 'Hassan Baroudi'],\n",
        " 22727: ['Tuhama Mahmoud Ma'],\n",
        " 22728: ['Hussam Ahmed al-Nabulsi'],\n",
        " 22729: ['Aisha Afandi', 'Kawthar Taifour'],\n",
        " 22730: ['Pir Rostom', 'Ahmed Mustafa', 'Ahmed Mustafa Ben-Mohammed'],\n",
        " 22732: ['Askari'],\n",
        " 22733: ['Kamal al-Mwayel'],\n",
        " 22734: ['Anwer Naso',\n",
        "  'Hassan Saleh',\n",
        "  'Mulla Ahmed',\n",
        "  'Muhammad Ahmed Mustafa'],\n",
        " 22736: ['Maryam Kallis', 'Kafr Sousa'],\n",
        " 22737: ['Abd al-Rahman Mohammed', 'Bav\\xc3\\xaa Selah', 'Omar'],\n",
        " 22739: ['Ghayath Mattar', 'Hazem Taisir Mattar'],\n",
        " 22741: ['Habib Saleh'],\n",
        " 22742: ['Maryam Kallis', 'Yasser Zahur Ahmed'],\n",
        " 22744: ['Mulla Ahmed'],\n",
        " 22745: ['Nizar Ristnawi'],\n",
        " 22746: ['Ahmed Andora'],\n",
        " 22747: ['Ahmad Hamad'],\n",
        " 22748: ['Mahmoud al-Najjar'],\n",
        " 22749: ['Maryam Kallis', 'Yasser Zahur Ahmed'],\n",
        " 22750: ['Jehovah'],\n",
        " 22752: ['Jakarkhon Sheikho \\xe2\\x80\\x98Ali'],\n",
        " 22753: ['Abed al-Rahman'],\n",
        " 22754: ['Hasan Qasem', 'Hasan Younis Qasem'],\n",
        " 22757: ['Hasan Qasem', 'Hasan Younis Qasem'],\n",
        " 22759: ['Abdelbaqi Khalaf'],\n",
        " 22760: ['Wa\\xe2\\x80\\x99el Hammada', 'Abd al-Rahman Hammada'],\n",
        " 22761: ['Al Jazeera'],\n",
        " 22762: ['Mahmoud al-Najjar'],\n",
        " 22763: ['Amjad Baiazy'],\n",
        " 22764: ['Georges Moubayed'],\n",
        " 22767: ['Aref Dalilah'],\n",
        " 22768: ['Abd al-Karim Hussein'],\n",
        " 22769: ['Wa\\xe2\\x80\\x99el Hammada', 'Abd al-Rahman Hammada'],\n",
        " 22770: ['Berzani Karro'],\n",
        " 22771: ['Abd al-Karim Hussein'],\n",
        " 22773: ['Khaled Kenjo'],\n",
        " 22776: ['Jaqar Khoen Mullah Ahmed'],\n",
        " 22777: [\"Mesha'l al-Tammo\", 'Ein'],\n",
        " 22780: ['Mesha'],\n",
        " 22781: ['Haytham'],\n",
        " 22782: ['Sabri Mirza'],\n",
        " 22783: ['Bayan Saleh', 'Ali'],\n",
        " 22784: ['Haytham'],\n",
        " 22787: ['Abdullah al-Khalil'],\n",
        " 22788: ['Ali'],\n",
        " 22789: ['Hassan'],\n",
        " 22791: ['Anas al-Shogre'],\n",
        " 22792: ['Shaker al-Masri',\n",
        "  'Abd al-Akram al-Sakka',\n",
        "  'Ahmad Kuraitem',\n",
        "  'Muhammad Muhammad Al Hamwi'],\n",
        " 22793: ['Adem \\xc3\\x96zk\\xc3\\xb6se', 'Hamit Co\\xc5\\x9fkun'],\n",
        " 22794: ['Amjad Baiazy'],\n",
        " 22795: ['Wa\\xe2\\x80\\x99el Hammada', 'Abd al-Rahman Hammada'],\n",
        " 22796: ['Mohammed Najati Tayyara'],\n",
        " 22797: [\"Muhammad Yusef Sa'adu\"],\n",
        " 22801: ['Nabil Khlioui'],\n",
        " 22803: ['Al-Assad', 'Kamal Saloum'],\n",
        " 22804: ['Mohammad Sai'],\n",
        " 22805: ['Pir Rostom', 'Ahmed Mustafa Ben-Mohammed'],\n",
        " 22806: ['George Sabra'],\n",
        " 22807: ['Mohamed al-Ammar', 'Mohamed'],\n",
        " 22808: ['Aqel'],\n",
        " 22809: ['Abbas', 'Awad Jassim'],\n",
        " 22810: ['Mahmoud Al Refaai'],\n",
        " 22811: ['Mustafa Ismail'],\n",
        " 22812: ['Abdullah al-Khalil'],\n",
        " 22813: ['Abd al-Rahman Hammada'],\n",
        " 22814: ['Ghassan Mustafa Ma', 'Ahmad Mustafa Ma'],\n",
        " 22816: ['Mohamad Osama Abdulsalam Al-Baroudi', 'Mahmoud Al Refaai'],\n",
        " 22817: ['Adel Walid Kharsa'],\n",
        " 22818: ['Adem \\xc3\\x96zk\\xc3\\xb6se', 'Hamit Co\\xc5\\x9fkun', 'Shabiha'],\n",
        " 22819: ['Walid al-Bunni'],\n",
        " 22820: ['Salameh Kaileh'],\n",
        " 22821: ['Jabr', 'Abdullah', 'Ahmad', 'Akram al-Bunni', 'Ali'],\n",
        " 22822: ['Hanadi Zahlout'],\n",
        " 22823: ['Adem \\xc3\\x96zk\\xc3\\xb6se', 'Hamit Co\\xc5\\x9fkun'],\n",
        " 22824: ['Yasser'],\n",
        " 22825: ['Mohamed Iyyad Tayyara'],\n",
        " 22826: ['Abd al-Akram al-Sakka',\n",
        "  'Muhammad Yassin Al Hamwi',\n",
        "  'Ahmad Kuraitem',\n",
        "  'Muhammad Muhammad Al Hamwi'],\n",
        " 22827: ['Mohammed Hasan al-Labwani'],\n",
        " 22829: ['Lionel Tate'],\n",
        " 22830: ['Yassin Ziadeh', 'Radwan Ziadeh'],\n",
        " 22831: ['George Sabra'],\n",
        " 22832: ['Ghayath Mattar',\n",
        "  'Yahya Shurbaji',\n",
        "  'Mazen Zyadeh',\n",
        "  'Mohamed Tayseer Khoulani'],\n",
        " 22833: ['Amjad Kassem'],\n",
        " 22834: ['Mamum al-Humsi'],\n",
        " 22835: ['Mohammed Hasan al-labwani'],\n",
        " 22836: ['Mohamed al-Ammar', 'Mohamed'],\n",
        " 22837: ['Ghayath Mattar'],\n",
        " 22838: ['Mohammed Najati Tayyara'],\n",
        " 22840: ['Nizar Ristnawi',\n",
        "  'Aref Dalilah',\n",
        "  'Riad Seif',\n",
        "  'Muhammad',\n",
        "  'Hamid',\n",
        "  'Mamun al-Humsi'],\n",
        " 22842: ['Yasser Hamza Kareem', 'Khaled Kareem'],\n",
        " 22843: ['Hussein'],\n",
        " 22844: ['George Sabra'],\n",
        " 22845: ['Obaida Behaa'],\n",
        " 22846: ['Riad Seif', 'Mamun al-Humsi', 'Aref Dalilah'],\n",
        " 22847: ['Ghassan Yasin'],\n",
        " 22849: ['Anas al-Shogre'],\n",
        " 22850: ['Walid al-Bunni', 'Mu\\xe2\\x80\\x99ayad al-Bunni'],\n",
        " 22851: ['Mazen Darwish'],\n",
        " 22852: ['Hanadi Zahlout'],\n",
        " 22853: ['Ahmed Omar Azoz', 'Mohamed Bachir Arab'],\n",
        " 22854: ['Mohamad Nooh'],\n",
        " 22855: ['Amjad Kassem'],\n",
        " 22856: ['Mazen Darwish'],\n",
        " 22857: ['Awad Jassim \\xe2\\x80\\x98Abbas'],\n",
        " 22858: ['Salah'],\n",
        " 22859: ['Ahmed Omar Azoz', 'Mohamed Bachir Arab'],\n",
        " 22860: ['Zilal Ibrahim', 'Zilal Ibrahim al-Salhani'],\n",
        " 22862: ['Bassel Khartabil'],\n",
        " 22863: ['Ahmed Andora'],\n",
        " 22864: ['Adel Walid Kharsa', 'Imad Walid Kharsa'],\n",
        " 22865: ['Riad Seif', 'Mamun al-Humsi'],\n",
        " 22866: ['Ghassan Yasin'],\n",
        " 22867: ['Maher Fawzi al-Hamoud', 'Maher Fawzi'],\n",
        " 22868: ['Suhaib al-Ammar', 'Suhaib'],\n",
        " 22870: ['Mohammed Thatha', 'Khalil Ma'],\n",
        " 22871: ['Yahia Ka\\xe2\\x80\\x99ake'],\n",
        " 22872: ['Khattab'],\n",
        " 22875: ['Muhammad Yassin Al Hamwi', 'Abd al-Akram al-Sakka'],\n",
        " 22876: ['Mohamed Raed al-Tawil'],\n",
        " 22878: ['Bassel Khartabil'],\n",
        " 22880: ['Gary Dixon'],\n",
        " 22881: ['Alsadiq Siddiq Adam Abdullah'],\n",
        " 22882: ['Naji Jawdat Hamdan'],\n",
        " 22885: ['Gary Dixon', 'Dorthe'],\n",
        " 22886: ['Abd al-Rahman Abu Zaid'],\n",
        " 22888: ['Fahad Salem al-Shehi', 'Nasser bin Ghaith', 'Ahmad Mansoor'],\n",
        " 22889: ['Boqor Osman Mohamoud'],\n",
        " 22891: ['Rafat Usmani'],\n",
        " 22893: ['Nasser bin Ghaith', 'Ahmad Mansoor'],\n",
        " 22894: ['Abd al-Rahman Abu Zaid'],\n",
        " 22895: ['Ayyaz Ali Khan', 'Akmal Waheed', 'Asad Waheed'],\n",
        " 22897: ['Rafat Usmani'],\n",
        " 22898: ['Khalil Abdul Rahman Abdul Karim al-Janahi'],\n",
        " 22901: ['Khalil Abdul Rahman Abdul Karim al-Janahi'],\n",
        " 22904: ['Ahmed Abdul Khaleq',\n",
        "  'Hassan Ali al-Khamis',\n",
        "  'Fahad Salim Dalk',\n",
        "  'Ahmed Mansoor',\n",
        "  'Nasser bin Ghaith'],\n",
        " 22906: ['Rabah Kadri'],\n",
        " 22907: ['Rabah Kadri'],\n",
        " 22910: ['Salaheddine Sidhoum', 'Sidhoum'],\n",
        " 22913: ['Mohamed Yousfi',\n",
        "  'Mohamed Boughrine',\n",
        "  'Brahim Ahansal',\n",
        "  'Abdelkbir Rabaoui'],\n",
        " 22914: ['Ahmed Mahmoud Haddi'],\n",
        " 22915: ['Aminatou Haidar'],\n",
        " 22917: ['Nabil Talha'],\n",
        " 22923: ['Kaddour Terhaz'],\n",
        " 22924: ['Ahmed Mahmoud Haddi'],\n",
        " 22925: ['Aminatou Haidar'],\n",
        " 22927: ['Ramzi Romdhani'],\n",
        " 22928: ['Mohammed Abbou'],\n",
        " 22929: ['Mounia Obaid', 'Hamma Hammami', 'Mohamed Mzem'],\n",
        " 22930: ['Ramzi Ben Jilani Romdhani', 'Ramzi Romdhani'],\n",
        " 22933: ['Hamma Hammami', 'Mohamed Mzem'],\n",
        " 22934: ['Lamari Dali'],\n",
        " 22935: ['Ziad Fakraoui'],\n",
        " 22936: ['Ali Ben Sassi Toumi'],\n",
        " 22937: ['Ramzi Romdhani'],\n",
        " 22938: ['Ali Ben Sassi Toumi'],\n",
        " 22939: ['Bill'],\n",
        " 22941: ['Ayman Gharib', 'Anis'],\n",
        " 22942: ['Menzel Bourguiba'],\n",
        " 22943: ['Mohammed Soudani'],\n",
        " 22944: ['Haitham el-Mejri'],\n",
        " 22945: ['Lotfi Dassi'],\n",
        " 22946: ['Fahem Boukadous'],\n",
        " 22948: ['al-Baghdadi al-Mahmoudi'],\n",
        " 22949: ['Taoufik Ben Brik'],\n",
        " 22953: ['Najib al-Hijri', 'Najib'],\n",
        " 22955: ['Bashir Sultan Mohamed'],\n",
        " 22958: ['Bashir Sultan Mohamed'],\n",
        " 22959: ['Hisham Bashraheel'],\n",
        " 22960: ['Muhammed Taher Thabet Samoum', 'Fuad Ahmed Ali Abdulla'],\n",
        " 22961: ['Abdul-Fattah Hashim'],\n",
        " 22963: ['Ahmed', 'Abdullah Qassim', 'Abdullah Saleh', 'Abdul Salaam'],\n",
        " 22964: ['Bashir Sultan Mohamed'],\n",
        " 22965: ['Muhammad al-Maqalih'],\n",
        " 22966: ['Tawakkol Karman'],\n",
        " 22967: ['Mohamed al-Saqaf'],\n",
        " 22968: ['Aisha Ghalib'],\n",
        " 22970: ['Hassan', 'Fawaz Ba\\xe2\\x80\\x99oom'],\n",
        " 22971: ['Mohamed al-Saqaf', 'Mohamed'],\n",
        " 22972: ['Aisha Ghalib al-Hamzi'],\n",
        " 22973: ['Hassan'],\n",
        " 22974: ['Keyvan Qadari', 'Behrooz Rohaniand Sayfi Ibrahim Sayfi'],\n",
        " 22975: ['Askar Jubran', 'Ahmad Muhammad', 'Fadi'],\n",
        " 22977: ['Mansour Saif al-Horsome', 'Mansour Saif'],\n",
        " 22978: ['Abdel Hameed Haroun'],\n",
        " 22979: ['Hussein', 'Salah Ahmed Yahya al-Shagladi'],\n",
        " 22980: ['Muhammad al-Maqalih'],\n",
        " 22982: ['Hisham Bashraheel'],\n",
        " 22983: ['Hammoud Ahmed Qaid Sa\\xe2\\x80\\x99eed',\n",
        "  'Ali Mussara\\xe2\\x80\\x99a Muhammad Huraish',\n",
        "  'Ismail Lutef Huraish'],\n",
        " 22984: ['Muhammad', 'Hussein', 'Muhammad al-Maqalih'],\n",
        " 22987: ['Walid Muhammad Shahir Muhammad al-Qadasi',\n",
        "  'Muhammad Faraj Ahmed Bashmilah',\n",
        "  \"Salah Nasser Salim 'Ali\"],\n",
        " 22988: ['Ali Mussara\\xe2\\x80\\x99a Muhammad Huraish', 'Ismail Lutef Huraish'],\n",
        " 22989: ['Muhammad al-Maqalih'],\n",
        " 22991: ['Muhammad al-Maqalih'],\n",
        " 22992: ['Ali Nahshal', 'Shaikh Khalid Nahshal', 'Abduh Muhammad Nahshal'],\n",
        " 22993: ['Ahmed Omar al-Abbadi al-Markashi'],\n",
        " 22994: ['Hassan Ba\\xe2\\x80\\x99oom'],\n",
        " 22996: ['Muhammad al-Maqalih'],\n",
        " 22997: ['Zahra Salih'],\n",
        " 22998: ['Abdul Raouf Hassan Zain al-Saqqaf'],\n",
        " 23006: ['Michael Anti', 'Zhao Jing']}"
       ]
      }
     ],
     "prompt_number": 41
    },
    {
     "cell_type": "code",
     "collapsed": false,
     "input": [
      "for key in namesSub.keys():\n",
      "    print key\n",
      "    x = {}\n",
      "    for person in namesSub[key]:\n",
      "        try:\n",
      "            articles = api.search(q = person, fq = {'source':['Reuters','AP', 'The New York Times'], 'organizations.contains':['Amnesty']})\n",
      "            x[person] = len(articles['response']['docs'])\n",
      "        except:\n",
      "            x[person] = \"NA\"\n",
      "    namesSub[key] = x\n",
      "namesSub"
     ],
     "language": "python",
     "metadata": {},
     "outputs": [
      {
       "output_type": "stream",
       "stream": "stdout",
       "text": [
        "22528\n",
        "22529\n",
        "22531"
       ]
      },
      {
       "output_type": "stream",
       "stream": "stdout",
       "text": [
        "\n",
        "22532"
       ]
      },
      {
       "output_type": "stream",
       "stream": "stdout",
       "text": [
        "\n",
        "22533"
       ]
      },
      {
       "output_type": "stream",
       "stream": "stdout",
       "text": [
        "\n",
        "22535"
       ]
      },
      {
       "output_type": "stream",
       "stream": "stdout",
       "text": [
        "\n",
        "22536"
       ]
      },
      {
       "output_type": "stream",
       "stream": "stdout",
       "text": [
        "\n",
        "22537"
       ]
      },
      {
       "output_type": "stream",
       "stream": "stdout",
       "text": [
        "\n",
        "22540\n",
        "22541"
       ]
      },
      {
       "output_type": "stream",
       "stream": "stdout",
       "text": [
        "\n",
        "22542"
       ]
      },
      {
       "output_type": "stream",
       "stream": "stdout",
       "text": [
        "\n",
        "22543"
       ]
      },
      {
       "output_type": "stream",
       "stream": "stdout",
       "text": [
        "\n",
        "22545"
       ]
      },
      {
       "output_type": "stream",
       "stream": "stdout",
       "text": [
        "\n",
        "22546"
       ]
      },
      {
       "output_type": "stream",
       "stream": "stdout",
       "text": [
        "\n",
        "22547"
       ]
      },
      {
       "output_type": "stream",
       "stream": "stdout",
       "text": [
        "\n",
        "22552"
       ]
      },
      {
       "output_type": "stream",
       "stream": "stdout",
       "text": [
        "\n",
        "22557"
       ]
      },
      {
       "output_type": "stream",
       "stream": "stdout",
       "text": [
        "\n",
        "22558"
       ]
      },
      {
       "output_type": "stream",
       "stream": "stdout",
       "text": [
        "\n",
        "22560"
       ]
      },
      {
       "output_type": "stream",
       "stream": "stdout",
       "text": [
        "\n",
        "22563"
       ]
      },
      {
       "output_type": "stream",
       "stream": "stdout",
       "text": [
        "\n",
        "22565"
       ]
      },
      {
       "output_type": "stream",
       "stream": "stdout",
       "text": [
        "\n",
        "22568"
       ]
      },
      {
       "output_type": "stream",
       "stream": "stdout",
       "text": [
        "\n",
        "22569"
       ]
      },
      {
       "output_type": "stream",
       "stream": "stdout",
       "text": [
        "\n",
        "22570"
       ]
      },
      {
       "output_type": "stream",
       "stream": "stdout",
       "text": [
        "\n",
        "22571"
       ]
      },
      {
       "output_type": "stream",
       "stream": "stdout",
       "text": [
        "\n",
        "22572"
       ]
      },
      {
       "output_type": "stream",
       "stream": "stdout",
       "text": [
        "\n",
        "22574"
       ]
      },
      {
       "output_type": "stream",
       "stream": "stdout",
       "text": [
        "\n",
        "22575"
       ]
      },
      {
       "output_type": "stream",
       "stream": "stdout",
       "text": [
        "\n",
        "22576"
       ]
      },
      {
       "output_type": "stream",
       "stream": "stdout",
       "text": [
        "\n",
        "22578"
       ]
      },
      {
       "output_type": "stream",
       "stream": "stdout",
       "text": [
        "\n",
        "22579"
       ]
      },
      {
       "output_type": "stream",
       "stream": "stdout",
       "text": [
        "\n",
        "22580"
       ]
      },
      {
       "output_type": "stream",
       "stream": "stdout",
       "text": [
        "\n",
        "22581"
       ]
      },
      {
       "output_type": "stream",
       "stream": "stdout",
       "text": [
        "\n",
        "22582"
       ]
      },
      {
       "output_type": "stream",
       "stream": "stdout",
       "text": [
        "\n",
        "22583"
       ]
      },
      {
       "output_type": "stream",
       "stream": "stdout",
       "text": [
        "\n",
        "22585"
       ]
      },
      {
       "output_type": "stream",
       "stream": "stdout",
       "text": [
        "\n",
        "22586"
       ]
      },
      {
       "output_type": "stream",
       "stream": "stdout",
       "text": [
        "\n",
        "22587"
       ]
      },
      {
       "output_type": "stream",
       "stream": "stdout",
       "text": [
        "\n",
        "22589"
       ]
      },
      {
       "output_type": "stream",
       "stream": "stdout",
       "text": [
        "\n",
        "22590"
       ]
      },
      {
       "output_type": "stream",
       "stream": "stdout",
       "text": [
        "\n",
        "22591"
       ]
      },
      {
       "output_type": "stream",
       "stream": "stdout",
       "text": [
        "\n",
        "22592"
       ]
      },
      {
       "output_type": "stream",
       "stream": "stdout",
       "text": [
        "\n",
        "22595"
       ]
      },
      {
       "output_type": "stream",
       "stream": "stdout",
       "text": [
        "\n",
        "22596"
       ]
      },
      {
       "output_type": "stream",
       "stream": "stdout",
       "text": [
        "\n",
        "22597"
       ]
      },
      {
       "output_type": "stream",
       "stream": "stdout",
       "text": [
        "\n",
        "22598"
       ]
      },
      {
       "output_type": "stream",
       "stream": "stdout",
       "text": [
        "\n",
        "22599"
       ]
      },
      {
       "output_type": "stream",
       "stream": "stdout",
       "text": [
        "\n",
        "22600"
       ]
      },
      {
       "output_type": "stream",
       "stream": "stdout",
       "text": [
        "\n",
        "22601"
       ]
      },
      {
       "output_type": "stream",
       "stream": "stdout",
       "text": [
        "\n",
        "22603"
       ]
      },
      {
       "output_type": "stream",
       "stream": "stdout",
       "text": [
        "\n",
        "22604"
       ]
      },
      {
       "output_type": "stream",
       "stream": "stdout",
       "text": [
        "\n",
        "22605"
       ]
      },
      {
       "output_type": "stream",
       "stream": "stdout",
       "text": [
        "\n",
        "22607"
       ]
      },
      {
       "output_type": "stream",
       "stream": "stdout",
       "text": [
        "\n",
        "22608"
       ]
      },
      {
       "output_type": "stream",
       "stream": "stdout",
       "text": [
        "\n",
        "22609"
       ]
      },
      {
       "output_type": "stream",
       "stream": "stdout",
       "text": [
        "\n",
        "22610"
       ]
      },
      {
       "output_type": "stream",
       "stream": "stdout",
       "text": [
        "\n",
        "22611"
       ]
      },
      {
       "output_type": "stream",
       "stream": "stdout",
       "text": [
        "\n",
        "22612"
       ]
      },
      {
       "output_type": "stream",
       "stream": "stdout",
       "text": [
        "\n",
        "22614"
       ]
      },
      {
       "output_type": "stream",
       "stream": "stdout",
       "text": [
        "\n",
        "22615"
       ]
      },
      {
       "output_type": "stream",
       "stream": "stdout",
       "text": [
        "\n",
        "22618"
       ]
      },
      {
       "output_type": "stream",
       "stream": "stdout",
       "text": [
        "\n",
        "22619"
       ]
      },
      {
       "output_type": "stream",
       "stream": "stdout",
       "text": [
        "\n",
        "22621"
       ]
      },
      {
       "output_type": "stream",
       "stream": "stdout",
       "text": [
        "\n",
        "22624"
       ]
      },
      {
       "output_type": "stream",
       "stream": "stdout",
       "text": [
        "\n",
        "22625"
       ]
      },
      {
       "output_type": "stream",
       "stream": "stdout",
       "text": [
        "\n",
        "22626"
       ]
      },
      {
       "output_type": "stream",
       "stream": "stdout",
       "text": [
        "\n",
        "22628"
       ]
      },
      {
       "output_type": "stream",
       "stream": "stdout",
       "text": [
        "\n",
        "22629"
       ]
      },
      {
       "output_type": "stream",
       "stream": "stdout",
       "text": [
        "\n",
        "22630"
       ]
      },
      {
       "output_type": "stream",
       "stream": "stdout",
       "text": [
        "\n",
        "22632"
       ]
      },
      {
       "output_type": "stream",
       "stream": "stdout",
       "text": [
        "\n",
        "22633"
       ]
      },
      {
       "output_type": "stream",
       "stream": "stdout",
       "text": [
        "\n",
        "22635"
       ]
      },
      {
       "output_type": "stream",
       "stream": "stdout",
       "text": [
        "\n",
        "22637"
       ]
      },
      {
       "output_type": "stream",
       "stream": "stdout",
       "text": [
        "\n",
        "22638"
       ]
      },
      {
       "output_type": "stream",
       "stream": "stdout",
       "text": [
        "\n",
        "22639"
       ]
      },
      {
       "output_type": "stream",
       "stream": "stdout",
       "text": [
        "\n",
        "22640"
       ]
      },
      {
       "output_type": "stream",
       "stream": "stdout",
       "text": [
        "\n",
        "22645"
       ]
      },
      {
       "output_type": "stream",
       "stream": "stdout",
       "text": [
        "\n",
        "22646"
       ]
      },
      {
       "output_type": "stream",
       "stream": "stdout",
       "text": [
        "\n",
        "22647"
       ]
      },
      {
       "output_type": "stream",
       "stream": "stdout",
       "text": [
        "\n",
        "22648"
       ]
      },
      {
       "output_type": "stream",
       "stream": "stdout",
       "text": [
        "\n",
        "22649"
       ]
      },
      {
       "output_type": "stream",
       "stream": "stdout",
       "text": [
        "\n",
        "22650"
       ]
      },
      {
       "output_type": "stream",
       "stream": "stdout",
       "text": [
        "\n",
        "22651"
       ]
      },
      {
       "output_type": "stream",
       "stream": "stdout",
       "text": [
        "\n",
        "22652"
       ]
      },
      {
       "output_type": "stream",
       "stream": "stdout",
       "text": [
        "\n",
        "22653"
       ]
      },
      {
       "output_type": "stream",
       "stream": "stdout",
       "text": [
        "\n",
        "22655"
       ]
      },
      {
       "output_type": "stream",
       "stream": "stdout",
       "text": [
        "\n",
        "22656"
       ]
      },
      {
       "output_type": "stream",
       "stream": "stdout",
       "text": [
        "\n",
        "22657"
       ]
      },
      {
       "output_type": "stream",
       "stream": "stdout",
       "text": [
        "\n",
        "22658"
       ]
      },
      {
       "output_type": "stream",
       "stream": "stdout",
       "text": [
        "\n",
        "22659"
       ]
      },
      {
       "output_type": "stream",
       "stream": "stdout",
       "text": [
        "\n",
        "22662"
       ]
      },
      {
       "output_type": "stream",
       "stream": "stdout",
       "text": [
        "\n",
        "22664"
       ]
      },
      {
       "output_type": "stream",
       "stream": "stdout",
       "text": [
        "\n",
        "22665"
       ]
      },
      {
       "output_type": "stream",
       "stream": "stdout",
       "text": [
        "\n",
        "22666"
       ]
      },
      {
       "output_type": "stream",
       "stream": "stdout",
       "text": [
        "\n",
        "22668"
       ]
      },
      {
       "output_type": "stream",
       "stream": "stdout",
       "text": [
        "\n",
        "22671"
       ]
      },
      {
       "output_type": "stream",
       "stream": "stdout",
       "text": [
        "\n",
        "22672"
       ]
      },
      {
       "output_type": "stream",
       "stream": "stdout",
       "text": [
        "\n",
        "22673"
       ]
      },
      {
       "output_type": "stream",
       "stream": "stdout",
       "text": [
        "\n",
        "22674"
       ]
      },
      {
       "output_type": "stream",
       "stream": "stdout",
       "text": [
        "\n",
        "22676"
       ]
      },
      {
       "output_type": "stream",
       "stream": "stdout",
       "text": [
        "\n",
        "22679"
       ]
      },
      {
       "output_type": "stream",
       "stream": "stdout",
       "text": [
        "\n",
        "22681"
       ]
      },
      {
       "output_type": "stream",
       "stream": "stdout",
       "text": [
        "\n",
        "22682"
       ]
      },
      {
       "output_type": "stream",
       "stream": "stdout",
       "text": [
        "\n",
        "22683"
       ]
      },
      {
       "output_type": "stream",
       "stream": "stdout",
       "text": [
        "\n",
        "22684"
       ]
      },
      {
       "output_type": "stream",
       "stream": "stdout",
       "text": [
        "\n",
        "22685"
       ]
      },
      {
       "output_type": "stream",
       "stream": "stdout",
       "text": [
        "\n",
        "22686"
       ]
      },
      {
       "output_type": "stream",
       "stream": "stdout",
       "text": [
        "\n",
        "22688"
       ]
      },
      {
       "output_type": "stream",
       "stream": "stdout",
       "text": [
        "\n",
        "22690"
       ]
      },
      {
       "output_type": "stream",
       "stream": "stdout",
       "text": [
        "\n",
        "22691"
       ]
      },
      {
       "output_type": "stream",
       "stream": "stdout",
       "text": [
        "\n",
        "22692"
       ]
      },
      {
       "output_type": "stream",
       "stream": "stdout",
       "text": [
        "\n",
        "22693"
       ]
      },
      {
       "output_type": "stream",
       "stream": "stdout",
       "text": [
        "\n",
        "22694"
       ]
      },
      {
       "output_type": "stream",
       "stream": "stdout",
       "text": [
        "\n",
        "22695"
       ]
      },
      {
       "output_type": "stream",
       "stream": "stdout",
       "text": [
        "\n",
        "22696"
       ]
      },
      {
       "output_type": "stream",
       "stream": "stdout",
       "text": [
        "\n",
        "22697"
       ]
      },
      {
       "output_type": "stream",
       "stream": "stdout",
       "text": [
        "\n",
        "22698"
       ]
      },
      {
       "output_type": "stream",
       "stream": "stdout",
       "text": [
        "\n",
        "22699"
       ]
      },
      {
       "output_type": "stream",
       "stream": "stdout",
       "text": [
        "\n",
        "22701"
       ]
      },
      {
       "output_type": "stream",
       "stream": "stdout",
       "text": [
        "\n",
        "22702"
       ]
      },
      {
       "output_type": "stream",
       "stream": "stdout",
       "text": [
        "\n",
        "22703"
       ]
      },
      {
       "output_type": "stream",
       "stream": "stdout",
       "text": [
        "\n",
        "22704"
       ]
      },
      {
       "output_type": "stream",
       "stream": "stdout",
       "text": [
        "\n",
        "22705"
       ]
      },
      {
       "output_type": "stream",
       "stream": "stdout",
       "text": [
        "\n",
        "22706"
       ]
      },
      {
       "output_type": "stream",
       "stream": "stdout",
       "text": [
        "\n",
        "22707"
       ]
      },
      {
       "output_type": "stream",
       "stream": "stdout",
       "text": [
        "\n",
        "22708"
       ]
      },
      {
       "output_type": "stream",
       "stream": "stdout",
       "text": [
        "\n",
        "22709"
       ]
      },
      {
       "output_type": "stream",
       "stream": "stdout",
       "text": [
        "\n",
        "22710"
       ]
      },
      {
       "output_type": "stream",
       "stream": "stdout",
       "text": [
        "\n",
        "22711"
       ]
      },
      {
       "output_type": "stream",
       "stream": "stdout",
       "text": [
        "\n",
        "22712"
       ]
      },
      {
       "output_type": "stream",
       "stream": "stdout",
       "text": [
        "\n",
        "22715"
       ]
      },
      {
       "output_type": "stream",
       "stream": "stdout",
       "text": [
        "\n",
        "22716"
       ]
      },
      {
       "output_type": "stream",
       "stream": "stdout",
       "text": [
        "\n",
        "22717"
       ]
      },
      {
       "output_type": "stream",
       "stream": "stdout",
       "text": [
        "\n",
        "22718"
       ]
      },
      {
       "output_type": "stream",
       "stream": "stdout",
       "text": [
        "\n",
        "22720"
       ]
      },
      {
       "output_type": "stream",
       "stream": "stdout",
       "text": [
        "\n",
        "22721"
       ]
      },
      {
       "output_type": "stream",
       "stream": "stdout",
       "text": [
        "\n",
        "22722"
       ]
      },
      {
       "output_type": "stream",
       "stream": "stdout",
       "text": [
        "\n",
        "22723"
       ]
      },
      {
       "output_type": "stream",
       "stream": "stdout",
       "text": [
        "\n",
        "22724"
       ]
      },
      {
       "output_type": "stream",
       "stream": "stdout",
       "text": [
        "\n",
        "22725"
       ]
      },
      {
       "output_type": "stream",
       "stream": "stdout",
       "text": [
        "\n",
        "22726"
       ]
      },
      {
       "output_type": "stream",
       "stream": "stdout",
       "text": [
        "\n",
        "22727"
       ]
      },
      {
       "output_type": "stream",
       "stream": "stdout",
       "text": [
        "\n",
        "22728"
       ]
      },
      {
       "output_type": "stream",
       "stream": "stdout",
       "text": [
        "\n",
        "22729"
       ]
      },
      {
       "output_type": "stream",
       "stream": "stdout",
       "text": [
        "\n",
        "22730"
       ]
      },
      {
       "output_type": "stream",
       "stream": "stdout",
       "text": [
        "\n",
        "22732"
       ]
      },
      {
       "output_type": "stream",
       "stream": "stdout",
       "text": [
        "\n",
        "22733"
       ]
      },
      {
       "output_type": "stream",
       "stream": "stdout",
       "text": [
        "\n",
        "22734"
       ]
      },
      {
       "output_type": "stream",
       "stream": "stdout",
       "text": [
        "\n",
        "22736"
       ]
      },
      {
       "output_type": "stream",
       "stream": "stdout",
       "text": [
        "\n",
        "22737"
       ]
      },
      {
       "output_type": "stream",
       "stream": "stdout",
       "text": [
        "\n",
        "22739"
       ]
      },
      {
       "output_type": "stream",
       "stream": "stdout",
       "text": [
        "\n",
        "22741"
       ]
      },
      {
       "output_type": "stream",
       "stream": "stdout",
       "text": [
        "\n",
        "22742"
       ]
      },
      {
       "output_type": "stream",
       "stream": "stdout",
       "text": [
        "\n",
        "22744"
       ]
      },
      {
       "output_type": "stream",
       "stream": "stdout",
       "text": [
        "\n",
        "22745"
       ]
      },
      {
       "output_type": "stream",
       "stream": "stdout",
       "text": [
        "\n",
        "22746"
       ]
      },
      {
       "output_type": "stream",
       "stream": "stdout",
       "text": [
        "\n",
        "22747"
       ]
      },
      {
       "output_type": "stream",
       "stream": "stdout",
       "text": [
        "\n",
        "22748"
       ]
      },
      {
       "output_type": "stream",
       "stream": "stdout",
       "text": [
        "\n",
        "22749"
       ]
      },
      {
       "output_type": "stream",
       "stream": "stdout",
       "text": [
        "\n",
        "22750"
       ]
      },
      {
       "output_type": "stream",
       "stream": "stdout",
       "text": [
        "\n",
        "22752"
       ]
      },
      {
       "output_type": "stream",
       "stream": "stdout",
       "text": [
        "\n",
        "22753\n",
        "22754"
       ]
      },
      {
       "output_type": "stream",
       "stream": "stdout",
       "text": [
        "\n",
        "22757"
       ]
      },
      {
       "output_type": "stream",
       "stream": "stdout",
       "text": [
        "\n",
        "22759"
       ]
      },
      {
       "output_type": "stream",
       "stream": "stdout",
       "text": [
        "\n",
        "22760"
       ]
      },
      {
       "output_type": "stream",
       "stream": "stdout",
       "text": [
        "\n",
        "22761"
       ]
      },
      {
       "output_type": "stream",
       "stream": "stdout",
       "text": [
        "\n",
        "22762"
       ]
      },
      {
       "output_type": "stream",
       "stream": "stdout",
       "text": [
        "\n",
        "22763"
       ]
      },
      {
       "output_type": "stream",
       "stream": "stdout",
       "text": [
        "\n",
        "22764"
       ]
      },
      {
       "output_type": "stream",
       "stream": "stdout",
       "text": [
        "\n",
        "22767"
       ]
      },
      {
       "output_type": "stream",
       "stream": "stdout",
       "text": [
        "\n",
        "22768"
       ]
      },
      {
       "output_type": "stream",
       "stream": "stdout",
       "text": [
        "\n",
        "22769"
       ]
      },
      {
       "output_type": "stream",
       "stream": "stdout",
       "text": [
        "\n",
        "22770"
       ]
      },
      {
       "output_type": "stream",
       "stream": "stdout",
       "text": [
        "\n",
        "22771"
       ]
      },
      {
       "output_type": "stream",
       "stream": "stdout",
       "text": [
        "\n",
        "22773"
       ]
      },
      {
       "output_type": "stream",
       "stream": "stdout",
       "text": [
        "\n",
        "22776"
       ]
      },
      {
       "output_type": "stream",
       "stream": "stdout",
       "text": [
        "\n",
        "22777"
       ]
      },
      {
       "output_type": "stream",
       "stream": "stdout",
       "text": [
        "\n",
        "22780"
       ]
      },
      {
       "output_type": "stream",
       "stream": "stdout",
       "text": [
        "\n",
        "22781"
       ]
      },
      {
       "output_type": "stream",
       "stream": "stdout",
       "text": [
        "\n",
        "22782"
       ]
      },
      {
       "output_type": "stream",
       "stream": "stdout",
       "text": [
        "\n",
        "22783"
       ]
      },
      {
       "output_type": "stream",
       "stream": "stdout",
       "text": [
        "\n",
        "22784"
       ]
      },
      {
       "output_type": "stream",
       "stream": "stdout",
       "text": [
        "\n",
        "22787"
       ]
      },
      {
       "output_type": "stream",
       "stream": "stdout",
       "text": [
        "\n",
        "22788"
       ]
      },
      {
       "output_type": "stream",
       "stream": "stdout",
       "text": [
        "\n",
        "22789"
       ]
      },
      {
       "output_type": "stream",
       "stream": "stdout",
       "text": [
        "\n",
        "22791"
       ]
      },
      {
       "output_type": "stream",
       "stream": "stdout",
       "text": [
        "\n",
        "22792"
       ]
      },
      {
       "output_type": "stream",
       "stream": "stdout",
       "text": [
        "\n",
        "22793"
       ]
      },
      {
       "output_type": "stream",
       "stream": "stdout",
       "text": [
        "\n",
        "22794\n",
        "22795"
       ]
      },
      {
       "output_type": "stream",
       "stream": "stdout",
       "text": [
        "\n",
        "22796"
       ]
      },
      {
       "output_type": "stream",
       "stream": "stdout",
       "text": [
        "\n",
        "22797"
       ]
      },
      {
       "output_type": "stream",
       "stream": "stdout",
       "text": [
        "\n",
        "22801"
       ]
      },
      {
       "output_type": "stream",
       "stream": "stdout",
       "text": [
        "\n",
        "22803"
       ]
      },
      {
       "output_type": "stream",
       "stream": "stdout",
       "text": [
        "\n",
        "22804"
       ]
      },
      {
       "output_type": "stream",
       "stream": "stdout",
       "text": [
        "\n",
        "22805"
       ]
      },
      {
       "output_type": "stream",
       "stream": "stdout",
       "text": [
        "\n",
        "22806"
       ]
      },
      {
       "output_type": "stream",
       "stream": "stdout",
       "text": [
        "\n",
        "22807"
       ]
      },
      {
       "output_type": "stream",
       "stream": "stdout",
       "text": [
        "\n",
        "22808"
       ]
      },
      {
       "output_type": "stream",
       "stream": "stdout",
       "text": [
        "\n",
        "22809"
       ]
      },
      {
       "output_type": "stream",
       "stream": "stdout",
       "text": [
        "\n",
        "22810"
       ]
      },
      {
       "output_type": "stream",
       "stream": "stdout",
       "text": [
        "\n",
        "22811"
       ]
      },
      {
       "output_type": "stream",
       "stream": "stdout",
       "text": [
        "\n",
        "22812"
       ]
      },
      {
       "output_type": "stream",
       "stream": "stdout",
       "text": [
        "\n",
        "22813"
       ]
      },
      {
       "output_type": "stream",
       "stream": "stdout",
       "text": [
        "\n",
        "22814"
       ]
      },
      {
       "output_type": "stream",
       "stream": "stdout",
       "text": [
        "\n",
        "22816"
       ]
      },
      {
       "output_type": "stream",
       "stream": "stdout",
       "text": [
        "\n",
        "22817"
       ]
      },
      {
       "output_type": "stream",
       "stream": "stdout",
       "text": [
        "\n",
        "22818"
       ]
      },
      {
       "output_type": "stream",
       "stream": "stdout",
       "text": [
        "\n",
        "22819"
       ]
      },
      {
       "output_type": "stream",
       "stream": "stdout",
       "text": [
        "\n",
        "22820"
       ]
      },
      {
       "output_type": "stream",
       "stream": "stdout",
       "text": [
        "\n",
        "22821"
       ]
      },
      {
       "output_type": "stream",
       "stream": "stdout",
       "text": [
        "\n",
        "22822"
       ]
      },
      {
       "output_type": "stream",
       "stream": "stdout",
       "text": [
        "\n",
        "22823"
       ]
      },
      {
       "output_type": "stream",
       "stream": "stdout",
       "text": [
        "\n",
        "22824\n",
        "22825"
       ]
      },
      {
       "output_type": "stream",
       "stream": "stdout",
       "text": [
        "\n",
        "22826"
       ]
      },
      {
       "output_type": "stream",
       "stream": "stdout",
       "text": [
        "\n",
        "22827"
       ]
      },
      {
       "output_type": "stream",
       "stream": "stdout",
       "text": [
        "\n",
        "22829"
       ]
      },
      {
       "output_type": "stream",
       "stream": "stdout",
       "text": [
        "\n",
        "22830"
       ]
      },
      {
       "output_type": "stream",
       "stream": "stdout",
       "text": [
        "\n",
        "22831"
       ]
      },
      {
       "output_type": "stream",
       "stream": "stdout",
       "text": [
        "\n",
        "22832"
       ]
      },
      {
       "output_type": "stream",
       "stream": "stdout",
       "text": [
        "\n",
        "22833"
       ]
      },
      {
       "output_type": "stream",
       "stream": "stdout",
       "text": [
        "\n",
        "22834"
       ]
      },
      {
       "output_type": "stream",
       "stream": "stdout",
       "text": [
        "\n",
        "22835"
       ]
      },
      {
       "output_type": "stream",
       "stream": "stdout",
       "text": [
        "\n",
        "22836"
       ]
      },
      {
       "output_type": "stream",
       "stream": "stdout",
       "text": [
        "\n",
        "22837"
       ]
      },
      {
       "output_type": "stream",
       "stream": "stdout",
       "text": [
        "\n",
        "22838"
       ]
      },
      {
       "output_type": "stream",
       "stream": "stdout",
       "text": [
        "\n",
        "22840"
       ]
      },
      {
       "output_type": "stream",
       "stream": "stdout",
       "text": [
        "\n",
        "22842"
       ]
      },
      {
       "output_type": "stream",
       "stream": "stdout",
       "text": [
        "\n",
        "22843"
       ]
      },
      {
       "output_type": "stream",
       "stream": "stdout",
       "text": [
        "\n",
        "22844"
       ]
      },
      {
       "output_type": "stream",
       "stream": "stdout",
       "text": [
        "\n",
        "22845"
       ]
      },
      {
       "output_type": "stream",
       "stream": "stdout",
       "text": [
        "\n",
        "22846"
       ]
      },
      {
       "output_type": "stream",
       "stream": "stdout",
       "text": [
        "\n",
        "22847"
       ]
      },
      {
       "output_type": "stream",
       "stream": "stdout",
       "text": [
        "\n",
        "22849"
       ]
      },
      {
       "output_type": "stream",
       "stream": "stdout",
       "text": [
        "\n",
        "22850"
       ]
      },
      {
       "output_type": "stream",
       "stream": "stdout",
       "text": [
        "\n",
        "22851"
       ]
      },
      {
       "output_type": "stream",
       "stream": "stdout",
       "text": [
        "\n",
        "22852"
       ]
      },
      {
       "output_type": "stream",
       "stream": "stdout",
       "text": [
        "\n",
        "22853"
       ]
      },
      {
       "output_type": "stream",
       "stream": "stdout",
       "text": [
        "\n",
        "22854"
       ]
      },
      {
       "output_type": "stream",
       "stream": "stdout",
       "text": [
        "\n",
        "22855"
       ]
      },
      {
       "output_type": "stream",
       "stream": "stdout",
       "text": [
        "\n",
        "22856"
       ]
      },
      {
       "output_type": "stream",
       "stream": "stdout",
       "text": [
        "\n",
        "22857"
       ]
      },
      {
       "output_type": "stream",
       "stream": "stdout",
       "text": [
        "\n",
        "22858\n",
        "22859"
       ]
      },
      {
       "output_type": "stream",
       "stream": "stdout",
       "text": [
        "\n",
        "22860"
       ]
      },
      {
       "output_type": "stream",
       "stream": "stdout",
       "text": [
        "\n",
        "22862"
       ]
      },
      {
       "output_type": "stream",
       "stream": "stdout",
       "text": [
        "\n",
        "22863"
       ]
      },
      {
       "output_type": "stream",
       "stream": "stdout",
       "text": [
        "\n",
        "22864"
       ]
      },
      {
       "output_type": "stream",
       "stream": "stdout",
       "text": [
        "\n",
        "22865"
       ]
      },
      {
       "output_type": "stream",
       "stream": "stdout",
       "text": [
        "\n",
        "22866"
       ]
      },
      {
       "output_type": "stream",
       "stream": "stdout",
       "text": [
        "\n",
        "22867"
       ]
      },
      {
       "output_type": "stream",
       "stream": "stdout",
       "text": [
        "\n",
        "22868"
       ]
      },
      {
       "output_type": "stream",
       "stream": "stdout",
       "text": [
        "\n",
        "22870"
       ]
      },
      {
       "output_type": "stream",
       "stream": "stdout",
       "text": [
        "\n",
        "22871"
       ]
      },
      {
       "output_type": "stream",
       "stream": "stdout",
       "text": [
        "\n",
        "22872\n",
        "22875"
       ]
      },
      {
       "output_type": "stream",
       "stream": "stdout",
       "text": [
        "\n",
        "22876"
       ]
      },
      {
       "output_type": "stream",
       "stream": "stdout",
       "text": [
        "\n",
        "22878"
       ]
      },
      {
       "output_type": "stream",
       "stream": "stdout",
       "text": [
        "\n",
        "22880"
       ]
      },
      {
       "output_type": "stream",
       "stream": "stdout",
       "text": [
        "\n",
        "22881"
       ]
      },
      {
       "output_type": "stream",
       "stream": "stdout",
       "text": [
        "\n",
        "22882"
       ]
      },
      {
       "output_type": "stream",
       "stream": "stdout",
       "text": [
        "\n",
        "22885"
       ]
      },
      {
       "output_type": "stream",
       "stream": "stdout",
       "text": [
        "\n",
        "22886"
       ]
      },
      {
       "output_type": "stream",
       "stream": "stdout",
       "text": [
        "\n",
        "22888"
       ]
      },
      {
       "output_type": "stream",
       "stream": "stdout",
       "text": [
        "\n",
        "22889"
       ]
      },
      {
       "output_type": "stream",
       "stream": "stdout",
       "text": [
        "\n",
        "22891"
       ]
      },
      {
       "output_type": "stream",
       "stream": "stdout",
       "text": [
        "\n",
        "22893"
       ]
      },
      {
       "output_type": "stream",
       "stream": "stdout",
       "text": [
        "\n",
        "22894"
       ]
      },
      {
       "output_type": "stream",
       "stream": "stdout",
       "text": [
        "\n",
        "22895"
       ]
      },
      {
       "output_type": "stream",
       "stream": "stdout",
       "text": [
        "\n",
        "22897"
       ]
      },
      {
       "output_type": "stream",
       "stream": "stdout",
       "text": [
        "\n",
        "22898"
       ]
      },
      {
       "output_type": "stream",
       "stream": "stdout",
       "text": [
        "\n",
        "22901"
       ]
      },
      {
       "output_type": "stream",
       "stream": "stdout",
       "text": [
        "\n",
        "22904"
       ]
      },
      {
       "output_type": "stream",
       "stream": "stdout",
       "text": [
        "\n",
        "22906"
       ]
      },
      {
       "output_type": "stream",
       "stream": "stdout",
       "text": [
        "\n",
        "22907"
       ]
      },
      {
       "output_type": "stream",
       "stream": "stdout",
       "text": [
        "\n",
        "22910"
       ]
      },
      {
       "output_type": "stream",
       "stream": "stdout",
       "text": [
        "\n",
        "22913"
       ]
      },
      {
       "output_type": "stream",
       "stream": "stdout",
       "text": [
        "\n",
        "22914"
       ]
      },
      {
       "output_type": "stream",
       "stream": "stdout",
       "text": [
        "\n",
        "22915"
       ]
      },
      {
       "output_type": "stream",
       "stream": "stdout",
       "text": [
        "\n",
        "22917"
       ]
      },
      {
       "output_type": "stream",
       "stream": "stdout",
       "text": [
        "\n",
        "22923"
       ]
      },
      {
       "output_type": "stream",
       "stream": "stdout",
       "text": [
        "\n",
        "22924"
       ]
      },
      {
       "output_type": "stream",
       "stream": "stdout",
       "text": [
        "\n",
        "22925"
       ]
      },
      {
       "output_type": "stream",
       "stream": "stdout",
       "text": [
        "\n",
        "22927"
       ]
      },
      {
       "output_type": "stream",
       "stream": "stdout",
       "text": [
        "\n",
        "22928"
       ]
      },
      {
       "output_type": "stream",
       "stream": "stdout",
       "text": [
        "\n",
        "22929"
       ]
      },
      {
       "output_type": "stream",
       "stream": "stdout",
       "text": [
        "\n",
        "22930"
       ]
      },
      {
       "output_type": "stream",
       "stream": "stdout",
       "text": [
        "\n",
        "22933"
       ]
      },
      {
       "output_type": "stream",
       "stream": "stdout",
       "text": [
        "\n",
        "22934"
       ]
      },
      {
       "output_type": "stream",
       "stream": "stdout",
       "text": [
        "\n",
        "22935"
       ]
      },
      {
       "output_type": "stream",
       "stream": "stdout",
       "text": [
        "\n",
        "22936"
       ]
      },
      {
       "output_type": "stream",
       "stream": "stdout",
       "text": [
        "\n",
        "22937"
       ]
      },
      {
       "output_type": "stream",
       "stream": "stdout",
       "text": [
        "\n",
        "22938"
       ]
      },
      {
       "output_type": "stream",
       "stream": "stdout",
       "text": [
        "\n",
        "22939"
       ]
      },
      {
       "output_type": "stream",
       "stream": "stdout",
       "text": [
        "\n",
        "22941"
       ]
      },
      {
       "output_type": "stream",
       "stream": "stdout",
       "text": [
        "\n",
        "22942"
       ]
      },
      {
       "output_type": "stream",
       "stream": "stdout",
       "text": [
        "\n",
        "22943"
       ]
      },
      {
       "output_type": "stream",
       "stream": "stdout",
       "text": [
        "\n",
        "22944"
       ]
      },
      {
       "output_type": "stream",
       "stream": "stdout",
       "text": [
        "\n",
        "22945"
       ]
      },
      {
       "output_type": "stream",
       "stream": "stdout",
       "text": [
        "\n",
        "22946"
       ]
      },
      {
       "output_type": "stream",
       "stream": "stdout",
       "text": [
        "\n",
        "22948"
       ]
      },
      {
       "output_type": "stream",
       "stream": "stdout",
       "text": [
        "\n",
        "22949"
       ]
      },
      {
       "output_type": "stream",
       "stream": "stdout",
       "text": [
        "\n",
        "22953"
       ]
      },
      {
       "output_type": "stream",
       "stream": "stdout",
       "text": [
        "\n",
        "22955"
       ]
      },
      {
       "output_type": "stream",
       "stream": "stdout",
       "text": [
        "\n",
        "22958"
       ]
      },
      {
       "output_type": "stream",
       "stream": "stdout",
       "text": [
        "\n",
        "22959"
       ]
      },
      {
       "output_type": "stream",
       "stream": "stdout",
       "text": [
        "\n",
        "22960"
       ]
      },
      {
       "output_type": "stream",
       "stream": "stdout",
       "text": [
        "\n",
        "22961"
       ]
      },
      {
       "output_type": "stream",
       "stream": "stdout",
       "text": [
        "\n",
        "22963"
       ]
      },
      {
       "output_type": "stream",
       "stream": "stdout",
       "text": [
        "\n",
        "22964"
       ]
      },
      {
       "output_type": "stream",
       "stream": "stdout",
       "text": [
        "\n",
        "22965"
       ]
      },
      {
       "output_type": "stream",
       "stream": "stdout",
       "text": [
        "\n",
        "22966"
       ]
      },
      {
       "output_type": "stream",
       "stream": "stdout",
       "text": [
        "\n",
        "22967"
       ]
      },
      {
       "output_type": "stream",
       "stream": "stdout",
       "text": [
        "\n",
        "22968"
       ]
      },
      {
       "output_type": "stream",
       "stream": "stdout",
       "text": [
        "\n",
        "22970"
       ]
      },
      {
       "output_type": "stream",
       "stream": "stdout",
       "text": [
        "\n",
        "22971"
       ]
      },
      {
       "output_type": "stream",
       "stream": "stdout",
       "text": [
        "\n",
        "22972"
       ]
      },
      {
       "output_type": "stream",
       "stream": "stdout",
       "text": [
        "\n",
        "22973"
       ]
      },
      {
       "output_type": "stream",
       "stream": "stdout",
       "text": [
        "\n",
        "22974"
       ]
      },
      {
       "output_type": "stream",
       "stream": "stdout",
       "text": [
        "\n",
        "22975"
       ]
      },
      {
       "output_type": "stream",
       "stream": "stdout",
       "text": [
        "\n",
        "22977"
       ]
      },
      {
       "output_type": "stream",
       "stream": "stdout",
       "text": [
        "\n",
        "22978"
       ]
      },
      {
       "output_type": "stream",
       "stream": "stdout",
       "text": [
        "\n",
        "22979"
       ]
      },
      {
       "output_type": "stream",
       "stream": "stdout",
       "text": [
        "\n",
        "22980"
       ]
      },
      {
       "output_type": "stream",
       "stream": "stdout",
       "text": [
        "\n",
        "22982"
       ]
      },
      {
       "output_type": "stream",
       "stream": "stdout",
       "text": [
        "\n",
        "22983"
       ]
      },
      {
       "output_type": "stream",
       "stream": "stdout",
       "text": [
        "\n",
        "22984"
       ]
      },
      {
       "output_type": "stream",
       "stream": "stdout",
       "text": [
        "\n",
        "22987"
       ]
      },
      {
       "output_type": "stream",
       "stream": "stdout",
       "text": [
        "\n",
        "22988"
       ]
      },
      {
       "output_type": "stream",
       "stream": "stdout",
       "text": [
        "\n",
        "22989"
       ]
      },
      {
       "output_type": "stream",
       "stream": "stdout",
       "text": [
        "\n",
        "22991"
       ]
      },
      {
       "output_type": "stream",
       "stream": "stdout",
       "text": [
        "\n",
        "22992"
       ]
      },
      {
       "output_type": "stream",
       "stream": "stdout",
       "text": [
        "\n",
        "22993"
       ]
      },
      {
       "output_type": "stream",
       "stream": "stdout",
       "text": [
        "\n",
        "22994"
       ]
      },
      {
       "output_type": "stream",
       "stream": "stdout",
       "text": [
        "\n",
        "22996\n",
        "22997"
       ]
      },
      {
       "output_type": "stream",
       "stream": "stdout",
       "text": [
        "\n",
        "22998"
       ]
      },
      {
       "output_type": "stream",
       "stream": "stdout",
       "text": [
        "\n",
        "23006"
       ]
      },
      {
       "output_type": "stream",
       "stream": "stdout",
       "text": [
        "\n",
        "22441"
       ]
      },
      {
       "output_type": "stream",
       "stream": "stdout",
       "text": [
        "\n",
        "22442"
       ]
      },
      {
       "output_type": "stream",
       "stream": "stdout",
       "text": [
        "\n",
        "22444"
       ]
      },
      {
       "output_type": "stream",
       "stream": "stdout",
       "text": [
        "\n",
        "22445"
       ]
      },
      {
       "output_type": "stream",
       "stream": "stdout",
       "text": [
        "\n",
        "22447"
       ]
      },
      {
       "output_type": "stream",
       "stream": "stdout",
       "text": [
        "\n",
        "22449"
       ]
      },
      {
       "output_type": "stream",
       "stream": "stdout",
       "text": [
        "\n",
        "22450"
       ]
      },
      {
       "output_type": "stream",
       "stream": "stdout",
       "text": [
        "\n",
        "22452"
       ]
      },
      {
       "output_type": "stream",
       "stream": "stdout",
       "text": [
        "\n",
        "22453"
       ]
      },
      {
       "output_type": "stream",
       "stream": "stdout",
       "text": [
        "\n",
        "22455"
       ]
      },
      {
       "output_type": "stream",
       "stream": "stdout",
       "text": [
        "\n",
        "22459"
       ]
      },
      {
       "output_type": "stream",
       "stream": "stdout",
       "text": [
        "\n",
        "22461"
       ]
      },
      {
       "output_type": "stream",
       "stream": "stdout",
       "text": [
        "\n",
        "22462"
       ]
      },
      {
       "output_type": "stream",
       "stream": "stdout",
       "text": [
        "\n",
        "22463"
       ]
      },
      {
       "output_type": "stream",
       "stream": "stdout",
       "text": [
        "\n",
        "22466"
       ]
      },
      {
       "output_type": "stream",
       "stream": "stdout",
       "text": [
        "\n",
        "22467"
       ]
      },
      {
       "output_type": "stream",
       "stream": "stdout",
       "text": [
        "\n",
        "22473"
       ]
      },
      {
       "output_type": "stream",
       "stream": "stdout",
       "text": [
        "\n",
        "22474"
       ]
      },
      {
       "output_type": "stream",
       "stream": "stdout",
       "text": [
        "\n",
        "22475"
       ]
      },
      {
       "output_type": "stream",
       "stream": "stdout",
       "text": [
        "\n",
        "22477"
       ]
      },
      {
       "output_type": "stream",
       "stream": "stdout",
       "text": [
        "\n",
        "22479"
       ]
      },
      {
       "output_type": "stream",
       "stream": "stdout",
       "text": [
        "\n",
        "22482"
       ]
      },
      {
       "output_type": "stream",
       "stream": "stdout",
       "text": [
        "\n",
        "22483"
       ]
      },
      {
       "output_type": "stream",
       "stream": "stdout",
       "text": [
        "\n",
        "22484"
       ]
      },
      {
       "output_type": "stream",
       "stream": "stdout",
       "text": [
        "\n",
        "22487"
       ]
      },
      {
       "output_type": "stream",
       "stream": "stdout",
       "text": [
        "\n",
        "22488"
       ]
      },
      {
       "output_type": "stream",
       "stream": "stdout",
       "text": [
        "\n",
        "22489"
       ]
      },
      {
       "output_type": "stream",
       "stream": "stdout",
       "text": [
        "\n",
        "22490"
       ]
      },
      {
       "output_type": "stream",
       "stream": "stdout",
       "text": [
        "\n",
        "22491"
       ]
      },
      {
       "output_type": "stream",
       "stream": "stdout",
       "text": [
        "\n",
        "22493"
       ]
      },
      {
       "output_type": "stream",
       "stream": "stdout",
       "text": [
        "\n",
        "22494"
       ]
      },
      {
       "output_type": "stream",
       "stream": "stdout",
       "text": [
        "\n",
        "22495"
       ]
      },
      {
       "output_type": "stream",
       "stream": "stdout",
       "text": [
        "\n",
        "22502"
       ]
      },
      {
       "output_type": "stream",
       "stream": "stdout",
       "text": [
        "\n",
        "22503"
       ]
      },
      {
       "output_type": "stream",
       "stream": "stdout",
       "text": [
        "\n",
        "22505"
       ]
      },
      {
       "output_type": "stream",
       "stream": "stdout",
       "text": [
        "\n",
        "22506"
       ]
      },
      {
       "output_type": "stream",
       "stream": "stdout",
       "text": [
        "\n",
        "22507"
       ]
      },
      {
       "output_type": "stream",
       "stream": "stdout",
       "text": [
        "\n",
        "22508"
       ]
      },
      {
       "output_type": "stream",
       "stream": "stdout",
       "text": [
        "\n",
        "22509"
       ]
      },
      {
       "output_type": "stream",
       "stream": "stdout",
       "text": [
        "\n",
        "22510"
       ]
      },
      {
       "output_type": "stream",
       "stream": "stdout",
       "text": [
        "\n",
        "22511"
       ]
      },
      {
       "output_type": "stream",
       "stream": "stdout",
       "text": [
        "\n",
        "22512"
       ]
      },
      {
       "output_type": "stream",
       "stream": "stdout",
       "text": [
        "\n",
        "22513"
       ]
      },
      {
       "output_type": "stream",
       "stream": "stdout",
       "text": [
        "\n",
        "22514"
       ]
      },
      {
       "output_type": "stream",
       "stream": "stdout",
       "text": [
        "\n",
        "22515"
       ]
      },
      {
       "output_type": "stream",
       "stream": "stdout",
       "text": [
        "\n",
        "22516"
       ]
      },
      {
       "output_type": "stream",
       "stream": "stdout",
       "text": [
        "\n",
        "22517"
       ]
      },
      {
       "output_type": "stream",
       "stream": "stdout",
       "text": [
        "\n",
        "22518"
       ]
      },
      {
       "output_type": "stream",
       "stream": "stdout",
       "text": [
        "\n",
        "22520"
       ]
      },
      {
       "output_type": "stream",
       "stream": "stdout",
       "text": [
        "\n",
        "22521"
       ]
      },
      {
       "output_type": "stream",
       "stream": "stdout",
       "text": [
        "\n",
        "22523"
       ]
      },
      {
       "output_type": "stream",
       "stream": "stdout",
       "text": [
        "\n",
        "22525"
       ]
      },
      {
       "output_type": "stream",
       "stream": "stdout",
       "text": [
        "\n",
        "22527"
       ]
      },
      {
       "output_type": "stream",
       "stream": "stdout",
       "text": [
        "\n"
       ]
      },
      {
       "metadata": {},
       "output_type": "pyout",
       "prompt_number": 42,
       "text": [
        "{22441: {'Hana Shalabi': 0},\n",
        " 22442: {'Iyad Jandiya': 0, 'Obeid': 0, 'Tayseer al-Qanou': 0},\n",
        " 22444: {'Karima Abu Dalal': 0,\n",
        "  'Muhammad al-Hurani': 0,\n",
        "  'Nufuz Husni': 0,\n",
        "  'Rami Al-Arouqi': 0,\n",
        "  'Rami al-Masri': 0,\n",
        "  'Sameer Taleb': 0},\n",
        " 22445: {'Ras al-Ahmar': 0},\n",
        " 22447: {'Khader Adnan': 0},\n",
        " 22449: {'Ahmed Abu Mteer': 0, 'Hodgkin': 0},\n",
        " 22450: {'Ahmed Abu Mteer': 0},\n",
        " 22452: {'Ahmad Ghoshe': 0},\n",
        " 22453: {'Ahmad Qatamesh': 0},\n",
        " 22455: {'Ahmad Qatamesh': 0},\n",
        " 22459: {'Mahmoud': 1, 'Mahmoud al-Sarsak': 0},\n",
        " 22461: {'Adnan': 2, 'Adnan Ibrahim al-Hajjar': 0},\n",
        " 22462: {'Ahmad Qatamesh': 0},\n",
        " 22463: {'Halahleh': 0, 'Mahmoud': 1, 'Mahmoud al-Sarsak': 0},\n",
        " 22466: {'Hodgkin': 0, 'Karima Abu Dalal': 0},\n",
        " 22467: {'Hassan Safadi': 1},\n",
        " 22473: {'Hassan Safadi': 1, 'Samer al-Barq': 0},\n",
        " 22474: {'Arab Jahalin': 0},\n",
        " 22475: {'Akram Rikhawi': 0},\n",
        " 22477: {'Ehud Barak': 0, 'Nufuz Husni': 0},\n",
        " 22479: {'Aziz Dweik': 0},\n",
        " 22482: {'Akram Rikhawi': 0},\n",
        " 22483: {'Akram Rikhawi': 0},\n",
        " 22484: {'Adnan Ibrahim al-Hajjar': 0, 'Adnan al-Hajjar': 0},\n",
        " 22487: {'Ahmed Nahid Mohsin': 0,\n",
        "  'Alison': 2,\n",
        "  'Mohammed Odeh Thabet': 0,\n",
        "  'Nour Mohammed al-Jarou': 0,\n",
        "  'Yousef Rami Abu Latifa': 0},\n",
        " 22488: {'Hassan Safadi': 1, 'Samer al-Barq': 0},\n",
        " 22489: {'Hassan Safadi': 1, 'Samer al-Barq': 0},\n",
        " 22490: {'Hassan Safadi': 1},\n",
        " 22491: {'Hassan Safadi': 1, 'Samer al-Barq': 0},\n",
        " 22493: {'Hassan Safadi': 1, 'Samer': 0, 'Samer al-Barq': 0},\n",
        " 22494: {'Hassan Safadi': 1, 'Samer al-Barq': 0},\n",
        " 22495: {'Bassem Tamimi': 0},\n",
        " 22502: {'Abd al-Rahman Fanatsa': 0,\n",
        "  'Adnan al-Howeish': 0,\n",
        "  'Daoud': 0,\n",
        "  'Hamza': 0},\n",
        " 22503: {'Bilal Musa': 0},\n",
        " 22505: {'Amir': 0, 'Membriri Vecina': 0, 'Sabah al-Jaber al-Sabah': 0},\n",
        " 22506: {'Amir': 0, 'May Membriri Vecina': 0},\n",
        " 22507: {'Amir': 0, 'Jakatia Pawa': 0},\n",
        " 22508: {'Nasser Abul': 0},\n",
        " 22509: {'Marilou Ranario': 0, 'Sabah al-Ahmad al-Sabah': 0},\n",
        " 22510: {'Nasser al-Sabah': 0, 'Talal bin Nasser al-Sabah': 0},\n",
        " 22511: {'Muhammad': 3, 'Nasser Al Sabah': 0},\n",
        " 22512: {'Muhammad': 3, 'Nasser Al Sabah': 0},\n",
        " 22513: {'Mohamed ElBaradei': 0},\n",
        " 22514: {'Nasser Abul': 0},\n",
        " 22515: {'Muhammad': 3},\n",
        " 22516: {'Bidun': 0},\n",
        " 22517: {'Muhammad': 3},\n",
        " 22518: {'Abd al-Karim al-Kharbit': 0, 'Bashar Sab': 0, 'Ibrahim': 6},\n",
        " 22520: {'Arab': 10, 'Mohammad Taher Batili': 0},\n",
        " 22521: {'Aziz Muhammad Adam': 0, 'Muhammad Babikir': 0},\n",
        " 22523: {'Fathi': 3, 'Fathi el-Jahmi': 0},\n",
        " 22525: {'Fathi': 3},\n",
        " 22527: {'Abdelrahman': 0},\n",
        " 22528: {'Mu\\xe2\\x80\\x99ammar al-Gaddafi': 'NA'},\n",
        " 22529: {'Fadl Ismael AbuHeteta': 0,\n",
        "  'Hassan Mahmud Wagih': 0,\n",
        "  'Kwabena Kankam': 0,\n",
        "  'Samir Mokhtar Hassan': 0},\n",
        " 22531: {'Fathi': 3, 'Fathi el-Jahmi': 0},\n",
        " 22532: {'Jamal al-Hajji': 0},\n",
        " 22533: {'Al Jazeera': 5},\n",
        " 22535: {'Max Goeldi': 0},\n",
        " 22536: {'Saif al-Islam al-Gaddafi': 0},\n",
        " 22537: {'Mu\\xe2\\x80\\x99ammar al-Gaddafi': 'NA'},\n",
        " 22540: {'Eman al-Obaidi': 0, 'Mu\\xe2\\x80\\x99ammar al-Gaddafi': 'NA'},\n",
        " 22541: {'Saif al-Islam al-Gaddafi': 0},\n",
        " 22542: {'Ghazi Ramadan': 0, 'Khaled Sury': 0, 'Zeyad Ramadan': 0},\n",
        " 22543: {'Ghazi Ramadan': 0, 'Khaled Sury': 0, 'Zeyad Ramadan': 0},\n",
        " 22545: {'Hani al-Aqbani': 0},\n",
        " 22546: {'Ahmed Ali Abdel Rahman Abou Raqba': 0},\n",
        " 22547: {'Anoud Abdallah al-Senussi': 0,\n",
        "  'Mu\\xe2\\x80\\x99ammar al-Gaddafi': 'NA'},\n",
        " 22552: {'Ibrahim Sa\\xe2\\x80\\x99id al-Hajri': 'NA', 'Muhammad al-Habssi': 0},\n",
        " 22557: {'Mahmoud Abbas': 0, 'Mahmoud Husni Rmailat': 0},\n",
        " 22558: {'Mohammed Baraka': 0},\n",
        " 22560: {'Jamal Qandil Doghmosh': 0},\n",
        " 22563: {'Hazem Hilmi Herez': 0, 'Jamal Qandil Doghmosh': 0},\n",
        " 22565: {'Saed Yassin': 0},\n",
        " 22568: {'Mohammed': 7, 'Mohammed al-Ajami': 0},\n",
        " 22569: {'Mohammed al-Ajami': 0},\n",
        " 22570: {'Al-Qahtani': 0},\n",
        " 22571: {'Abbas al-Ahmad': 0,\n",
        "  'Kamil': 1,\n",
        "  'Mohammed': 7,\n",
        "  'Otaibi': 0,\n",
        "  'Zuhair al-Janbi': 0},\n",
        " 22572: {'Saud al-Hashimi': 0},\n",
        " 22574: {'Fouad Ahmad al-Farhan': 0},\n",
        " 22575: {'Adnan Jamil': 0,\n",
        "  'Hussein Baida Abud': 0,\n",
        "  'Khaled Mitan': 0,\n",
        "  'Mahmoud Shekar': 0,\n",
        "  'Wanas Matar': 0},\n",
        " 22576: {'Mehanna Sa': 0, 'Mohamed Kohail': 0},\n",
        " 22578: {'Hamza Kashgari': 0},\n",
        " 22579: {'Gary Dixon': 0, \"Gary O'Nions\": 0},\n",
        " 22580: {'King Abdullah': 0},\n",
        " 22581: {'Mohammad Abdul Amir': 0},\n",
        " 22582: {'Mohammad Abdul Amir': 0},\n",
        " 22583: {'Abdulkareem': 0, 'Abdullah': 3, 'Mohammed': 7},\n",
        " 22585: {'Ahmed al-Bahrani': 0,\n",
        "  \"Hadi Sa'eed Al-Muteef\": 0,\n",
        "  'Siti Zainab Binti Duhri Rupa': 0,\n",
        "  'Suliamon Olyfemi': 0},\n",
        " 22586: {'Thamer Abdulkareem': 0},\n",
        " 22587: {'Tawfiq Jaber Ibrahim': 0},\n",
        " 22589: {'Dixon': 0, 'Gary Dixon': 0},\n",
        " 22590: {'Hamza Abu Bakir': 0, 'Mastan': 0, 'Mohammed Salim': 0},\n",
        " 22591: {'Fahad': 0, 'Hadyan': 0, 'Khamisa Mohammed Sawadi': 1},\n",
        " 22592: {'Mohammad Abdul Amir': 0},\n",
        " 22595: {'Rizana Nafeek': 0},\n",
        " 22596: {'Madina': 0, 'Muhammad': 3},\n",
        " 22597: {'Ali Hussain Sibat': 0},\n",
        " 22598: {'Tawfiq Jaber Ibrahim': 0},\n",
        " 22599: {'Ahmed al-Bahrani': 0,\n",
        "  \"Hadi Sa'eed Al-Muteef\": 0,\n",
        "  'Siti Zainab Binti Duhri Rupa': 0,\n",
        "  'Suliamon Olyfemi': 0},\n",
        " 22600: {'Ali Muhammad al-Sfawani': 0,\n",
        "  'Hassan Muhammad al-Sadiq': 0,\n",
        "  'Muhammad': 3,\n",
        "  'Qassim Muhammad al-Mawsi': 0},\n",
        " 22601: {'Mehanna Sa': 0, 'Mohamed Kohail': 0},\n",
        " 22603: {'Bandaranaike': 0, 'Haleema Nissa Cader': 0, 'Naushad': 0},\n",
        " 22604: {'Mehanna Sa': 0, 'Mohamed Kohail': 0},\n",
        " 22605: {'Abdul Hamid al-Fakki': 0},\n",
        " 22607: {'Fadhel Maki': 0},\n",
        " 22608: {'Abdullah al-Hamid': 0, 'Issa al-Hamid': 0},\n",
        " 22609: {'Abdul Hamid al-Fakki': 0, 'Ramadan': 3},\n",
        " 22610: {'Mohammad Salih al-Bajadi': 0},\n",
        " 22611: {'Mohammed Saleh': 0, 'Mohammed Saleh al-Bajady': 0},\n",
        " 22612: {'Abdullah al-Hamid': 0, 'Issa': 1},\n",
        " 22614: {'Mohammed Saleh': 0, 'Mohammed Saleh al-Bajady': 0},\n",
        " 22615: {'Alexander Mitchell': 0, 'William Sampson': 0},\n",
        " 22618: {'Fatima': 1},\n",
        " 22619: {'Mehanna Sa': 0, 'Mohamed Kohail': 0, 'Sultan Kohail': 0},\n",
        " 22621: {'Fadel Makki al-Manasef': 0, 'Fadel al-Manasef': 0},\n",
        " 22624: {'Sabri Bogday': 0},\n",
        " 22625: {'Ahmad Hamid Muhammad Sabir': 0,\n",
        "  'Bilal Bin Muslih Bin Jabir al-Muwallad': 0,\n",
        "  'Madina': 0},\n",
        " 22626: {'Ali Hussain Sibat': 0},\n",
        " 22628: {'Faisal Fouzan al-Otaibi': 0},\n",
        " 22629: {'Fahad': 0, 'Hadyan': 0, 'Khamisa Mohammed Sawadi': 1},\n",
        " 22630: {'Abdullah': 3, 'Mohammed': 7},\n",
        " 22632: {'Mehanna Sa': 0, 'Mohamed Kohail': 0, 'Sultan': 1},\n",
        " 22633: {'Abdul Karim': 0},\n",
        " 22635: {'Matrouk al-Faleh': 0},\n",
        " 22637: {'Mehanna Sa': 0, 'Mohamed Kohail': 0},\n",
        " 22638: {'Jamal Muhammad Tijani': 0},\n",
        " 22639: {'Abdullah Saleh al-Muhanna': 0},\n",
        " 22640: {'Jaber Shahbah': 0, 'Muhammad Jaber Shahbah': 0},\n",
        " 22645: {'Khalid al-Zahrani': 0},\n",
        " 22646: {'Muhammad Basheer': 0, 'Muhammad Basheer al-Ramaly': 0},\n",
        " 22647: {'Tawfiq Jaber Ibrahim': 0},\n",
        " 22648: {'Fouad Ahmad al-Farhan': 0},\n",
        " 22649: {'Khalid al-Zahrani': 0},\n",
        " 22650: {'Ali al-Talib': 0, 'Ibrahim bin Mohammad bin Saghir Hassan': 0},\n",
        " 22651: {'Ali Abu Raziza': 0, 'Muhammad': 3},\n",
        " 22652: {'Abdullah Saleh al-Muhanna': 0},\n",
        " 22653: {'Fadhel Maki al-Manasif': 0},\n",
        " 22655: {'Matrouk al-Faleh': 0},\n",
        " 22656: {'Mohammed': 7, 'Otaibi': 0},\n",
        " 22657: {'Hamza Abu Bakir': 0, 'Mohammed Salim': 0},\n",
        " 22658: {'Abdul Hamid bin Hussain bin Moustafa al-Fakki': 0},\n",
        " 22659: {'Hassan Bashir': 1,\n",
        "  'Muhammad Hamid Ibrahim Sulayman': 0,\n",
        "  'Muhammad Salih': 0},\n",
        " 22662: {'Fadhel Maki al-Manasif': 0},\n",
        " 22664: {'Khalid al-Zahrani': 0},\n",
        " 22665: {'Arar': 0,\n",
        "  'Mohammad Abdul Amir': 0,\n",
        "  'Muhammad bin Abd Rab al-Amir bin Ali al-Shammari': 0},\n",
        " 22666: {'Eduardo Arcilla': 0,\n",
        "  'Efren Francisco Dimaun': 0,\n",
        "  'Joel Sinamban': 0,\n",
        "  'Omar Basillo': 0,\n",
        "  'Rolando Manaloto Gonzales': 0,\n",
        "  'Victoriano Alfonso': 0},\n",
        " 22668: {'Muhammad Basheer': 0, 'Muhammad Basheer al-Ramaly': 0},\n",
        " 22671: {'Ali Agirdas': 0},\n",
        " 22672: {'Fahad': 0, 'Hadyan': 0, 'Khamisa Mohammed Sawadi': 1},\n",
        " 22673: {'Ali Hassan': 2,\n",
        "  'Issa al-Buri': 0,\n",
        "  'Khalid Bin Muhammad': 0,\n",
        "  'Qassim Bin Rida Bin Sulayman al Mahdi': 0},\n",
        " 22674: {'Muhammad Basheer': 0,\n",
        "  \"Muhammad Basheer bin Sa'oud al-Ramaly al-Shammari\": 0},\n",
        " 22676: {'Mehanna Sa': 0, 'Mohamed Kohail': 0},\n",
        " 22679: {'Ali Hassan': 2,\n",
        "  'Issa al-Buri': 0,\n",
        "  'Issa al-Qadihi': 0,\n",
        "  'Khalid Bin Muhammad': 0,\n",
        "  'Qassim Bin Rida Bin Sulayman al Mahdi': 0},\n",
        " 22681: {'Hamza Abu Bakir': 0, 'Mastan': 0},\n",
        " 22682: {'Abdullah Fandi al-Shammari': 0,\n",
        "  'Sultan bin \\xe2\\x80\\x98Abdul Aziz': 'NA'},\n",
        " 22683: {'Mehanna Sa': 0, 'Mohamed Kohail': 0},\n",
        " 22684: {'Raouf Amin': 0, 'Shawqi Abd Rabbuh': 0},\n",
        " 22685: {'Bahjat Khalid Mas': 0},\n",
        " 22686: {'Amir Hussain': 0, 'Haas Muhammad Muzamdar': 0},\n",
        " 22688: {'Mustafa Jum': 0},\n",
        " 22690: {'Radwan Ziadeh': 0, 'Yassin Ziadeh': 0},\n",
        " 22691: {'Fayez Sarah': 0},\n",
        " 22692: {'Mohammed Amin al-Shawa': 0},\n",
        " 22693: {'Hassan': 10, \"Raghdah Sa'id Hassan\": 0},\n",
        " 22694: {'Mohamed Anwar Dabbas': 0},\n",
        " 22695: {'Abd al-Hamid Miqdad': 0,\n",
        "  'Ahmad Suwaidani': 0,\n",
        "  'Dafi Jam': 0,\n",
        "  'Fawzi Rida': 0,\n",
        "  'Hadithe Murade': 0,\n",
        "  'Muhammad': 3,\n",
        "  'Mustafa Rustum': 0},\n",
        " 22696: {'Mamum al-Humsi': 0},\n",
        " 22697: {'Muhammed Haji Darwish': 0},\n",
        " 22698: {'Ali': 10, 'Hassam Hussein': 0},\n",
        " 22699: {'Usra al-Hassani': 0},\n",
        " 22701: {'Suhaib al-Ammar': 0},\n",
        " 22702: {'Faris Murad': 0, \"Haytham Na'al\": 0, 'Imad Shiha': 0},\n",
        " 22703: {'Ben Abdelwahed Ammouri': 0, 'Safouan Ammouri': 0},\n",
        " 22704: {'Mustafa Jum': 0},\n",
        " 22705: {'Haytham al-Maleh': 0},\n",
        " 22706: {'Georges Moubayed': 0},\n",
        " 22707: {'Mustafa Dib Khalil': 0},\n",
        " 22708: {'Riad Seif': 0},\n",
        " 22709: {'Mohammad Sai': 0},\n",
        " 22710: {'Abed al-Rahman': 0},\n",
        " 22711: {'Abd al-Rahman Mohammed': 0},\n",
        " 22712: {'Mamun al-Humsi': 0},\n",
        " 22715: {'Talal Abu Dan': 0},\n",
        " 22716: {'Maryam Kallis': 0},\n",
        " 22717: {'Berzani Karro': 0},\n",
        " 22718: {'Ahmad Abu al-Khair': 0, 'Ahmad Mohammad Hudaifa': 0},\n",
        " 22720: {'Aref Dalilah': 0},\n",
        " 22721: {'Ahmad Abu al-Khair': 0, 'Ahmad Mohammad Hudaifa': 0},\n",
        " 22722: {'Adel Walid Kharsa': 0},\n",
        " 22723: {'Aziz al-Khayyir': 0},\n",
        " 22724: {'Mulla Ahmed': 0},\n",
        " 22725: {'Maryam Kallis': 0},\n",
        " 22726: {'Hassan Baroudi': 0, 'Kutiba al-Issa': 0},\n",
        " 22727: {'Tuhama Mahmoud Ma': 0},\n",
        " 22728: {'Hussam Ahmed al-Nabulsi': 0},\n",
        " 22729: {'Aisha Afandi': 0, 'Kawthar Taifour': 0},\n",
        " 22730: {'Ahmed Mustafa': 0, 'Ahmed Mustafa Ben-Mohammed': 0, 'Pir Rostom': 0},\n",
        " 22732: {'Askari': 0},\n",
        " 22733: {'Kamal al-Mwayel': 0},\n",
        " 22734: {'Anwer Naso': 0,\n",
        "  'Hassan Saleh': 1,\n",
        "  'Muhammad Ahmed Mustafa': 0,\n",
        "  'Mulla Ahmed': 0},\n",
        " 22736: {'Kafr Sousa': 0, 'Maryam Kallis': 0},\n",
        " 22737: {'Abd al-Rahman Mohammed': 0, 'Bav\\xc3\\xaa Selah': 'NA', 'Omar': 3},\n",
        " 22739: {'Ghayath Mattar': 0, 'Hazem Taisir Mattar': 0},\n",
        " 22741: {'Habib Saleh': 0},\n",
        " 22742: {'Maryam Kallis': 0, 'Yasser Zahur Ahmed': 0},\n",
        " 22744: {'Mulla Ahmed': 0},\n",
        " 22745: {'Nizar Ristnawi': 0},\n",
        " 22746: {'Ahmed Andora': 0},\n",
        " 22747: {'Ahmad Hamad': 0},\n",
        " 22748: {'Mahmoud al-Najjar': 0},\n",
        " 22749: {'Maryam Kallis': 0, 'Yasser Zahur Ahmed': 0},\n",
        " 22750: {'Jehovah': 1},\n",
        " 22752: {'Jakarkhon Sheikho \\xe2\\x80\\x98Ali': 'NA'},\n",
        " 22753: {'Abed al-Rahman': 0},\n",
        " 22754: {'Hasan Qasem': 0, 'Hasan Younis Qasem': 0},\n",
        " 22757: {'Hasan Qasem': 0, 'Hasan Younis Qasem': 0},\n",
        " 22759: {'Abdelbaqi Khalaf': 0},\n",
        " 22760: {'Abd al-Rahman Hammada': 0, 'Wa\\xe2\\x80\\x99el Hammada': 'NA'},\n",
        " 22761: {'Al Jazeera': 5},\n",
        " 22762: {'Mahmoud al-Najjar': 0},\n",
        " 22763: {'Amjad Baiazy': 0},\n",
        " 22764: {'Georges Moubayed': 0},\n",
        " 22767: {'Aref Dalilah': 0},\n",
        " 22768: {'Abd al-Karim Hussein': 0},\n",
        " 22769: {'Abd al-Rahman Hammada': 0, 'Wa\\xe2\\x80\\x99el Hammada': 'NA'},\n",
        " 22770: {'Berzani Karro': 0},\n",
        " 22771: {'Abd al-Karim Hussein': 0},\n",
        " 22773: {'Khaled Kenjo': 0},\n",
        " 22776: {'Jaqar Khoen Mullah Ahmed': 0},\n",
        " 22777: {'Ein': 0, \"Mesha'l al-Tammo\": 0},\n",
        " 22780: {'Mesha': 0},\n",
        " 22781: {'Haytham': 0},\n",
        " 22782: {'Sabri Mirza': 0},\n",
        " 22783: {'Ali': 10, 'Bayan Saleh': 0},\n",
        " 22784: {'Haytham': 0},\n",
        " 22787: {'Abdullah al-Khalil': 0},\n",
        " 22788: {'Ali': 10},\n",
        " 22789: {'Hassan': 10},\n",
        " 22791: {'Anas al-Shogre': 0},\n",
        " 22792: {'Abd al-Akram al-Sakka': 0,\n",
        "  'Ahmad Kuraitem': 0,\n",
        "  'Muhammad Muhammad Al Hamwi': 0,\n",
        "  'Shaker al-Masri': 0},\n",
        " 22793: {'Adem \\xc3\\x96zk\\xc3\\xb6se': 'NA', 'Hamit Co\\xc5\\x9fkun': 'NA'},\n",
        " 22794: {'Amjad Baiazy': 0},\n",
        " 22795: {'Abd al-Rahman Hammada': 0, 'Wa\\xe2\\x80\\x99el Hammada': 'NA'},\n",
        " 22796: {'Mohammed Najati Tayyara': 0},\n",
        " 22797: {\"Muhammad Yusef Sa'adu\": 0},\n",
        " 22801: {'Nabil Khlioui': 0},\n",
        " 22803: {'Al-Assad': 10, 'Kamal Saloum': 0},\n",
        " 22804: {'Mohammad Sai': 0},\n",
        " 22805: {'Ahmed Mustafa Ben-Mohammed': 0, 'Pir Rostom': 0},\n",
        " 22806: {'George Sabra': 0},\n",
        " 22807: {'Mohamed': 3, 'Mohamed al-Ammar': 0},\n",
        " 22808: {'Aqel': 0},\n",
        " 22809: {'Abbas': 0, 'Awad Jassim': 0},\n",
        " 22810: {'Mahmoud Al Refaai': 0},\n",
        " 22811: {'Mustafa Ismail': 0},\n",
        " 22812: {'Abdullah al-Khalil': 0},\n",
        " 22813: {'Abd al-Rahman Hammada': 0},\n",
        " 22814: {'Ahmad Mustafa Ma': 0, 'Ghassan Mustafa Ma': 0},\n",
        " 22816: {'Mahmoud Al Refaai': 0, 'Mohamad Osama Abdulsalam Al-Baroudi': 0},\n",
        " 22817: {'Adel Walid Kharsa': 0},\n",
        " 22818: {'Adem \\xc3\\x96zk\\xc3\\xb6se': 'NA',\n",
        "  'Hamit Co\\xc5\\x9fkun': 'NA',\n",
        "  'Shabiha': 0},\n",
        " 22819: {'Walid al-Bunni': 1},\n",
        " 22820: {'Salameh Kaileh': 0},\n",
        " 22821: {'Abdullah': 3, 'Ahmad': 3, 'Akram al-Bunni': 0, 'Ali': 10, 'Jabr': 0},\n",
        " 22822: {'Hanadi Zahlout': 0},\n",
        " 22823: {'Adem \\xc3\\x96zk\\xc3\\xb6se': 'NA', 'Hamit Co\\xc5\\x9fkun': 'NA'},\n",
        " 22824: {'Yasser': 0},\n",
        " 22825: {'Mohamed Iyyad Tayyara': 0},\n",
        " 22826: {'Abd al-Akram al-Sakka': 0,\n",
        "  'Ahmad Kuraitem': 0,\n",
        "  'Muhammad Muhammad Al Hamwi': 0,\n",
        "  'Muhammad Yassin Al Hamwi': 0},\n",
        " 22827: {'Mohammed Hasan al-Labwani': 0},\n",
        " 22829: {'Lionel Tate': 0},\n",
        " 22830: {'Radwan Ziadeh': 0, 'Yassin Ziadeh': 0},\n",
        " 22831: {'George Sabra': 0},\n",
        " 22832: {'Ghayath Mattar': 0,\n",
        "  'Mazen Zyadeh': 0,\n",
        "  'Mohamed Tayseer Khoulani': 0,\n",
        "  'Yahya Shurbaji': 0},\n",
        " 22833: {'Amjad Kassem': 0},\n",
        " 22834: {'Mamum al-Humsi': 0},\n",
        " 22835: {'Mohammed Hasan al-labwani': 0},\n",
        " 22836: {'Mohamed': 3, 'Mohamed al-Ammar': 0},\n",
        " 22837: {'Ghayath Mattar': 0},\n",
        " 22838: {'Mohammed Najati Tayyara': 0},\n",
        " 22840: {'Aref Dalilah': 0,\n",
        "  'Hamid': 2,\n",
        "  'Mamun al-Humsi': 0,\n",
        "  'Muhammad': 3,\n",
        "  'Nizar Ristnawi': 0,\n",
        "  'Riad Seif': 0},\n",
        " 22842: {'Khaled Kareem': 0, 'Yasser Hamza Kareem': 0},\n",
        " 22843: {'Hussein': 10},\n",
        " 22844: {'George Sabra': 0},\n",
        " 22845: {'Obaida Behaa': 0},\n",
        " 22846: {'Aref Dalilah': 0, 'Mamun al-Humsi': 0, 'Riad Seif': 0},\n",
        " 22847: {'Ghassan Yasin': 0},\n",
        " 22849: {'Anas al-Shogre': 0},\n",
        " 22850: {'Mu\\xe2\\x80\\x99ayad al-Bunni': 'NA', 'Walid al-Bunni': 1},\n",
        " 22851: {'Mazen Darwish': 0},\n",
        " 22852: {'Hanadi Zahlout': 0},\n",
        " 22853: {'Ahmed Omar Azoz': 0, 'Mohamed Bachir Arab': 0},\n",
        " 22854: {'Mohamad Nooh': 0},\n",
        " 22855: {'Amjad Kassem': 0},\n",
        " 22856: {'Mazen Darwish': 0},\n",
        " 22857: {'Awad Jassim \\xe2\\x80\\x98Abbas': 'NA'},\n",
        " 22858: {'Salah': 1},\n",
        " 22859: {'Ahmed Omar Azoz': 0, 'Mohamed Bachir Arab': 0},\n",
        " 22860: {'Zilal Ibrahim': 0, 'Zilal Ibrahim al-Salhani': 0},\n",
        " 22862: {'Bassel Khartabil': 0},\n",
        " 22863: {'Ahmed Andora': 0},\n",
        " 22864: {'Adel Walid Kharsa': 0, 'Imad Walid Kharsa': 0},\n",
        " 22865: {'Mamun al-Humsi': 0, 'Riad Seif': 0},\n",
        " 22866: {'Ghassan Yasin': 0},\n",
        " 22867: {'Maher Fawzi': 0, 'Maher Fawzi al-Hamoud': 0},\n",
        " 22868: {'Suhaib': 0, 'Suhaib al-Ammar': 0},\n",
        " 22870: {'Khalil Ma': 0, 'Mohammed Thatha': 0},\n",
        " 22871: {'Yahia Ka\\xe2\\x80\\x99ake': 'NA'},\n",
        " 22872: {'Khattab': 0},\n",
        " 22875: {'Abd al-Akram al-Sakka': 0, 'Muhammad Yassin Al Hamwi': 0},\n",
        " 22876: {'Mohamed Raed al-Tawil': 0},\n",
        " 22878: {'Bassel Khartabil': 0},\n",
        " 22880: {'Gary Dixon': 0},\n",
        " 22881: {'Alsadiq Siddiq Adam Abdullah': 0},\n",
        " 22882: {'Naji Jawdat Hamdan': 0},\n",
        " 22885: {'Dorthe': 0, 'Gary Dixon': 0},\n",
        " 22886: {'Abd al-Rahman Abu Zaid': 0},\n",
        " 22888: {'Ahmad Mansoor': 0,\n",
        "  'Fahad Salem al-Shehi': 0,\n",
        "  'Nasser bin Ghaith': 0},\n",
        " 22889: {'Boqor Osman Mohamoud': 0},\n",
        " 22891: {'Rafat Usmani': 0},\n",
        " 22893: {'Ahmad Mansoor': 0, 'Nasser bin Ghaith': 0},\n",
        " 22894: {'Abd al-Rahman Abu Zaid': 0},\n",
        " 22895: {'Akmal Waheed': 0, 'Asad Waheed': 0, 'Ayyaz Ali Khan': 0},\n",
        " 22897: {'Rafat Usmani': 0},\n",
        " 22898: {'Khalil Abdul Rahman Abdul Karim al-Janahi': 0},\n",
        " 22901: {'Khalil Abdul Rahman Abdul Karim al-Janahi': 0},\n",
        " 22904: {'Ahmed Abdul Khaleq': 0,\n",
        "  'Ahmed Mansoor': 0,\n",
        "  'Fahad Salim Dalk': 0,\n",
        "  'Hassan Ali al-Khamis': 0,\n",
        "  'Nasser bin Ghaith': 0},\n",
        " 22906: {'Rabah Kadri': 0},\n",
        " 22907: {'Rabah Kadri': 0},\n",
        " 22910: {'Salaheddine Sidhoum': 0, 'Sidhoum': 0},\n",
        " 22913: {'Abdelkbir Rabaoui': 0,\n",
        "  'Brahim Ahansal': 0,\n",
        "  'Mohamed Boughrine': 0,\n",
        "  'Mohamed Yousfi': 0},\n",
        " 22914: {'Ahmed Mahmoud Haddi': 0},\n",
        " 22915: {'Aminatou Haidar': 0},\n",
        " 22917: {'Nabil Talha': 0},\n",
        " 22923: {'Kaddour Terhaz': 0},\n",
        " 22924: {'Ahmed Mahmoud Haddi': 0},\n",
        " 22925: {'Aminatou Haidar': 0},\n",
        " 22927: {'Ramzi Romdhani': 0},\n",
        " 22928: {'Mohammed Abbou': 0},\n",
        " 22929: {'Hamma Hammami': 0, 'Mohamed Mzem': 0, 'Mounia Obaid': 0},\n",
        " 22930: {'Ramzi Ben Jilani Romdhani': 0, 'Ramzi Romdhani': 0},\n",
        " 22933: {'Hamma Hammami': 0, 'Mohamed Mzem': 0},\n",
        " 22934: {'Lamari Dali': 0},\n",
        " 22935: {'Ziad Fakraoui': 0},\n",
        " 22936: {'Ali Ben Sassi Toumi': 0},\n",
        " 22937: {'Ramzi Romdhani': 0},\n",
        " 22938: {'Ali Ben Sassi Toumi': 0},\n",
        " 22939: {'Bill': 10},\n",
        " 22941: {'Anis': 0, 'Ayman Gharib': 0},\n",
        " 22942: {'Menzel Bourguiba': 0},\n",
        " 22943: {'Mohammed Soudani': 0},\n",
        " 22944: {'Haitham el-Mejri': 0},\n",
        " 22945: {'Lotfi Dassi': 0},\n",
        " 22946: {'Fahem Boukadous': 0},\n",
        " 22948: {'al-Baghdadi al-Mahmoudi': 1},\n",
        " 22949: {'Taoufik Ben Brik': 0},\n",
        " 22953: {'Najib': 0, 'Najib al-Hijri': 0},\n",
        " 22955: {'Bashir Sultan Mohamed': 0},\n",
        " 22958: {'Bashir Sultan Mohamed': 0},\n",
        " 22959: {'Hisham Bashraheel': 0},\n",
        " 22960: {'Fuad Ahmed Ali Abdulla': 0, 'Muhammed Taher Thabet Samoum': 0},\n",
        " 22961: {'Abdul-Fattah Hashim': 0},\n",
        " 22963: {'Abdul Salaam': 0,\n",
        "  'Abdullah Qassim': 1,\n",
        "  'Abdullah Saleh': 0,\n",
        "  'Ahmed': 4},\n",
        " 22964: {'Bashir Sultan Mohamed': 0},\n",
        " 22965: {'Muhammad al-Maqalih': 0},\n",
        " 22966: {'Tawakkol Karman': 0},\n",
        " 22967: {'Mohamed al-Saqaf': 0},\n",
        " 22968: {'Aisha Ghalib': 0},\n",
        " 22970: {'Fawaz Ba\\xe2\\x80\\x99oom': 'NA', 'Hassan': 10},\n",
        " 22971: {'Mohamed': 3, 'Mohamed al-Saqaf': 0},\n",
        " 22972: {'Aisha Ghalib al-Hamzi': 0},\n",
        " 22973: {'Hassan': 10},\n",
        " 22974: {'Behrooz Rohaniand Sayfi Ibrahim Sayfi': 0, 'Keyvan Qadari': 0},\n",
        " 22975: {'Ahmad Muhammad': 0, 'Askar Jubran': 0, 'Fadi': 0},\n",
        " 22977: {'Mansour Saif': 0, 'Mansour Saif al-Horsome': 0},\n",
        " 22978: {'Abdel Hameed Haroun': 0},\n",
        " 22979: {'Hussein': 10, 'Salah Ahmed Yahya al-Shagladi': 0},\n",
        " 22980: {'Muhammad al-Maqalih': 0},\n",
        " 22982: {'Hisham Bashraheel': 0},\n",
        " 22983: {'Ali Mussara\\xe2\\x80\\x99a Muhammad Huraish': 'NA',\n",
        "  'Hammoud Ahmed Qaid Sa\\xe2\\x80\\x99eed': 'NA',\n",
        "  'Ismail Lutef Huraish': 0},\n",
        " 22984: {'Hussein': 10, 'Muhammad': 3, 'Muhammad al-Maqalih': 0},\n",
        " 22987: {'Muhammad Faraj Ahmed Bashmilah': 0,\n",
        "  \"Salah Nasser Salim 'Ali\": 0,\n",
        "  'Walid Muhammad Shahir Muhammad al-Qadasi': 0},\n",
        " 22988: {'Ali Mussara\\xe2\\x80\\x99a Muhammad Huraish': 'NA',\n",
        "  'Ismail Lutef Huraish': 0},\n",
        " 22989: {'Muhammad al-Maqalih': 0},\n",
        " 22991: {'Muhammad al-Maqalih': 0},\n",
        " 22992: {'Abduh Muhammad Nahshal': 0,\n",
        "  'Ali Nahshal': 0,\n",
        "  'Shaikh Khalid Nahshal': 0},\n",
        " 22993: {'Ahmed Omar al-Abbadi al-Markashi': 0},\n",
        " 22994: {'Hassan Ba\\xe2\\x80\\x99oom': 'NA'},\n",
        " 22996: {'Muhammad al-Maqalih': 0},\n",
        " 22997: {'Zahra Salih': 0},\n",
        " 22998: {'Abdul Raouf Hassan Zain al-Saqqaf': 0},\n",
        " 23006: {'Michael Anti': 3, 'Zhao Jing': 0}}"
       ]
      }
     ],
     "prompt_number": 42
    },
    {
     "cell_type": "markdown",
     "metadata": {},
     "source": [
      "###Pickling data in units"
     ]
    },
    {
     "cell_type": "code",
     "collapsed": false,
     "input": [
      "def ld_writeDicts(filePath,dict):  \n",
      "    f=open(filePath,'w')  \n",
      "    newData = pickle.dumps(dict, 1)  \n",
      "    f.write(newData)  \n",
      "    f.close() "
     ],
     "language": "python",
     "metadata": {},
     "outputs": [],
     "prompt_number": 21
    },
    {
     "cell_type": "code",
     "collapsed": false,
     "input": [
      "ld_writeDicts('data18595',namesSub)  "
     ],
     "language": "python",
     "metadata": {},
     "outputs": [],
     "prompt_number": 43
    },
    {
     "cell_type": "markdown",
     "metadata": {},
     "source": [
      "###Merging dictionaries"
     ]
    },
    {
     "cell_type": "code",
     "collapsed": false,
     "input": [
      "import os"
     ],
     "language": "python",
     "metadata": {},
     "outputs": [],
     "prompt_number": 44
    },
    {
     "cell_type": "code",
     "collapsed": false,
     "input": [
      "def ld_readDicts(filePath):  \n",
      "    f=open(filePath,'r')  \n",
      "    data = pickle.load(f)  \n",
      "    f.close()  \n",
      "    return data"
     ],
     "language": "python",
     "metadata": {},
     "outputs": [],
     "prompt_number": 45
    },
    {
     "cell_type": "code",
     "collapsed": false,
     "input": [
      "dir = '/Users/rterman/Dropbox/berkeley/Dissertation/Data and Analyais/Git Repos/amnesty-uas/pickles'\n",
      "total = {}\n",
      "for filename in os.listdir(dir):\n",
      "    newDataDict = ld_readDicts(dir + '/' + filename)\n",
      "    total = dict(total.items() + newDataDict.items())"
     ],
     "language": "python",
     "metadata": {},
     "outputs": [],
     "prompt_number": 52
    },
    {
     "cell_type": "code",
     "collapsed": false,
     "input": [
      "len(total.keys())"
     ],
     "language": "python",
     "metadata": {},
     "outputs": [
      {
       "metadata": {},
       "output_type": "pyout",
       "prompt_number": 55,
       "text": [
        "18365"
       ]
      }
     ],
     "prompt_number": 55
    },
    {
     "cell_type": "code",
     "collapsed": false,
     "input": [
      "ld_writeDicts('total',total)"
     ],
     "language": "python",
     "metadata": {},
     "outputs": [],
     "prompt_number": 56
    },
    {
     "cell_type": "code",
     "collapsed": false,
     "input": [
      "for key in total.keys():\n",
      "    for name in total[key]:\n",
      "        if total[key][name] > 1 and not total[key][name] == 'NA':\n",
      "            print str(key) + ': ' + str(name) + ': ' + str(total[key][name])"
     ],
     "language": "python",
     "metadata": {},
     "outputs": [
      {
       "output_type": "stream",
       "stream": "stdout",
       "text": [
        "36: Ahmed Mohamed: 2\n",
        "37: Ahmed Mohamed: 2\n",
        "63: Daniel: 10\n",
        "64: Lu: 3\n",
        "86: Maria: 10\n",
        "91: Maria: 10\n",
        "161: Martin: 10\n",
        "177: Hutu: 10\n",
        "204: Emma: 2\n",
        "205: Hutu: 10\n",
        "243: Hutu: 10\n",
        "244: Hutu: 10\n",
        "247: Emmanuel: 2\n",
        "250: Roger: 6\n",
        "254: Omar: 3\n",
        "254: Eric: 6\n",
        "257: Jimmy: 2\n",
        "289: Hutu: 10\n",
        "289: Tutsi: 10\n",
        "299: Omar: 3\n",
        "299: Eric: 6\n",
        "301: Hutu: 10\n",
        "337: Jean: 10\n",
        "418: Charles: 10\n",
        "485: Raymond: 5\n",
        "506: Joseph: 9\n",
        "506: Paul: 10\n",
        "553: Chad: 10\n",
        "631: Ahmed: 4\n",
        "651: Obama: 10\n",
        "656: Jose Carlos: 2\n",
        "682: Juan: 9\n",
        "684: Obama: 10\n",
        "691: Obama: 10\n",
        "695: Juan: 9\n",
        "708: Obama: 10\n",
        "758: Hussein: 10\n",
        "781: Hosni Mubarak: 3\n",
        "822: Ahmed Mohamed: 2\n",
        "822: Mohamed Ahmed: 2\n",
        "831: Ahmed Mohamed: 2\n",
        "831: Mohamed Ahmed: 2\n",
        "836: Ahmed Said: 4\n",
        "842: Hosni Mubarak: 3\n",
        "850: Ahmed Mohamed: 2\n",
        "871: Judith: 3\n",
        "895: Judith: 3\n",
        "898: Bashir: 2\n",
        "906: Addis Ababa: 2\n",
        "914: Addis Ababa: 2\n",
        "924: Robert: 10\n",
        "925: Ali Ben: 3\n",
        "927: Robert: 10\n",
        "933: Mubarak: 3\n",
        "945: James: 10\n",
        "947: Mubarak: 3\n",
        "953: Barry: 3\n",
        "954: Barry: 3\n",
        "1020: Augusto: 9\n",
        "1032: Laurent Gbagbo: 2\n",
        "1043: Laurent Gbagbo: 2\n",
        "1045: Laurent Gbagbo: 2\n",
        "1057: Laurent Gbagbo: 2\n",
        "1058: Charles: 10\n",
        "1090: Moi: 4\n",
        "1107: Moi: 4\n",
        "1146: Geoffrey: 5\n",
        "1152: John: 10\n",
        "1152: Maina: 3\n",
        "1176: John: 10\n",
        "1176: Maina: 3\n",
        "1225: John: 10\n",
        "1225: Maina: 3\n",
        "1287: James H Bush: 2\n",
        "1321: Johnson: 3\n",
        "1334: Johnson: 3\n",
        "1360: Idi: 2\n",
        "1397: Hamad: 2\n",
        "1406: Al Hassan: 5\n",
        "1408: Mohamed Ahmed: 2\n",
        "1417: James: 10\n",
        "1563: Olusegun Obasanjo: 2\n",
        "1570: Lance: 2\n",
        "1584: Olusegun Obasanjo: 2\n",
        "1604: Olusegun Obasanjo: 2\n",
        "2073: Mohamed Ahmed: 2\n",
        "2082: Hussein: 10\n",
        "2091: Mohamed: 3\n",
        "2092: Mohamed: 3\n",
        "2107: Jackson: 8\n",
        "2124: Grace: 2\n",
        "2208: Roberts: 2\n",
        "2221: Roberts: 2\n",
        "2238: Wilson: 8\n",
        "2256: Linda: 4\n",
        "2286: Joyce: 5\n",
        "2289: Morris: 5\n",
        "2298: Rodney: 2\n",
        "2314: Jane: 4\n",
        "2359: Joyce: 5\n",
        "2416: Joyce: 5\n",
        "2452: Rodney: 2\n",
        "2462: Ben: 10\n",
        "2591: Khalid: 2\n",
        "2595: John: 10\n",
        "2597: Gaafar: 2\n",
        "2620: Ali al Said: 5\n",
        "2631: Hassan Ali: 2\n",
        "2632: Ali al Said: 5\n",
        "2663: Mubarak: 3\n",
        "2666: Ali Said Ali: 10\n",
        "2680: Mohamed: 3\n",
        "2704: Mohamed: 3\n",
        "2707: Mohamed: 3\n",
        "2717: Ibrahim: 6\n",
        "2734: Mohammed al Hassan: 2\n",
        "2734: Mohammed: 7\n",
        "2740: Ibrahim: 6\n",
        "2740: Hussein: 10\n",
        "2742: Hassan Hussein: 3\n",
        "2749: Ibrahim: 6\n",
        "2754: Hassan Ali: 2\n",
        "2761: Mohamed: 3\n",
        "2763: Mohammed al Hassan: 2\n",
        "2763: Mohammed: 7\n",
        "2769: Mohamed: 3\n",
        "2806: Baker: 2\n",
        "2823: Hassan Hussein: 3\n",
        "2830: Ali: 10\n",
        "2871: Al Hassan: 5\n",
        "2881: Adam: 10\n",
        "2960: Mohamed Ahmed Mohamed: 2\n",
        "3064: James: 10\n",
        "3079: Dick: 5\n",
        "3088: David Bruce: 2\n",
        "3089: Anna: 3\n",
        "3164: Hassan: 10\n",
        "3171: Sharif: 3\n",
        "3171: Hassan: 10\n",
        "3202: Ronald: 6\n",
        "3296: Kabila: 2\n",
        "3342: Kabila: 2\n",
        "3351: Laurent Kabila: 2\n",
        "3372: Kabila: 2\n",
        "3380: Hutu: 10\n",
        "3380: Tutsi: 10\n",
        "3381: Kabila: 2\n",
        "3397: David: 10\n",
        "3405: Tutsi: 10\n",
        "3419: James: 10\n",
        "3424: Tutsi: 10\n",
        "3446: Kabila: 2\n",
        "3451: Tutsi: 10\n",
        "3534: Joshua: 2\n",
        "3534: Isaac: 2\n",
        "3540: Joshua: 2\n",
        "3540: Isaac: 2\n",
        "3561: Simon: 5\n",
        "3564: Simon: 5\n",
        "3565: Simon: 5\n",
        "3581: Fernando: 3\n",
        "3607: Fernando: 3\n",
        "3669: Fisher: 2\n",
        "3698: Wade: 3\n",
        "3751: Martin: 10\n",
        "3782: Wagner: 2\n",
        "3800: Wagner: 2\n",
        "3818: Anna: 3\n",
        "3849: Anna: 3\n",
        "3852: Weber: 3\n",
        "3856: Wagner: 2\n",
        "3867: Eduardo: 2\n",
        "3909: Paulo: 4\n",
        "3918: Martin: 10\n",
        "3956: Wagner: 2\n",
        "3959: Paulo: 4\n",
        "3968: Rodrigo: 2\n",
        "3987: Wagner: 2\n",
        "4004: Wagner: 2\n",
        "4041: Wagner: 2\n",
        "4056: Augusto Pinochet: 9\n",
        "4130: Marcos: 2\n",
        "4130: Pinochet: 9\n",
        "4143: Augusto Pinochet: 9\n",
        "4246: Ramon: 2\n",
        "4257: Francisco: 10\n",
        "4260: Juan RIOS: 2\n",
        "4299: Ignacio: 4\n",
        "4373: Juan RIOS: 2\n",
        "4393: Luis: 3\n",
        "4410: Wilson: 8\n",
        "4471: Gil: 2\n",
        "4486: Rodriguez: 4\n",
        "4538: Robinson: 4\n",
        "4598: Castro: 8\n",
        "4601: Carlos: 10\n",
        "4649: Gilberto: 3\n",
        "4649: Miguel: 2\n",
        "4662: Alfonso: 3\n",
        "4665: Omar: 3\n",
        "4673: Castro: 8\n",
        "4685: Carlos: 10\n",
        "4690: Arias: 2\n",
        "4723: Arias: 2\n",
        "4734: Robinson: 4\n",
        "4736: Fernando: 3\n",
        "4736: Carlos: 10\n",
        "4736: Jaime: 2\n",
        "4737: Manuel: 6\n",
        "4751: ORTIZ: 2\n",
        "4751: Wilson: 8\n",
        "4780: A. Fernando: 3\n",
        "4780: Milton: 4\n",
        "4780: Carlos: 10\n",
        "4815: Nelson: 7\n",
        "4847: Castro: 8\n",
        "4866: Alvarez: 4\n",
        "4898: Castro: 8\n",
        "4927: Carlos: 10\n",
        "4942: Sanchez Sanchez: 2\n",
        "4955: Daniel: 10\n",
        "4971: Oscar: 3\n",
        "4971: Carlos: 10\n",
        "5011: Luis: 3\n",
        "5034: Javier: 5\n",
        "5034: Jorge: 4\n",
        "5034: Wilson: 8\n",
        "5034: Jaime: 2\n",
        "5034: Carlos: 10\n",
        "5086: Javier: 5\n",
        "5087: A. Fernando: 3\n",
        "5087: Milton: 4\n",
        "5087: Carlos: 10\n",
        "5103: Pablo: 2\n",
        "5148: Arias: 2\n",
        "5255: Miguel: 2\n",
        "5272: Diana: 2\n",
        "5290: Diana: 2\n",
        "5338: Miguel: 2\n",
        "5339: Yolanda: 2\n",
        "5417: Joel: 2\n",
        "5418: Fidel Castro: 6\n",
        "5418: Reyes: 3\n",
        "5440: Manuel: 6\n",
        "5508: Isaac: 2\n",
        "5516: Reyes: 3\n",
        "5519: Andres: 5\n",
        "5534: Andres: 5\n",
        "5561: Vicente: 5\n",
        "5561: MARTINEZ: 6\n",
        "5571: Rojas: 2\n",
        "5606: Oscar: 3\n",
        "5608: Oscar: 3\n",
        "5609: Oscar: 3\n",
        "5723: Dean: 4\n",
        "5742: Carlos: 10\n",
        "5749: Castro: 8\n",
        "5759: Pedro: 2\n",
        "5760: Jorge: 4\n",
        "5826: Lopez: 2\n",
        "5928: Francisco Lima: 2\n",
        "5950: Lopez: 2\n",
        "6052: Juan Gerardi: 2\n",
        "6052: Gerardi: 2\n",
        "6083: Lopez: 2\n",
        "6101: Cruz: 2\n",
        "6102: Pedro: 2\n",
        "6102: Romero: 2\n",
        "6170: Carlos: 10\n",
        "6204: Perez: 6\n",
        "6206: Noriega: 3\n",
        "6216: Omar: 3\n",
        "6222: Gerardi: 2\n",
        "6229: David D: 5\n",
        "6237: Carlos: 10\n",
        "6252: Juan Gerardi: 2\n",
        "6264: Gerardi: 2\n",
        "6287: Noriega: 3\n",
        "6287: Juan: 9\n",
        "6309: Juan Gerardi: 2\n",
        "6309: Bishop: 7\n",
        "6324: Luis: 3\n",
        "6337: Luis: 3\n",
        "6367: Andres: 5\n",
        "6380: Luis: 3\n",
        "6417: Noriega: 3\n",
        "6459: Bishop Gerardi: 2\n",
        "6459: Juan Gerardi: 2\n",
        "6459: Gerardi: 2\n",
        "6494: Juan Gerardi: 2\n",
        "6494: Gerardi: 2\n",
        "6516: Gerardi: 2\n",
        "6527: Cruz: 2\n",
        "6535: Javier: 5\n",
        "6537: Cruz: 2\n",
        "6559: Gerardi: 2\n",
        "6597: Montt: 2\n",
        "6614: Cruz: 2\n",
        "6615: Fernando: 3\n",
        "6622: Tom: 9\n",
        "6642: Carlos Say: 6\n",
        "6650: Pedro: 2\n",
        "6685: Aristide: 4\n",
        "6688: Pierre: 10\n",
        "6695: Aristide: 4\n",
        "6707: William Charles: 2\n",
        "6711: Jean-Bertrand Aristide: 4\n",
        "6715: Aristide: 4\n",
        "6722: Jean: 10\n",
        "6732: Jean-Bertrand Aristide: 4\n",
        "6744: Bertrand Aristide: 4\n",
        "6744: Jean: 10\n",
        "6746: Mario: 4\n",
        "6746: Paul: 10\n",
        "6747: Aristide: 4\n",
        "6765: Jean-Claude: 3\n",
        "6772: Aristide: 4\n",
        "6778: Jean: 10\n",
        "6786: Jean: 10\n",
        "6811: Aristide: 4\n",
        "6824: Aristide: 4\n",
        "6827: Jean-Bertrand Aristide: 4\n",
        "6838: Aristide: 4\n",
        "6838: Jean-Bertrand Aristide: 4\n",
        "6839: Aristide: 4\n",
        "6850: Pierre Richard Pierre: 2\n",
        "6854: Jean-Bertrand Aristide: 4\n",
        "6855: Andre: 2\n",
        "6860: Andre: 2\n",
        "6866: Patrick: 5\n",
        "6866: Eric: 6\n",
        "6872: Jean: 10\n",
        "6877: Joseph: 9\n",
        "6880: Aristide: 4\n",
        "6886: Aristide: 4\n",
        "6893: Aristide: 4\n",
        "6905: Mario: 4\n",
        "6905: Paul: 10\n",
        "6906: Patrick: 5\n",
        "6906: Eric: 6\n",
        "6908: Aristide: 4\n",
        "6929: Jean-Bertrand Aristide: 4\n",
        "6933: Jean-Bertrand Aristide: 4\n",
        "6938: Michel: 4\n",
        "6938: Serge: 2\n",
        "6940: William Charles: 2\n",
        "6955: Aristide: 4\n",
        "6959: Pierre: 10\n",
        "6962: Aristide: 4\n",
        "6969: Pierre: 10\n",
        "6972: Pierre: 10\n",
        "6974: Aristide: 4\n",
        "6975: Aristide: 4\n",
        "6976: Aristide: 4\n",
        "6978: Aristide: 4\n",
        "6983: Aristide: 4\n",
        "6988: Aristide: 4\n",
        "7066: Alvarez: 4\n",
        "7174: Philip True: 2\n",
        "7196: Miguel: 2\n",
        "7196: Manuel: 6\n",
        "7199: Francisco: 10\n",
        "7202: Reyes: 3\n",
        "7211: Pedro: 2\n",
        "7248: Perez Perez: 6\n",
        "7258: Pedro: 2\n",
        "7264: Romero: 2\n",
        "7265: Fox: 5\n",
        "7275: Romero: 2\n",
        "7302: Juan: 9\n",
        "7305: Carlos: 10\n",
        "7306: Alvarez: 4\n",
        "7333: Alvarez: 4\n",
        "7354: Ortiz: 2\n",
        "7373: Antonio: 5\n",
        "7373: Manuel: 6\n",
        "7376: Vicente: 5\n",
        "7402: Cruz: 2\n",
        "7452: Ciudad Juarez: 6\n",
        "7454: Yolanda: 2\n",
        "7458: Sanchez: 2\n",
        "7470: Salazar: 2\n",
        "7471: Pedro: 2\n",
        "7493: SANCHEZ SANCHEZ: 2\n",
        "7505: Miguel: 2\n",
        "7505: Antonio: 5\n",
        "7532: Monica: 2\n",
        "7532: Nancy: 5\n",
        "7553: Manuel: 6\n",
        "7561: Castillo: 2\n",
        "7565: Fox: 5\n",
        "7571: Rodolfo Montiel: 3\n",
        "7573: Pedro: 2\n",
        "7621: Pedro: 2\n",
        "7687: Dorothy: 3\n",
        "7689: Dorothy: 3\n",
        "7732: Vega: 2\n",
        "8005: Miguel: 2\n",
        "8019: Alberto Fujimori: 2\n",
        "8035: Efrain: 2\n",
        "8045: Efrain: 2\n",
        "8069: Alberto Fujimori: 2\n",
        "8119: Alberto Fujimori: 2\n",
        "8120: Francisco Soberon: 2\n",
        "8130: Alberto Fujimori: 2\n",
        "8140: Alberto Fujimori: 2\n",
        "8158: Juan: 9\n",
        "8233: Juan: 9\n",
        "8407: Mohammed: 7\n",
        "8409: Lewis: 7\n",
        "8412: Stephen: 9\n",
        "8460: Smith: 10\n",
        "8475: Jackie: 4\n",
        "8475: John: 10\n",
        "8481: Wilder: 2\n",
        "8531: Aristide: 4\n",
        "8537: Clinton: 7\n",
        "8561: Ronald: 6\n",
        "8575: Brewer: 2\n",
        "8607: Joseph: 9\n",
        "8615: Ronald: 6\n",
        "8622: John: 10\n",
        "8622: Jackie: 4\n",
        "8659: Clinton: 7\n",
        "8684: Jones: 3\n",
        "8693: Carlos Santana: 2\n",
        "8721: Carlos Santana: 2\n",
        "8728: Anderson: 5\n",
        "8752: James Free: 8\n",
        "8768: Carlos Santana: 2\n",
        "8772: Robin: 2\n",
        "8809: Robert Williams: 2\n",
        "8831: Bush: 10\n",
        "8839: Graham: 8\n",
        "8846: Colin Powell: 3\n",
        "8862: Williams: 10\n",
        "8876: George Page: 5\n",
        "8985: Hunt: 4\n",
        "8999: Robert West: 3\n",
        "9014: Robert: 10\n",
        "9031: George Bush: 10\n",
        "9037: George Page: 5\n",
        "9045: Robert West: 3\n",
        "9063: Robert West: 3\n",
        "9064: Robert White: 7\n",
        "9067: George W. Bush: 9\n",
        "9078: Andrew: 10\n",
        "9082: William Smith: 2\n",
        "9089: Hunt: 4\n",
        "9103: Robert West: 3\n",
        "9111: Johnson: 3\n",
        "9117: William Smith: 2\n",
        "9120: James Williams: 2\n",
        "9125: Clinton: 7\n",
        "9129: Gregory: 2\n",
        "9137: Aristide: 4\n",
        "9148: Thomas Grasso: 3\n",
        "9151: Abdullah: 3\n",
        "9157: James Free: 8\n",
        "9167: Smith: 10\n",
        "9168: Robert Drew: 2\n",
        "9170: Clinton: 7\n",
        "9170: Bill: 10\n",
        "9171: Andrew: 10\n",
        "9176: James Williams: 2\n",
        "9179: Andre Deputy: 2\n",
        "9180: Robert Williams: 2\n",
        "9193: Blair: 5\n",
        "9230: Timothy McVeigh: 2\n",
        "9230: George W. Bush: 9\n",
        "9241: Bill: 10\n",
        "9243: Brown: 8\n",
        "9250: Scott: 8\n",
        "9251: Richard Johnson: 2\n",
        "9272: James Williams: 2\n",
        "9279: Robert White: 7\n",
        "9293: James Williams: 2\n",
        "9305: Davis: 6\n",
        "9307: Kenneth: 9\n",
        "9311: Bush: 10\n",
        "9316: Parker: 3\n",
        "9320: George Miller: 2\n",
        "9340: Brown: 8\n",
        "9347: Richard Johnson: 2\n",
        "9347: Johnson: 3\n",
        "9363: Clinton: 7\n",
        "9372: Davis: 6\n",
        "9374: Robert Williams: 2\n",
        "9377: Timothy McVeigh: 2\n",
        "9377: George W. Bush: 9\n",
        "9379: George Miller: 2\n",
        "9379: Miller: 10\n",
        "9380: Marie: 3\n",
        "9382: black: 10\n",
        "9394: Clinton: 7\n",
        "9405: Bill: 10\n",
        "9413: Bill: 10\n",
        "9419: Graham: 8\n",
        "9422: Robert Williams: 2\n",
        "9424: Elizabeth: 9\n",
        "9427: Michael George: 2\n",
        "9474: Timothy McVeigh: 2\n",
        "9474: McVeigh: 2\n",
        "9486: Ali: 10\n",
        "9507: Robert Williams: 2\n",
        "9516: Robert Drew: 2\n",
        "9523: Elizabeth: 9\n",
        "9537: Michael George: 2\n",
        "9539: George W. Bush: 9\n",
        "9546: Robert Williams: 2\n",
        "9552: Robert Nelson: 2\n",
        "9610: Bush: 10\n",
        "9633: David Long: 10\n",
        "9635: Jacobs: 2\n",
        "9641: Graham: 8\n",
        "9650: David Long: 10\n",
        "9656: Williams: 10\n",
        "9663: Bush: 10\n",
        "9707: Bush: 10\n",
        "9726: Joseph: 9\n",
        "9730: Martinez: 6\n",
        "9730: David Martinez: 2\n",
        "9749: Clinton: 7\n",
        "9753: David Martinez: 2\n",
        "9760: Andrew: 10\n",
        "9760: Monica: 2\n",
        "9770: William: 10\n",
        "9795: Joyce: 5\n",
        "9811: Colin Powell: 3\n",
        "9812: Elijah: 2\n",
        "9814: Dorothy: 3\n",
        "9824: Nadine: 3\n",
        "9825: Thomas King: 4\n",
        "9842: Bush: 10\n",
        "9843: Bush: 10\n",
        "9850: Thomas King: 4\n",
        "9853: Mitchell: 3\n",
        "9878: Andrew: 10\n",
        "9878: Monica: 2\n",
        "9920: Abdullah: 3\n",
        "9934: Paul: 10\n",
        "9944: Gerald: 2\n",
        "9951: Gray: 4\n",
        "9962: Williams: 10\n",
        "9967: Williams: 10\n",
        "9969: Jr: 10\n",
        "9979: Jose High: 4\n",
        "10008: George W. Bush: 9\n",
        "10015: Robin: 2\n",
        "10030: Thomas: 10\n",
        "10031: Gray: 4\n",
        "10031: Julie: 2\n",
        "10052: Elizabeth: 9\n",
        "10053: Brown: 8\n",
        "10056: Mark: 10\n",
        "10056: Elena: 5\n",
        "10063: Miller: 10\n",
        "10069: Hunt: 4\n",
        "10071: Bush: 10\n",
        "10080: Gary Tyler: 2\n",
        "10085: George W. Bush: 9\n",
        "10098: Abdullah: 3\n",
        "10112: Baker: 2\n",
        "10146: Oscar: 3\n",
        "10209: Alison: 2\n",
        "10225: Robert D: 4\n",
        "10264: Karen: 5\n",
        "10266: Karen: 5\n",
        "10280: Karzai: 2\n",
        "10405: Mrs Daw Kyi: 7\n",
        "10406: Da: 2\n",
        "10408: Karen: 5\n",
        "10409: Daw San San: 10\n",
        "10410: Maung Maung: 2\n",
        "10413: Maung: 2\n",
        "10417: Karen: 5\n",
        "10424: Aung Than: 5\n",
        "10425: Karen: 5\n",
        "10427: Daw Aung San Suu Kyi: 10\n",
        "10427: Aung San: 10\n",
        "10432: Maung Maung Win: 2\n",
        "10434: Karen: 5\n",
        "10445: Maung Maung Win: 2\n",
        "10447: Karen: 5\n",
        "10451: Aung San Suu Kyi: 10\n",
        "10467: Maung Maung Win: 2\n",
        "10469: Aung San Suu Kyi: 10\n",
        "10471: Karen: 5\n",
        "10471: Bono: 5\n",
        "10474: Aung San Suu Kyi: 10\n",
        "10505: Daw Aung San Suu Kyi: 10\n",
        "10529: Daw Aung San Suu Kyi: 10\n",
        "10531: Daw Aung San Suu Kyi: 10\n",
        "10536: Daw Aung San Suu Kyi: 10\n",
        "10543: Daw Aung San Suu Kyi: 10\n",
        "10545: Daw Aung San Suu Kyi: 10\n",
        "10546: Maung Maung: 2\n",
        "10547: Karen: 5\n",
        "10558: Aung Kyi: 10\n",
        "10567: Karen: 5\n",
        "10578: Saw Aung San Suu Kyi: 3\n",
        "10581: Maung Maung: 2\n",
        "10582: Maung Maung: 2\n",
        "10613: Lee: 10\n",
        "10633: Paul Star: 2\n",
        "10641: Paul Star: 2\n",
        "10760: Li Li: 7\n",
        "10771: Dalai Lama: 6\n",
        "10803: Jiang: 2\n",
        "10809: Dawa: 2\n",
        "10922: Liu: 2\n",
        "10931: David: 10\n",
        "10951: Liu: 2\n",
        "10964: Wang: 4\n",
        "10988: Liu: 2\n",
        "11059: Yang Yang: 3\n",
        "11060: Yang Yang: 3\n",
        "11154: Ismail: 3\n",
        "11183: Rajiv Gandhi: 3\n",
        "11189: Rajiv Gandhi: 3\n",
        "11207: Rajiv Gandhi: 3\n",
        "11290: Singh: 2\n",
        "11300: John: 10\n",
        "11313: Singh: 2\n",
        "11372: Daniel: 10\n",
        "11390: Jose: 9\n",
        "11392: Jose Soares: 2\n",
        "11393: Abdullah: 3\n",
        "11398: Alberto: 3\n",
        "11398: Luis: 3\n",
        "11400: Abdullah: 3\n",
        "11409: Alberto: 3\n",
        "11409: Luis: 3\n",
        "11464: Marcos: 2\n",
        "11464: Miguel: 2\n",
        "11467: Muhammad: 3\n",
        "11477: Muhammad: 3\n",
        "11479: John Paul: 10\n",
        "11488: Marcos: 2\n",
        "11488: Miguel: 2\n",
        "11488: Isaac: 2\n",
        "11498: Jose: 9\n",
        "11511: Fernando: 3\n",
        "11511: Antonio: 5\n",
        "11531: Amin: 3\n",
        "11533: Ali: 10\n",
        "11547: Fernando: 3\n",
        "11547: Antonio: 5\n",
        "11549: Adnan: 2\n",
        "11556: Marcos: 2\n",
        "11556: Miguel: 2\n",
        "11556: Isaac: 2\n",
        "11564: Adnan: 2\n",
        "11570: Vicente: 5\n",
        "11570: Eduardo: 2\n",
        "11570: Luis: 3\n",
        "11570: Felipe: 4\n",
        "11571: Adnan: 2\n",
        "11573: Manuel: 6\n",
        "11573: Gil: 2\n",
        "11574: Rafael: 3\n",
        "11580: Marcos: 2\n",
        "11592: Daniel: 10\n",
        "11594: Adnan: 2\n",
        "11603: Daniel: 10\n",
        "11610: Antonio: 5\n",
        "11622: Ismail: 3\n",
        "11634: Jorge: 4\n",
        "11634: Daniel: 10\n",
        "11644: Virgin Mary: 2\n",
        "11649: Marcos: 2\n",
        "11653: Pedro: 2\n",
        "11653: Jorge: 4\n",
        "11653: Daniel: 10\n",
        "11659: Antonio: 5\n",
        "11688: Julia: 3\n",
        "11704: Manuel: 6\n",
        "11715: Antonio: 5\n",
        "11723: Manuel: 6\n",
        "11729: Jose: 9\n",
        "11744: Manuel: 6\n",
        "11744: Gil: 2\n",
        "11756: Ismail: 3\n",
        "11760: Ismail: 3\n",
        "11772: Amin: 3\n",
        "11772: Abdullah: 3\n",
        "11777: Wilson: 8\n",
        "11780: Wilson: 8\n",
        "11784: Adnan: 2\n",
        "11787: Rafael: 3\n",
        "11806: Amin: 3\n",
        "11806: Abdullah: 3\n",
        "11808: Wilson: 8\n",
        "11812: Adnan: 2\n",
        "11812: Ali: 10\n",
        "11819: Eduardo: 2\n",
        "11819: Fernando: 3\n",
        "11819: Soares: 2\n",
        "11820: Manuel: 6\n",
        "11824: Amin: 3\n",
        "11828: Augusto: 9\n",
        "11828: Manuel: 6\n",
        "11839: Francisco: 10\n",
        "11844: Marcos: 2\n",
        "11886: Francisco: 10\n",
        "11886: Antonio: 5\n",
        "11916: Sarah: 6\n",
        "11923: Hun Sen: 2\n",
        "11924: Chen: 3\n",
        "11934: Hun Sen: 2\n",
        "11944: Hun Sen: 2\n",
        "11978: Kim: 10\n",
        "12020: Kim Dae: 3\n",
        "12037: Kim: 10\n",
        "12039: Lee: 10\n",
        "12042: Lee: 10\n",
        "12070: Chun: 2\n",
        "12074: Kim Ki-hwan: 2\n",
        "12092: Kim Dae-jung: 3\n",
        "12097: Kim Dae-jung: 3\n",
        "12099: Kim: 10\n",
        "12101: Kim: 10\n",
        "12104: Kim: 10\n",
        "12113: Lee: 10\n",
        "12115: Kim: 10\n",
        "12131: Kim: 10\n",
        "12199: Muslim: 10\n",
        "12201: James: 10\n",
        "12208: Muslim: 10\n",
        "12244: Ali: 10\n",
        "12250: David: 10\n",
        "12264: Mohammad: 2\n",
        "12284: Ali: 10\n",
        "12293: Ali: 10\n",
        "12304: Adam: 10\n",
        "12325: Ali: 10\n",
        "12354: Abdullah: 3\n",
        "12871: Mohammad: 2\n",
        "12879: Mohammad: 2\n",
        "12879: Muslim: 10\n",
        "12912: Saeed: 2\n",
        "12918: Saeed: 2\n",
        "13002: Aziz: 6\n",
        "13045: Marcos: 2\n",
        "13086: Ramon: 2\n",
        "13165: Rodolfo: 4\n",
        "13166: Andres: 5\n",
        "13195: Leon: 3\n",
        "13404: Charles: 10\n",
        "13409: John: 10\n",
        "13477: Kumaratunga: 2\n",
        "13547: Mohamed: 3\n",
        "13624: Li: 7\n",
        "13627: Aung Win: 3\n",
        "13823: Ahmed: 4\n",
        "13824: Ahmed: 4\n",
        "13869: Muhammad: 3\n",
        "13870: Muhammad: 3\n",
        "13897: Vaclav Havel: 2\n",
        "13899: Vaclav Havel: 2\n",
        "13901: Vaclav Havel: 2\n",
        "13906: Vaclav Havel: 2\n",
        "14130: Augusto Pinochet: 9\n",
        "14312: Abdullah: 3\n",
        "14360: Abdullah: 3\n",
        "14387: Van: 10\n",
        "14456: A. Aziz: 6\n",
        "14786: Abdullah: 3\n",
        "14804: Ibrahim: 6\n",
        "15190: Ali: 10\n",
        "15276: Abdullah: 3\n",
        "15286: Abdullah: 3\n",
        "15310: Ibrahim: 6\n",
        "15381: Abdullah: 3\n",
        "15463: William Power: 10\n",
        "15463: John Walker: 2\n",
        "15467: Augusto Pinochet: 9\n",
        "15480: Augusto Pinochet: 9\n",
        "15481: Augusto Pinochet: 9\n",
        "15482: Augusto Pinochet: 9\n",
        "15483: Augusto Pinochet: 9\n",
        "15483: Pinochet: 9\n",
        "15484: Augusto Pinochet: 9\n",
        "15484: Pinochet: 9\n",
        "15530: Ibrahim: 6\n",
        "15531: Elena: 5\n",
        "15963: Leyla Yunus: 2\n",
        "15979: Hasanov: 2\n",
        "15979: Elman Hasanov: 2\n",
        "16076: Vladimir: 10\n",
        "16123: Mary: 10\n",
        "16148: Sana: 2\n",
        "16200: Kim: 10\n",
        "16385: Albanian: 3\n",
        "16393: Albanian: 3\n",
        "16404: Albanian: 3\n",
        "16407: Albanian: 3\n",
        "16409: Albanian: 3\n",
        "16411: Albanian: 3\n",
        "16416: Albanian: 3\n",
        "16417: Albanian: 3\n",
        "16419: Albanian: 3\n",
        "16422: Albanian: 3\n",
        "16425: Albanian: 3\n",
        "16436: Albanian: 3\n",
        "16439: Albanian: 3\n",
        "16443: Milosevic: 5\n",
        "16446: Albanian: 3\n",
        "16449: Albanian: 3\n",
        "16453: Albanian: 3\n",
        "16454: Albanian: 3\n",
        "16456: Albanian: 3\n",
        "16464: Albanian: 3\n",
        "16465: Albanian: 3\n",
        "16468: Albanian: 3\n",
        "16471: Albanian: 3\n",
        "16480: Albanian: 3\n",
        "16511: Hassan Ahmed: 2\n",
        "16512: Muhammad: 3\n",
        "16515: Muhammad: 3\n",
        "16520: Muhammad: 3\n",
        "16522: Muhammad: 3\n",
        "16539: Ali: 10\n",
        "16546: Ali: 10\n",
        "16552: Muhammad: 3\n",
        "16555: Abdullah: 3\n",
        "16558: Ahmed Hassan: 2\n",
        "16568: Ahmad: 3\n",
        "16570: Ahmad: 3\n",
        "16571: Abdullah: 3\n",
        "16575: Ali: 10\n",
        "16576: Muhammad: 3\n",
        "16580: Ali: 10\n",
        "16589: Mohammad: 2\n",
        "16591: Ahmad: 3\n",
        "16603: Mubarak: 3\n",
        "16605: Mohammad: 2\n",
        "16623: Mubarak: 3\n",
        "16625: Mubarak: 3\n",
        "16631: Tariq: 2\n",
        "16635: Aziz: 6\n",
        "16636: Ahmed: 4\n",
        "16638: Ahmed: 4\n",
        "16639: Mohammad: 2\n",
        "16640: Mubarak: 3\n",
        "16645: Ali: 10\n",
        "16646: Amin: 3\n",
        "16646: Tariq: 2\n",
        "16651: Al: 10\n",
        "16654: Hosni Mubarak: 3\n",
        "16659: Mohammad: 2\n",
        "16663: Ahmed: 4\n",
        "16665: Mohammad: 2\n",
        "16666: Ali: 10\n",
        "16666: Abu: 10\n",
        "16669: Abdullah: 3\n",
        "16673: Mohammad: 2\n",
        "16675: Muhammad: 3\n",
        "16676: Ali: 10\n",
        "16681: Ali: 10\n",
        "16681: Abu: 10\n",
        "16684: Mohammad: 2\n",
        "16685: Mubarak: 3\n",
        "16686: Mohammad: 2\n",
        "16686: Mubarak: 3\n",
        "16688: Ahmad: 3\n",
        "16690: Ayman: 2\n",
        "16695: Mohammad: 2\n",
        "16700: Aziz: 6\n",
        "16704: Mohammad: 2\n",
        "16706: Muhammad: 3\n",
        "16707: Mubarak: 3\n",
        "16707: Ali: 10\n",
        "16709: Ahmad: 3\n",
        "16709: Aziz: 6\n",
        "16712: Ibrahim: 6\n",
        "16714: Ahmad: 3\n",
        "16720: Mubarak: 3\n",
        "16723: Ahmed: 4\n",
        "16735: Mohammad: 2\n",
        "16746: Mohammad: 2\n",
        "16753: Ali: 10\n",
        "16754: Ahmad: 3\n",
        "16759: Mubarak: 3\n",
        "16760: Ahmad: 3\n",
        "16763: Mohammad: 2\n",
        "16766: Mohammad: 2\n",
        "16768: Mohammad: 2\n",
        "16770: Ali: 10\n",
        "16772: Mohammad: 2\n",
        "16772: Fathi: 3\n",
        "16772: Abdullah: 3\n",
        "16773: Ahmad: 3\n",
        "16778: Ahmad: 3\n",
        "16786: Mohammad: 2\n",
        "16791: Mohammad: 2\n",
        "16791: Fathi: 3\n",
        "16810: Ali: 10\n",
        "16811: Ahmad: 3\n",
        "16813: Samir: 4\n",
        "16826: Mohammad: 2\n",
        "16828: Mohammad: 2\n",
        "16831: Mohammad: 2\n",
        "16834: Mohammad: 2\n",
        "16838: Mohammad: 2\n",
        "16842: Mohammad: 2\n",
        "16845: Mohammad: 2\n",
        "16849: Mohammad: 2\n",
        "16850: Ahmad: 3\n",
        "16853: Mohammad: 2\n",
        "16855: Aziz: 6\n",
        "16862: Ahmad: 3\n",
        "16876: Ali: 10\n",
        "16885: Leyla: 4\n",
        "16899: Ali: 10\n",
        "16941: Arab: 10\n",
        "16953: Arab: 10\n",
        "16997: Ahmad: 3\n",
        "17037: Ali: 10\n",
        "17066: Hassan: 10\n",
        "17069: Arab: 10\n",
        "17097: Danny: 4\n",
        "17139: Khomeini: 4\n",
        "17167: Arab: 10\n",
        "17202: Arab: 10\n",
        "17202: Imad: 2\n",
        "17244: Imad: 2\n",
        "17244: Ahmad: 3\n",
        "17302: Imad: 2\n",
        "17302: Ahmad: 3\n",
        "17312: Leyla: 4\n",
        "17313: Arab: 10\n",
        "17341: Arab: 10\n",
        "17348: Imad: 2\n",
        "17371: Arab: 10\n",
        "17379: Ayatollah Khomeini: 4\n",
        "17414: Abdullah: 3\n",
        "17419: Arab: 10\n",
        "17444: Arab: 10\n",
        "17454: Ayatollah: 5\n",
        "17455: Ali: 10\n",
        "17461: Ali: 10\n",
        "17473: Ali: 10\n",
        "17475: Ahmad: 3\n",
        "17475: Adnan: 2\n",
        "17479: Ali: 10\n",
        "17488: Abdullah: 3\n",
        "17488: Ahmad: 3\n",
        "17488: Hamid: 2\n",
        "17490: Ibrahim: 6\n",
        "17493: Ramadan: 3\n",
        "17495: Aziz: 6\n",
        "17507: Abdullah: 3\n",
        "17517: Abdullah: 3\n",
        "17524: Abdullah: 3\n",
        "17524: Ahmad: 3\n",
        "17538: Ali: 10\n",
        "17539: Abdullah: 3\n",
        "17544: Ali: 10\n",
        "17545: Muhammad: 3\n",
        "17552: Jordan: 8\n",
        "17564: Adnan: 2\n",
        "17568: Ibrahim: 6\n",
        "17581: Adnan: 2\n",
        "17587: Saddam Hussein: 10\n",
        "17606: Hussein: 10\n",
        "17608: Muhammad: 3\n",
        "17616: Hussein: 10\n",
        "17628: Mohammad: 2\n",
        "17629: Ahmad: 3\n",
        "17631: Mohamed: 3\n",
        "17682: Hussein: 10\n",
        "17705: Muhammad: 3\n",
        "17706: James: 10\n",
        "17733: Muhammad: 3\n",
        "17740: Ahmad: 3\n",
        "17742: Joseph: 9\n",
        "17742: Roger: 6\n",
        "17742: Michel: 4\n",
        "17764: Agence France Presse: 6\n",
        "17775: Muhammad: 3\n",
        "17779: Mohammad: 2\n",
        "17791: Bashir: 2\n",
        "17799: Muhammad: 3\n",
        "17806: Arafat: 2\n",
        "17813: Muhammad: 3\n",
        "17816: Muhammad: 3\n",
        "17819: Muhammad: 3\n",
        "17875: Abdullah: 3\n",
        "17878: Abdullah: 3\n",
        "17878: Ahmad: 3\n",
        "17887: Hussein: 10\n",
        "17893: Abdullah: 3\n",
        "17893: Allan: 5\n",
        "17893: Muhammad: 3\n",
        "17895: Khaled: 2\n",
        "17900: Abdullah: 3\n",
        "17902: Hussein: 10\n",
        "17905: Ali: 10\n",
        "17911: Abdullah: 3\n",
        "17911: Ahmad: 3\n",
        "17922: Anwar: 3\n",
        "17922: Abu: 10\n",
        "17926: Ali: 10\n",
        "17931: Anwar: 3\n",
        "17935: Ibrahim: 6\n",
        "17940: Anwar: 3\n",
        "17949: Nash: 2\n",
        "17959: Muhammad: 3\n",
        "17960: Hussein: 10\n",
        "17960: Abdullah: 3\n",
        "17975: Allan: 5\n",
        "17975: Muhammad: 3\n",
        "17980: Ali: 10\n",
        "17983: Nash: 2\n",
        "17986: Muhammad: 3\n",
        "17997: Khalifa: 2\n",
        "18005: George Bush: 10\n",
        "18020: George Bush: 10\n",
        "18024: Muhammad: 3\n",
        "18025: George Bush: 10\n",
        "18029: Ahmad: 3\n",
        "18031: Muhammad: 3\n",
        "18033: Ahmad: 3\n",
        "18033: Hamid: 2\n",
        "18033: Ali: 10\n",
        "18034: Muhammad: 3\n",
        "18035: Muhammad: 3\n",
        "18039: George Bush: 10\n",
        "18040: Ali: 10\n",
        "18041: Muhammad: 3\n",
        "18042: George Bush: 10\n",
        "18043: Muhammad: 3\n",
        "18046: Michel: 4\n",
        "18047: Jose: 9\n",
        "18047: Michel: 4\n",
        "18052: Ahmad: 3\n",
        "18062: Jose: 9\n",
        "18066: Ahmad: 3\n",
        "18068: Ali: 10\n",
        "18075: Muhammad: 3\n",
        "18081: Ahmad: 3\n",
        "18083: Ali: 10\n",
        "18085: Ahmad: 3\n",
        "18090: Ali: 10\n",
        "18106: Pierre: 10\n",
        "18119: Mohammad: 2\n",
        "18125: Daw: 10\n",
        "18129: Ahmad: 3\n",
        "18130: Mohammad: 2\n",
        "18206: Ahmad Abu: 2\n",
        "18213: Ibrahim: 6\n",
        "18214: Khaled: 2\n",
        "18214: Arafat: 2\n",
        "18236: Ahmad: 3\n",
        "18251: Arafat: 2\n",
        "18264: Mohammed: 7\n",
        "18264: Hamad: 2\n",
        "18273: Ali: 10\n",
        "18283: Hamad: 2\n",
        "18289: Muhammad: 3\n",
        "18298: Muhammad: 3\n",
        "18300: Muhammad: 3\n",
        "18300: Abdullah: 3\n",
        "18301: Mohammed: 7\n",
        "18301: Mohamed: 3\n",
        "18313: Muhammad: 3\n",
        "18313: Abdullah: 3\n",
        "18315: Abdullah: 3\n",
        "18315: Ibrahim: 6\n",
        "18315: Khalid: 2\n",
        "18315: Aziz: 6\n",
        "18319: Ali: 10\n",
        "18319: Muhammad: 3\n",
        "18324: Ali Say: 5\n",
        "18337: Aziz: 6\n",
        "18350: Mohamed Said: 3\n",
        "18355: Muhammad: 3\n",
        "18362: Mrs S: 10\n",
        "18369: Abdullah: 3\n",
        "18376: Aziz: 6\n",
        "18377: Abdullah: 3\n",
        "18381: Robin: 2\n",
        "18390: Mrs S: 10\n",
        "18393: Abdullah: 3\n",
        "18418: Khalid: 2\n",
        "18430: Omar: 3\n",
        "18434: Ali: 10\n",
        "18442: George Thomas: 2\n",
        "18445: Ali: 10\n",
        "18449: Ali: 10\n",
        "18455: Muhammad: 3\n",
        "18461: Hafez: 3\n",
        "18461: Assad: 10\n",
        "18462: Muhammad: 3\n",
        "18463: Ali: 10\n",
        "18468: Arafat: 2\n",
        "18470: Samir: 4\n",
        "18478: Muhammad: 3\n",
        "18481: Muhammad: 3\n",
        "18497: Hassan 'Ali: 2\n",
        "18497: Samir: 4\n",
        "18497: Muhammad: 3\n",
        "18511: Ali: 10\n",
        "18511: Abdullah: 3\n",
        "18514: Muhammad: 3\n",
        "18523: Khaled: 2\n",
        "18539: Muhammad: 3\n",
        "18552: Ali: 10\n",
        "18563: Muhammad: 3\n",
        "18575: Muhammad: 3\n",
        "18577: Hassan 'Ali: 2\n",
        "18577: Muhammad: 3\n",
        "18604: Amin: 3\n",
        "18607: Ali: 10\n",
        "18608: Hassan 'Ali: 2\n",
        "18608: Muhammad: 3\n",
        "18613: Hamid: 2\n",
        "18621: Muhammad: 3\n",
        "18629: Abdullah: 3\n",
        "18629: Ali: 10\n",
        "18633: Abdullah: 3\n",
        "18646: Muhammad: 3\n",
        "18650: Muhammad: 3\n",
        "18651: Abdullah: 3\n",
        "18651: Ali: 10\n",
        "18655: Ali: 10\n",
        "18655: Abdullah: 3\n",
        "18656: Muhammad: 3\n",
        "18657: Ahmad: 3\n",
        "18658: Ali: 10\n",
        "18658: Abdullah: 3\n",
        "18661: Abdullah: 3\n",
        "18661: Hussein: 10\n",
        "18661: Ali: 10\n",
        "18669: Mohammad: 2\n",
        "18670: Anwar: 3\n",
        "18673: Ahmad: 3\n",
        "18677: Muhammad: 3\n",
        "18679: Bashar al-Assad: 9\n",
        "18684: Kareem: 3\n",
        "18685: Abdullah: 3\n",
        "18685: Ali: 10\n",
        "18689: Hamid: 2\n",
        "18693: Hamid: 2\n",
        "18703: Muhammad: 3\n",
        "18703: Abdullah: 3\n",
        "18703: Ali: 10\n",
        "18704: Muhammad: 3\n",
        "18705: Ali: 10\n",
        "18705: Abdullah: 3\n",
        "18707: Abdullah: 3\n",
        "18708: Abdullah: 3\n",
        "18708: Ali: 10\n",
        "18712: Muhammad: 3\n",
        "18715: Hamid: 2\n",
        "18716: Jordan: 8\n",
        "18718: Jordan: 8\n",
        "18720: Ali: 10\n",
        "18720: Abdullah: 3\n",
        "18725: Abdullah: 3\n",
        "18731: Abdullah: 3\n",
        "18733: Abdullah: 3\n",
        "18733: Ali: 10\n",
        "18737: Abdullah: 3\n",
        "18737: Ali: 10\n",
        "18751: Ali: 10\n",
        "18752: Ali: 10\n",
        "18754: Ahmad: 3\n",
        "18769: Ali: 10\n",
        "18802: Ali: 10\n",
        "18813: Prince: 8\n",
        "18817: Ahmad: 3\n",
        "18825: Ali: 10\n",
        "18826: Ali: 10\n",
        "18828: Ali: 10\n",
        "18899: Ali: 10\n",
        "18905: Ahmed: 4\n",
        "18905: Ali: 10\n",
        "18963: Ahmed: 4\n",
        "18964: Abdel: 3\n",
        "18967: Abdel: 3\n",
        "18967: King Hassan II: 2\n",
        "18974: Mohamed: 3\n",
        "18983: Ahmed: 4\n",
        "18988: Abdel: 3\n",
        "18990: Abdel: 3\n",
        "19103: Fathi: 3\n",
        "19175: Mohammed: 7\n",
        "19182: Mohammed: 7\n",
        "19250: Sara: 3\n",
        "19294: Abdullah: 3\n",
        "19296: Abdullah: 3\n",
        "19296: Ahmad: 3\n",
        "19296: Muhammad: 3\n",
        "19300: Ibrahim: 6\n",
        "19306: Abdul: 4\n",
        "19312: Abdullah: 3\n",
        "19312: Ali: 10\n",
        "19315: Ali: 10\n",
        "19316: Ahmed: 4\n",
        "19316: Amin: 3\n",
        "19316: Ali: 10\n",
        "19321: Abdullah: 3\n",
        "19334: Saddam Hussein: 10\n",
        "19338: Abdullah: 3\n",
        "19346: Abdullah: 3\n",
        "19346: Ahmad: 3\n",
        "19346: Muhammad: 3\n",
        "19351: Ali: 10\n",
        "19351: Abdullah: 3\n",
        "19358: Ahmed: 4\n",
        "19358: Amin: 3\n",
        "19358: Ali: 10\n",
        "19362: Ibrahim: 6\n",
        "19374: Muhammad: 3\n",
        "19377: Hussein: 10\n",
        "19381: Hussein: 10\n",
        "19385: Ahmed: 4\n",
        "19386: Ibrahim: 6\n",
        "19389: Hassan: 10\n",
        "19392: Abdullah: 3\n",
        "19400: Ali: 10\n",
        "19401: Hassan: 10\n",
        "19513: Laurent Gbagbo: 2\n",
        "19514: Laurent Gbagbo: 2\n",
        "19564: Robert Mugabe: 7\n",
        "19574: Jenni Williams: 2\n",
        "19574: Magodonga Mahlangu: 2\n",
        "19590: Jenni Williams: 2\n",
        "19597: Magodonga Mahlangu: 2\n",
        "19603: Magodonga Mahlangu: 2\n",
        "19604: Jenni Williams: 2\n",
        "19604: Magodonga Mahlangu: 2\n",
        "19741: Bill: 10\n",
        "19743: Bill: 10\n",
        "19744: Bill: 10\n",
        "19746: Bill: 10\n",
        "19841: Rio de Janeiro: 4\n",
        "19978: Carlos: 10\n",
        "20139: Jean Bertrand Aristide: 4\n",
        "20193: Calderon: 2\n",
        "20200: Reyes: 3\n",
        "20210: Juan Gerardi: 2\n",
        "20397: Francisco: 10\n",
        "20434: Alberto Fujimori: 2\n",
        "20474: Bush: 10\n",
        "20480: Tyler: 4\n",
        "20480: Gary Tyler: 2\n",
        "20484: Robert: 10\n",
        "20504: Barack Obama: 4\n",
        "20509: Mohammed: 7\n",
        "20519: Barack Obama: 4\n",
        "20535: Mohammed: 7\n",
        "20580: Cook: 5\n",
        "20595: Johnson: 3\n",
        "20621: Mohammed: 7\n",
        "20623: Henry: 7\n",
        "20642: Jackson: 8\n",
        "20644: Bishop: 7\n",
        "20649: Williams: 10\n",
        "20650: Bush: 10\n",
        "20683: George W. Bush: 9\n",
        "20726: Gerald: 2\n",
        "20730: Colin: 3\n",
        "20756: Vincent: 2\n",
        "20759: Karzai: 2\n",
        "20786: Robert: 10\n",
        "20808: Nilar Thein: 2\n",
        "20821: Lau: 2\n",
        "21016: Singh: 2\n",
        "21032: Rajiv Gandhi: 3\n",
        "21036: Rajiv Gandhi: 3\n",
        "21037: Putin: 10\n",
        "21071: Adam: 10\n",
        "21072: Abdullah: 3\n",
        "21117: Ken: 2\n",
        "21122: Yu: 2\n",
        "21140: Ismail: 3\n",
        "21163: Singh: 2\n",
        "21164: Abdullah: 3\n",
        "21164: Ibrahim: 6\n",
        "21166: Ibrahim: 6\n",
        "21166: Abdullah: 3\n",
        "21335: Mohamed: 3\n",
        "21403: Hill: 10\n",
        "21404: Hill: 10\n",
        "21496: Nadezhda Tolokonnikova: 6\n",
        "21804: Ali Hassan: 2\n",
        "21810: Ali Hassan: 2\n",
        "21854: Mohammad Mohammad: 2\n",
        "21861: Mubarak: 3\n",
        "21862: Hosni Mubarak: 3\n",
        "21894: Hosni Mubarak: 3\n",
        "22004: Ali: 10\n",
        "22232: Mohammad: 2\n",
        "22303: Arab: 10\n",
        "22340: Vice-President: 10\n",
        "22346: Saddam Hussein: 10\n",
        "22349: Muhammad: 3\n",
        "22351: Saddam: 10\n",
        "22361: Imad: 2\n",
        "22366: Ahmad: 3\n",
        "22379: Saddam Hussein: 10\n",
        "22382: Omar: 3\n",
        "22413: Abu Ghraib: 8\n",
        "22461: Adnan: 2\n",
        "22487: Alison: 2\n",
        "22511: Muhammad: 3\n",
        "22512: Muhammad: 3\n",
        "22515: Muhammad: 3\n",
        "22517: Muhammad: 3\n",
        "22518: Ibrahim: 6\n",
        "22520: Arab: 10\n",
        "22523: Fathi: 3\n",
        "22525: Fathi: 3\n",
        "22531: Fathi: 3\n",
        "22533: Al Jazeera: 5\n",
        "22568: Mohammed: 7\n",
        "22571: Mohammed: 7\n",
        "22583: Abdullah: 3\n",
        "22583: Mohammed: 7\n",
        "22596: Muhammad: 3\n",
        "22600: Muhammad: 3\n",
        "22609: Ramadan: 3\n",
        "22630: Abdullah: 3\n",
        "22630: Mohammed: 7\n",
        "22651: Muhammad: 3\n",
        "22656: Mohammed: 7\n",
        "22673: Ali Hassan: 2\n",
        "22679: Ali Hassan: 2\n",
        "22693: Hassan: 10\n",
        "22695: Muhammad: 3\n",
        "22698: Ali: 10\n",
        "22737: Omar: 3\n",
        "22761: Al Jazeera: 5\n",
        "22783: Ali: 10\n",
        "22788: Ali: 10\n",
        "22789: Hassan: 10\n",
        "22803: Al-Assad: 10\n",
        "22807: Mohamed: 3\n",
        "22821: Abdullah: 3\n",
        "22821: Ahmad: 3\n",
        "22821: Ali: 10\n",
        "22836: Mohamed: 3\n",
        "22840: Muhammad: 3\n",
        "22840: Hamid: 2\n",
        "22843: Hussein: 10\n",
        "22939: Bill: 10\n",
        "22963: Ahmed: 4\n",
        "22970: Hassan: 10\n",
        "22971: Mohamed: 3\n",
        "22973: Hassan: 10\n",
        "22979: Hussein: 10\n",
        "22984: Muhammad: 3\n",
        "22984: Hussein: 10\n",
        "23006: Michael Anti: 3\n"
       ]
      }
     ],
     "prompt_number": 75
    },
    {
     "cell_type": "code",
     "collapsed": false,
     "input": [
      "articles = api.search(fq = {'source':['Reuters','AP', 'The New York Times'], 'organizations.contains':['Amnesty']})"
     ],
     "language": "python",
     "metadata": {},
     "outputs": [],
     "prompt_number": 78
    },
    {
     "cell_type": "code",
     "collapsed": false,
     "input": [
      "articles"
     ],
     "language": "python",
     "metadata": {},
     "outputs": [
      {
       "metadata": {},
       "output_type": "pyout",
       "prompt_number": 79,
       "text": [
        "{u'copyright': u'Copyright (c) 2013 The New York Times Company.  All Rights Reserved.',\n",
        " u'response': {u'docs': [{u'_id': u'54ba9e0238f0d859ed5d258a',\n",
        "    u'abstract': u'Former kickboxing world champion Zakaria Moumni files lawsuit against Moroccan officials for allegedly using war against terrorism and harsh Central Intelligence Agency tactics as cover for torture and atrocity; human rights groups say Morocco is attacking opposition by using former CIA interrogation sites in the country to torture dissenters; Moroccan authorities deny allegations.',\n",
        "    u'blog': [],\n",
        "    u'byline': {u'contributor': u'',\n",
        "     u'original': u'By AIDA ALAMI',\n",
        "     u'person': [{u'firstname': u'Aida',\n",
        "       u'lastname': u'ALAMI',\n",
        "       u'organization': u'',\n",
        "       u'rank': 1,\n",
        "       u'role': u'reported'}]},\n",
        "    u'document_type': u'article',\n",
        "    u'headline': {u'main': u'Morocco Crushed Dissent Using a U.S. Interrogation Site, Rights Advocates Say ',\n",
        "     u'print_headline': u'Morocco Crushed Dissent Using a U.S. Interrogation Site, Rights Advocates Say'},\n",
        "    u'keywords': [{u'is_major': u'Y',\n",
        "      u'name': u'glocations',\n",
        "      u'rank': u'2',\n",
        "      u'value': u'Morocco'},\n",
        "     {u'is_major': u'Y',\n",
        "      u'name': u'subject',\n",
        "      u'rank': u'3',\n",
        "      u'value': u'Torture'},\n",
        "     {u'is_major': u'Y',\n",
        "      u'name': u'organizations',\n",
        "      u'rank': u'4',\n",
        "      u'value': u'Central Intelligence Agency'},\n",
        "     {u'is_major': u'Y',\n",
        "      u'name': u'subject',\n",
        "      u'rank': u'5',\n",
        "      u'value': u'Human Rights and Human Rights Violations'},\n",
        "     {u'is_major': u'N',\n",
        "      u'name': u'subject',\n",
        "      u'rank': u'6',\n",
        "      u'value': u'Detainees'},\n",
        "     {u'is_major': u'N',\n",
        "      u'name': u'subject',\n",
        "      u'rank': u'7',\n",
        "      u'value': u'Extraordinary Rendition'},\n",
        "     {u'is_major': u'N',\n",
        "      u'name': u'organizations',\n",
        "      u'rank': u'8',\n",
        "      u'value': u'Amnesty International'},\n",
        "     {u'is_major': u'N',\n",
        "      u'name': u'glocations',\n",
        "      u'rank': u'9',\n",
        "      u'value': u'United States'}],\n",
        "    u'lead_paragraph': u'The authorities in Morocco denied allegations that they used the war against terrorism and harsh C.I.A. tactics as a cover to torture those who spoke out against them.',\n",
        "    u'multimedia': [],\n",
        "    u'news_desk': u'Foreign',\n",
        "    u'print_page': u'6',\n",
        "    u'pub_date': u'2015-01-18T00:00:00Z',\n",
        "    u'section_name': u'World',\n",
        "    u'snippet': u'The authorities in Morocco denied allegations that they used the war against terrorism and harsh C.I.A. tactics as a cover to torture those who spoke out against them.',\n",
        "    u'source': u'The New York Times',\n",
        "    u'subsection_name': u'Africa',\n",
        "    u'type_of_material': u'News',\n",
        "    u'web_url': u'http://www.nytimes.com/2015/01/18/world/us-tactics-in-morocco-said-to-enable-torture.html',\n",
        "    u'word_count': u'1078'},\n",
        "   {u'_id': u'54b8667138f0d80d88c3fda3',\n",
        "    u'abstract': None,\n",
        "    u'blog': [],\n",
        "    u'byline': {u'organization': u'REUTERS',\n",
        "     u'original': u'By REUTERS',\n",
        "     u'person': []},\n",
        "    u'document_type': u'article',\n",
        "    u'headline': {u'content_kicker': u'World Briefing',\n",
        "     u'main': u'Mauritania: Slavery Foes Get Two-Year Sentences',\n",
        "     u'print_headline': u'Mauritania: Slavery Foes Get Two-Year Sentences'},\n",
        "    u'keywords': [{u'is_major': u'N',\n",
        "      u'name': u'glocations',\n",
        "      u'rank': u'1',\n",
        "      u'value': u'Mauritania'},\n",
        "     {u'is_major': u'N',\n",
        "      u'name': u'subject',\n",
        "      u'rank': u'2',\n",
        "      u'value': u'Human Rights and Human Rights Violations'},\n",
        "     {u'is_major': u'N',\n",
        "      u'name': u'subject',\n",
        "      u'rank': u'3',\n",
        "      u'value': u'Human Trafficking'},\n",
        "     {u'is_major': u'N',\n",
        "      u'name': u'organizations',\n",
        "      u'rank': u'4',\n",
        "      u'value': u'Amnesty International'},\n",
        "     {u'is_major': u'N',\n",
        "      u'name': u'subject',\n",
        "      u'rank': u'5',\n",
        "      u'value': u'Demonstrations, Protests and Riots'}],\n",
        "    u'lead_paragraph': u'A candidate in last year\\u2019s presidential election in Mauritania was jailed for two years on Thursday along with two other people who had organized a march against slavery, their defense lawyer said.',\n",
        "    u'multimedia': [],\n",
        "    u'news_desk': u'Foreign',\n",
        "    u'print_page': u'',\n",
        "    u'pub_date': u'2015-01-16T00:00:00Z',\n",
        "    u'section_name': u'World',\n",
        "    u'snippet': u'A candidate in last year\\u2019s presidential election in Mauritania was jailed for two years on Thursday along with two other people who had organized a march against slavery, their defense lawyer said.',\n",
        "    u'source': u'The New York Times',\n",
        "    u'subsection_name': u'Africa',\n",
        "    u'type_of_material': u'Brief',\n",
        "    u'web_url': u'http://www.nytimes.com/2015/01/16/world/africa/mauritania-slavery-foes-get-two-year-sentences.html',\n",
        "    u'word_count': u'146'},\n",
        "   {u'_id': u'54b80d1c38f0d80d88c3fc5a',\n",
        "    u'abstract': u'Analysis of satellite images by Amnesty International and Human Rights Watch reveals that Boko Harum militants have destroyed thousands of buildings in northern Nigeria by employing scorched-earth tactics against civilians.',\n",
        "    u'blog': [],\n",
        "    u'byline': {u'contributor': u'',\n",
        "     u'original': u'By ADAM NOSSITER',\n",
        "     u'person': [{u'firstname': u'Adam',\n",
        "       u'lastname': u'NOSSITER',\n",
        "       u'organization': u'',\n",
        "       u'rank': 1,\n",
        "       u'role': u'reported'}]},\n",
        "    u'document_type': u'article',\n",
        "    u'headline': {u'main': u'Satellite Images Show Ruin Left by Boko Haram, Groups Say',\n",
        "     u'print_headline': u'Satellite Images Show Ruin Left by Boko Haram, Groups Say'},\n",
        "    u'keywords': [{u'is_major': u'Y',\n",
        "      u'name': u'organizations',\n",
        "      u'rank': u'1',\n",
        "      u'value': u'Boko Haram'},\n",
        "     {u'is_major': u'Y',\n",
        "      u'name': u'glocations',\n",
        "      u'rank': u'2',\n",
        "      u'value': u'Nigeria'},\n",
        "     {u'is_major': u'Y',\n",
        "      u'name': u'organizations',\n",
        "      u'rank': u'3',\n",
        "      u'value': u'Amnesty International'},\n",
        "     {u'is_major': u'Y',\n",
        "      u'name': u'organizations',\n",
        "      u'rank': u'4',\n",
        "      u'value': u'Human Rights Watch'}],\n",
        "    u'lead_paragraph': u'The militants stormed through northern Nigerian towns in recent days, according to an analysis of satellite images by human rights groups.',\n",
        "    u'multimedia': [{u'height': 126,\n",
        "      u'legacy': {u'wide': u'images/2015/01/15/world/africa/boko-haram-comparison/boko-haram-comparison-thumbWide.png',\n",
        "       u'wideheight': u'126',\n",
        "       u'widewidth': u'190'},\n",
        "      u'subtype': u'wide',\n",
        "      u'type': u'image',\n",
        "      u'url': u'images/2015/01/15/world/africa/boko-haram-comparison/boko-haram-comparison-thumbWide.png',\n",
        "      u'width': 190},\n",
        "     {u'height': 306,\n",
        "      u'legacy': {u'xlarge': u'images/2015/01/15/world/africa/boko-haram-comparison/boko-haram-comparison-articleLarge.png',\n",
        "       u'xlargeheight': u'306',\n",
        "       u'xlargewidth': u'600'},\n",
        "      u'subtype': u'xlarge',\n",
        "      u'type': u'image',\n",
        "      u'url': u'images/2015/01/15/world/africa/boko-haram-comparison/boko-haram-comparison-articleLarge.png',\n",
        "      u'width': 600},\n",
        "     {u'height': 75,\n",
        "      u'legacy': {u'thumbnail': u'images/2015/01/15/world/africa/boko-haram-comparison/boko-haram-comparison-thumbStandard.png',\n",
        "       u'thumbnailheight': u'75',\n",
        "       u'thumbnailwidth': u'75'},\n",
        "      u'subtype': u'thumbnail',\n",
        "      u'type': u'image',\n",
        "      u'url': u'images/2015/01/15/world/africa/boko-haram-comparison/boko-haram-comparison-thumbStandard.png',\n",
        "      u'width': 75}],\n",
        "    u'news_desk': u'Foreign',\n",
        "    u'print_page': u'4',\n",
        "    u'pub_date': u'2015-01-16T00:00:00Z',\n",
        "    u'section_name': u'World',\n",
        "    u'snippet': u'The militants stormed through northern Nigerian towns in recent days, according to an analysis of satellite images by human rights groups.',\n",
        "    u'source': u'The New York Times',\n",
        "    u'subsection_name': u'Africa',\n",
        "    u'type_of_material': u'News',\n",
        "    u'web_url': u'http://www.nytimes.com/2015/01/16/world/africa/boko-haram-rampage-in-nigeria-is-shown-in-satellite-images-groups-say.html',\n",
        "    u'word_count': u'501'},\n",
        "   {u'_id': u'54b0525138f0d8367c8415c0',\n",
        "    u'abstract': u'Saudi Arabian authorities begin public flogging of Raif Badawi, blogger sentenced to 1,000 blows, over a period of months, 10 years in prison and large fine for creating a website critical of Saudi religious leaders; case has drawn international attention to limits of free speech in Saudi Arabia, and evoked rare direct criticism from United States officials.',\n",
        "    u'blog': [],\n",
        "    u'byline': {u'contributor': u'',\n",
        "     u'original': u'By BEN HUBBARD',\n",
        "     u'person': [{u'firstname': u'Ben',\n",
        "       u'lastname': u'HUBBARD',\n",
        "       u'organization': u'',\n",
        "       u'rank': 1,\n",
        "       u'role': u'reported'}]},\n",
        "    u'document_type': u'article',\n",
        "    u'headline': {u'main': u'Saudis Begin Public Caning to Punish a Blogger',\n",
        "     u'print_headline': u'Saudis Begin Public Caning to Punish a Blogger'},\n",
        "    u'keywords': [{u'is_major': u'Y',\n",
        "      u'name': u'persons',\n",
        "      u'rank': u'1',\n",
        "      u'value': u'Badawi, Raif'},\n",
        "     {u'is_major': u'Y',\n",
        "      u'name': u'glocations',\n",
        "      u'rank': u'2',\n",
        "      u'value': u'Saudi Arabia'},\n",
        "     {u'is_major': u'Y',\n",
        "      u'name': u'subject',\n",
        "      u'rank': u'3',\n",
        "      u'value': u'Corporal Punishment'},\n",
        "     {u'is_major': u'Y',\n",
        "      u'name': u'subject',\n",
        "      u'rank': u'4',\n",
        "      u'value': u'Blogs and Blogging (Internet)'},\n",
        "     {u'is_major': u'N',\n",
        "      u'name': u'organizations',\n",
        "      u'rank': u'5',\n",
        "      u'value': u'Amnesty International'}],\n",
        "    u'lead_paragraph': u'Raif Badawi was sentenced to 1,000 blows, 10 years in prison and a fine for starting a website critical of the country&#8217;s religious establishment.',\n",
        "    u'multimedia': [],\n",
        "    u'news_desk': u'Foreign',\n",
        "    u'print_page': u'4',\n",
        "    u'pub_date': u'2015-01-10T00:00:00Z',\n",
        "    u'section_name': u'World',\n",
        "    u'snippet': u'Raif Badawi was sentenced to 1,000 blows, 10 years in prison and a fine for starting a website critical of the country&#8217;s religious establishment.',\n",
        "    u'source': u'The New York Times',\n",
        "    u'subsection_name': u'Middle East',\n",
        "    u'type_of_material': u'News',\n",
        "    u'web_url': u'http://www.nytimes.com/2015/01/10/world/middleeast/saudis-begin-public-caning-of-blogger-first-50-of-1000-blows-are-administered.html',\n",
        "    u'word_count': u'490'},\n",
        "   {u'_id': u'54866d5938f0d8164e21e0ef',\n",
        "    u'abstract': u'Consortium of nongovernmental organizations call on governments to pledge to offer refuge to at least 180,000 Syrians, or 5 percent of all Syrian refugees.',\n",
        "    u'blog': [],\n",
        "    u'byline': {u'contributor': u'',\n",
        "     u'original': u'By SOMINI SENGUPTA',\n",
        "     u'person': [{u'firstname': u'Somini',\n",
        "       u'lastname': u'SENGUPTA',\n",
        "       u'organization': u'',\n",
        "       u'rank': 1,\n",
        "       u'role': u'reported'}]},\n",
        "    u'document_type': u'article',\n",
        "    u'headline': {u'main': u'Rich Nations Urged to Take In Syrian Refugees',\n",
        "     u'print_headline': u'Rich Countries Urged to Help Syria Refugees'},\n",
        "    u'keywords': [{u'is_major': u'Y',\n",
        "      u'name': u'glocations',\n",
        "      u'rank': u'1',\n",
        "      u'value': u'Syria'},\n",
        "     {u'is_major': u'Y',\n",
        "      u'name': u'subject',\n",
        "      u'rank': u'2',\n",
        "      u'value': u'Refugees and Displaced Persons'},\n",
        "     {u'is_major': u'N',\n",
        "      u'name': u'organizations',\n",
        "      u'rank': u'3',\n",
        "      u'value': u'Amnesty International'},\n",
        "     {u'is_major': u'N',\n",
        "      u'name': u'organizations',\n",
        "      u'rank': u'4',\n",
        "      u'value': u'United Nations'}],\n",
        "    u'lead_paragraph': u'A consortium of nongovernmental organizations called on the world&#8217;s rich countries to pledge to offer sanctuary to at least 180,000 Syrians, just 5 percent of refugees from Syria.',\n",
        "    u'multimedia': [],\n",
        "    u'news_desk': u'Foreign',\n",
        "    u'print_page': u'14',\n",
        "    u'pub_date': u'2014-12-09T00:00:00Z',\n",
        "    u'section_name': u'World',\n",
        "    u'snippet': u'A consortium of nongovernmental organizations called on the world&#8217;s rich countries to pledge to offer sanctuary to at least 180,000 Syrians, just 5 percent of refugees from Syria.',\n",
        "    u'source': u'The New York Times',\n",
        "    u'subsection_name': u'Middle East',\n",
        "    u'type_of_material': u'News',\n",
        "    u'web_url': u'http://www.nytimes.com/2014/12/09/world/middleeast/rich-nations-urged-to-take-in-syrian-refugees.html',\n",
        "    u'word_count': u'405'},\n",
        "   {u'_id': u'5485c0db38f0d84e18de1214',\n",
        "    u'abstract': u'In the face of the brutal Syrian civil war, many powerful states have not resettled a single refugee.',\n",
        "    u'blog': [],\n",
        "    u'byline': {u'original': u'By CAROL GIACOMO',\n",
        "     u'person': [{u'firstname': u'Carol',\n",
        "       u'lastname': u'GIACOMO',\n",
        "       u'organization': u'',\n",
        "       u'rank': 1,\n",
        "       u'role': u'reported'}]},\n",
        "    u'document_type': u'blogpost',\n",
        "    u'headline': {u'kicker': u'Taking Note',\n",
        "     u'main': u'World to Desperate Syrians: We Won&rsquo;t Help'},\n",
        "    u'keywords': [{u'name': u'glocations', u'rank': u'1', u'value': u'Syria'},\n",
        "     {u'name': u'organizations',\n",
        "      u'rank': u'1',\n",
        "      u'value': u'Amnesty International'},\n",
        "     {u'name': u'subject',\n",
        "      u'rank': u'1',\n",
        "      u'value': u'Refugees and Displaced Persons'}],\n",
        "    u'lead_paragraph': None,\n",
        "    u'multimedia': [],\n",
        "    u'news_desk': u'OpEd',\n",
        "    u'print_page': None,\n",
        "    u'pub_date': u'2014-12-08T10:13:39Z',\n",
        "    u'section_name': u'Opinion',\n",
        "    u'snippet': u'In the face of the brutal Syrian civil war, many powerful states have not resettled a single refugee.',\n",
        "    u'source': u'The New York Times',\n",
        "    u'subsection_name': None,\n",
        "    u'type_of_material': u'Blog',\n",
        "    u'web_url': u'http://takingnote.blogs.nytimes.com/2014/12/08/world-to-desperate-syrians-we-wont-help/',\n",
        "    u'word_count': u'441'},\n",
        "   {u'_id': u'5483aabb38f0d80df4fa3f44',\n",
        "    u'abstract': u'Israeli military orders eight additional criminal investigations into conduct of its forces during its war with Hamas in Gaza; investigations come after withering accusations of war crimes by Amnesty International, and ahead of inquiry by United Nations Human Rights Council.',\n",
        "    u'blog': [],\n",
        "    u'byline': {u'contributor': u'',\n",
        "     u'original': u'By JODI RUDOREN',\n",
        "     u'person': [{u'firstname': u'Jodi',\n",
        "       u'lastname': u'RUDOREN',\n",
        "       u'organization': u'',\n",
        "       u'rank': 1,\n",
        "       u'role': u'reported'}]},\n",
        "    u'document_type': u'article',\n",
        "    u'headline': {u'main': u'Facing Rights Accusations, Israel Opens Gaza Inquiries ',\n",
        "     u'print_headline': u'Facing Rights Accusations, Israel Opens Gaza Inquiries'},\n",
        "    u'keywords': [{u'is_major': u'Y',\n",
        "      u'name': u'glocations',\n",
        "      u'rank': u'1',\n",
        "      u'value': u'Israel'},\n",
        "     {u'is_major': u'N',\n",
        "      u'name': u'organizations',\n",
        "      u'rank': u'11',\n",
        "      u'value': u'Human Rights Watch'},\n",
        "     {u'is_major': u'Y',\n",
        "      u'name': u'glocations',\n",
        "      u'rank': u'2',\n",
        "      u'value': u'Gaza Strip'},\n",
        "     {u'is_major': u'Y',\n",
        "      u'name': u'subject',\n",
        "      u'rank': u'3',\n",
        "      u'value': u'War Crimes, Genocide and Crimes Against Humanity'},\n",
        "     {u'is_major': u'Y',\n",
        "      u'name': u'organizations',\n",
        "      u'rank': u'4',\n",
        "      u'value': u'Amnesty International'},\n",
        "     {u'is_major': u'Y',\n",
        "      u'name': u'subject',\n",
        "      u'rank': u'5',\n",
        "      u'value': u'Palestinians'},\n",
        "     {u'is_major': u'Y',\n",
        "      u'name': u'organizations',\n",
        "      u'rank': u'6',\n",
        "      u'value': u'Hamas'},\n",
        "     {u'is_major': u'N',\n",
        "      u'name': u'organizations',\n",
        "      u'rank': u'7',\n",
        "      u'value': u'United Nations'},\n",
        "     {u'is_major': u'N',\n",
        "      u'name': u'subject',\n",
        "      u'rank': u'8',\n",
        "      u'value': u'Defense and Military Forces'},\n",
        "     {u'is_major': u'N',\n",
        "      u'name': u'subject',\n",
        "      u'rank': u'9',\n",
        "      u'value': u'Civilian Casualties'},\n",
        "     {u'is_major': u'N',\n",
        "      u'name': u'subject',\n",
        "      u'rank': u'10',\n",
        "      u'value': u'Terrorism'}],\n",
        "    u'lead_paragraph': u'The Israeli military ordered eight additional criminal investigations into the conduct of its forces during the war this summer in the Gaza Strip.',\n",
        "    u'multimedia': [{u'height': 126,\n",
        "      u'legacy': {u'wide': u'images/2014/12/07/world/07nytnow-israel/07nytnow-israel-thumbWide.jpg',\n",
        "       u'wideheight': u'126',\n",
        "       u'widewidth': u'190'},\n",
        "      u'subtype': u'wide',\n",
        "      u'type': u'image',\n",
        "      u'url': u'images/2014/12/07/world/07nytnow-israel/07nytnow-israel-thumbWide.jpg',\n",
        "      u'width': 190},\n",
        "     {u'height': 400,\n",
        "      u'legacy': {u'xlarge': u'images/2014/12/07/world/07nytnow-israel/07nytnow-israel-articleLarge.jpg',\n",
        "       u'xlargeheight': u'400',\n",
        "       u'xlargewidth': u'600'},\n",
        "      u'subtype': u'xlarge',\n",
        "      u'type': u'image',\n",
        "      u'url': u'images/2014/12/07/world/07nytnow-israel/07nytnow-israel-articleLarge.jpg',\n",
        "      u'width': 600},\n",
        "     {u'height': 75,\n",
        "      u'legacy': {u'thumbnail': u'images/2014/12/07/world/07nytnow-israel/07nytnow-israel-thumbStandard.jpg',\n",
        "       u'thumbnailheight': u'75',\n",
        "       u'thumbnailwidth': u'75'},\n",
        "      u'subtype': u'thumbnail',\n",
        "      u'type': u'image',\n",
        "      u'url': u'images/2014/12/07/world/07nytnow-israel/07nytnow-israel-thumbStandard.jpg',\n",
        "      u'width': 75}],\n",
        "    u'news_desk': u'Foreign',\n",
        "    u'print_page': u'18',\n",
        "    u'pub_date': u'2014-12-07T00:00:00Z',\n",
        "    u'section_name': u'World',\n",
        "    u'snippet': u'The Israeli military ordered eight additional criminal investigations into the conduct of its forces during the war this summer in the Gaza Strip.',\n",
        "    u'source': u'The New York Times',\n",
        "    u'subsection_name': u'Middle East',\n",
        "    u'type_of_material': u'News',\n",
        "    u'web_url': u'http://www.nytimes.com/2014/12/07/world/middleeast/israel-opens-new-investigations-into-gaza-strip-war.html',\n",
        "    u'word_count': u'698'},\n",
        "   {u'_id': u'54596f8538f0d82ce4268631',\n",
        "    u'abstract': u\"Amnesty International publishes report accusing Israel of war crimes in its 50-day war with Hamas in the Gaza Strip; says military showed 'callous indifference' to civilians in airstrikes on homes that felled entire families.\",\n",
        "    u'blog': [],\n",
        "    u'byline': {u'contributor': u'',\n",
        "     u'original': u'By JODI RUDOREN',\n",
        "     u'person': [{u'firstname': u'Jodi',\n",
        "       u'lastname': u'RUDOREN',\n",
        "       u'organization': u'',\n",
        "       u'rank': 1,\n",
        "       u'role': u'reported'}]},\n",
        "    u'document_type': u'article',\n",
        "    u'headline': {u'main': u'Amnesty International Says Israel Showed &#8216;Callous Indifference&#8217; in Gaza',\n",
        "     u'print_headline': u'Amnesty International Says Israel Showed \\u2018Callous Indifference\\u2019 in Gaza'},\n",
        "    u'keywords': [{u'is_major': u'Y',\n",
        "      u'name': u'glocations',\n",
        "      u'rank': u'1',\n",
        "      u'value': u'Israel'},\n",
        "     {u'is_major': u'Y',\n",
        "      u'name': u'glocations',\n",
        "      u'rank': u'2',\n",
        "      u'value': u'Gaza Strip'},\n",
        "     {u'is_major': u'Y',\n",
        "      u'name': u'organizations',\n",
        "      u'rank': u'3',\n",
        "      u'value': u'Amnesty International'},\n",
        "     {u'is_major': u'Y',\n",
        "      u'name': u'subject',\n",
        "      u'rank': u'4',\n",
        "      u'value': u'War Crimes, Genocide and Crimes Against Humanity'},\n",
        "     {u'is_major': u'Y',\n",
        "      u'name': u'subject',\n",
        "      u'rank': u'5',\n",
        "      u'value': u'Palestinians'},\n",
        "     {u'is_major': u'Y',\n",
        "      u'name': u'organizations',\n",
        "      u'rank': u'6',\n",
        "      u'value': u'Hamas'}],\n",
        "    u'lead_paragraph': u'Amnesty International published a report accusing Israel of war crimes in its 50-day war with Hamas in the Gaza Strip this summer.',\n",
        "    u'multimedia': [{u'height': 126,\n",
        "      u'legacy': {u'wide': u'images/2014/11/05/world/middleeast/05GAZA-COMBO/05GAZA-COMBO-thumbWide.jpg',\n",
        "       u'wideheight': u'126',\n",
        "       u'widewidth': u'190'},\n",
        "      u'subtype': u'wide',\n",
        "      u'type': u'image',\n",
        "      u'url': u'images/2014/11/05/world/middleeast/05GAZA-COMBO/05GAZA-COMBO-thumbWide.jpg',\n",
        "      u'width': 190},\n",
        "     {u'height': 200,\n",
        "      u'legacy': {u'xlarge': u'images/2014/11/05/world/middleeast/05GAZA-COMBO/05GAZA-COMBO-articleLarge.jpg',\n",
        "       u'xlargeheight': u'200',\n",
        "       u'xlargewidth': u'600'},\n",
        "      u'subtype': u'xlarge',\n",
        "      u'type': u'image',\n",
        "      u'url': u'images/2014/11/05/world/middleeast/05GAZA-COMBO/05GAZA-COMBO-articleLarge.jpg',\n",
        "      u'width': 600},\n",
        "     {u'height': 75,\n",
        "      u'legacy': {u'thumbnail': u'images/2014/11/05/world/middleeast/05GAZA-COMBO/05GAZA-COMBO-thumbStandard.jpg',\n",
        "       u'thumbnailheight': u'75',\n",
        "       u'thumbnailwidth': u'75'},\n",
        "      u'subtype': u'thumbnail',\n",
        "      u'type': u'image',\n",
        "      u'url': u'images/2014/11/05/world/middleeast/05GAZA-COMBO/05GAZA-COMBO-thumbStandard.jpg',\n",
        "      u'width': 75}],\n",
        "    u'news_desk': u'Foreign',\n",
        "    u'print_page': u'8',\n",
        "    u'pub_date': u'2014-11-05T00:00:00Z',\n",
        "    u'section_name': u'World',\n",
        "    u'snippet': u'Amnesty International published a report accusing Israel of war crimes in its 50-day war with Hamas in the Gaza Strip this summer.',\n",
        "    u'source': u'The New York Times',\n",
        "    u'subsection_name': u'Middle East',\n",
        "    u'type_of_material': u'News',\n",
        "    u'web_url': u'http://www.nytimes.com/2014/11/05/world/middleeast/amnesty-international-says-israel-showed-callous-indifference-to-gaza-civilians.html',\n",
        "    u'word_count': u'925'},\n",
        "   {u'_id': u'544ab1ee38f0d8160d830803',\n",
        "    u'abstract': u'Amnesty International report finds police in Ferguson, Mo, violated rights of protesters there following killing of 18-year-old Michael Brown; human rights group says Ferguson Police Department should review its standards, practices and training to ensure that they conform to international standards for human rights.',\n",
        "    u'blog': [],\n",
        "    u'byline': {u'contributor': u'',\n",
        "     u'original': u'By JULIE BOSMAN',\n",
        "     u'person': [{u'firstname': u'Julie',\n",
        "       u'lastname': u'BOSMAN',\n",
        "       u'organization': u'',\n",
        "       u'rank': 1,\n",
        "       u'role': u'reported'}]},\n",
        "    u'document_type': u'article',\n",
        "    u'headline': {u'main': u'Amnesty International Report Faults the Police in Ferguson, Mo.',\n",
        "     u'print_headline': u'Rights Group Faults Police in Ferguson, Report Says'},\n",
        "    u'keywords': [{u'is_major': u'Y',\n",
        "      u'name': u'glocations',\n",
        "      u'rank': u'1',\n",
        "      u'value': u'Ferguson (Mo)'},\n",
        "     {u'is_major': u'Y',\n",
        "      u'name': u'persons',\n",
        "      u'rank': u'2',\n",
        "      u'value': u'Brown, Michael (1996-2014)'},\n",
        "     {u'is_major': u'Y',\n",
        "      u'name': u'subject',\n",
        "      u'rank': u'3',\n",
        "      u'value': u'Police Brutality, Misconduct and Shootings'},\n",
        "     {u'is_major': u'Y',\n",
        "      u'name': u'organizations',\n",
        "      u'rank': u'4',\n",
        "      u'value': u'Amnesty International'},\n",
        "     {u'is_major': u'Y',\n",
        "      u'name': u'subject',\n",
        "      u'rank': u'5',\n",
        "      u'value': u'Demonstrations, Protests and Riots'},\n",
        "     {u'is_major': u'N',\n",
        "      u'name': u'subject',\n",
        "      u'rank': u'6',\n",
        "      u'value': u'Human Rights and Human Rights Violations'}],\n",
        "    u'lead_paragraph': u'The human rights group said the police violated the rights of protesters and should re-examine their practices, standards and training.',\n",
        "    u'multimedia': [],\n",
        "    u'news_desk': u'National',\n",
        "    u'print_page': u'14',\n",
        "    u'pub_date': u'2014-10-25T00:00:00Z',\n",
        "    u'section_name': u'U.S.',\n",
        "    u'snippet': u'The human rights group said the police violated the rights of protesters and should re-examine their practices, standards and training.',\n",
        "    u'source': u'The New York Times',\n",
        "    u'subsection_name': None,\n",
        "    u'type_of_material': u'News',\n",
        "    u'web_url': u'http://www.nytimes.com/2014/10/25/us/amnesty-internation-report-faults-the-police-in-ferguson-mo.html',\n",
        "    u'word_count': u'281'},\n",
        "   {u'_id': u'5435d1f738f0d8435503811f',\n",
        "    u'abstract': u'Amnesty International urges Thailand to investigate allegations that police tortured two suspects who reportedly confessed to killing two British tourists on a southern island.',\n",
        "    u'blog': [],\n",
        "    u'byline': {u'contributor': u'',\n",
        "     u'organization': u'THE ASSOCIATED PRESS',\n",
        "     u'original': u'By THE ASSOCIATED PRESS',\n",
        "     u'person': []},\n",
        "    u'document_type': u'article',\n",
        "    u'headline': {u'content_kicker': u'World Briefing',\n",
        "     u'main': u'Thailand: Tactics of Police Questioned in Investigation of Tourists\\u2019 Murders',\n",
        "     u'print_headline': u'Thailand: Tactics of Police Questioned in Investigation of Tourists\\u2019 Murders'},\n",
        "    u'keywords': [{u'is_major': u'Y',\n",
        "      u'name': u'subject',\n",
        "      u'rank': u'1',\n",
        "      u'value': u'Murders and Attempted Murders'},\n",
        "     {u'is_major': u'Y',\n",
        "      u'name': u'subject',\n",
        "      u'rank': u'2',\n",
        "      u'value': u'Police Brutality, Misconduct and Shootings'},\n",
        "     {u'is_major': u'Y',\n",
        "      u'name': u'organizations',\n",
        "      u'rank': u'3',\n",
        "      u'value': u'Amnesty International'},\n",
        "     {u'is_major': u'N',\n",
        "      u'name': u'persons',\n",
        "      u'rank': u'4',\n",
        "      u'value': u'Witheridge, Hannah'},\n",
        "     {u'is_major': u'N',\n",
        "      u'name': u'persons',\n",
        "      u'rank': u'5',\n",
        "      u'value': u'Miller, David (Murder Victim)'},\n",
        "     {u'is_major': u'Y',\n",
        "      u'name': u'glocations',\n",
        "      u'rank': u'6',\n",
        "      u'value': u'Thailand'}],\n",
        "    u'lead_paragraph': u'Amnesty International urged Thailand to investigate allegations that the police tortured two suspects who reportedly confessed to killing two British tourists on a southern island last month.',\n",
        "    u'multimedia': [],\n",
        "    u'news_desk': u'Foreign',\n",
        "    u'print_page': u'15',\n",
        "    u'pub_date': u'2014-10-09T00:00:00Z',\n",
        "    u'section_name': u'World',\n",
        "    u'snippet': u'Amnesty International urged Thailand to investigate allegations that the police tortured two suspects who reportedly confessed to killing two British tourists on a southern island last month.',\n",
        "    u'source': u'The New York Times',\n",
        "    u'subsection_name': u'Asia Pacific',\n",
        "    u'type_of_material': u'Brief',\n",
        "    u'web_url': u'http://www.nytimes.com/2014/10/09/world/asia/thailand-tactics-of-police-questioned-in-investigation-of-tourists-murders.html',\n",
        "    u'word_count': u'163'}],\n",
        "  u'meta': {u'hits': 613, u'offset': 0, u'time': 102}},\n",
        " u'status': u'OK'}"
       ]
      }
     ],
     "prompt_number": 79
    },
    {
     "cell_type": "code",
     "collapsed": false,
     "input": [],
     "language": "python",
     "metadata": {},
     "outputs": []
    }
   ],
   "metadata": {}
  }
 ]
}