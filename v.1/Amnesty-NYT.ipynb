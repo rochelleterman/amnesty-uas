{
 "metadata": {
  "name": "",
  "signature": "sha256:0d0133ae3884fa42ad2a3fd93e1c93a03bbed62ec391a843a5356a082377a880"
 },
 "nbformat": 3,
 "nbformat_minor": 0,
 "worksheets": [
  {
   "cells": [
    {
     "cell_type": "code",
     "collapsed": false,
     "input": [
      "from nytimesarticle import articleAPI"
     ],
     "language": "python",
     "metadata": {},
     "outputs": [],
     "prompt_number": 189
    },
    {
     "cell_type": "code",
     "collapsed": false,
     "input": [
      "api = articleAPI('e15cea455f73cc47d6d971667e09c31c:19:44644296')"
     ],
     "language": "python",
     "metadata": {},
     "outputs": [],
     "prompt_number": 190
    },
    {
     "cell_type": "code",
     "collapsed": false,
     "input": [
      "articles = api.search( q = 'Obama', fq = {'headline':'Obama', 'source':['Reuters','AP', 'The New York Times']}, begin_date = 20111231, facet_field = ['source','day_of_week'], facet_filter = True )"
     ],
     "language": "python",
     "metadata": {},
     "outputs": [],
     "prompt_number": 191
    },
    {
     "cell_type": "code",
     "collapsed": false,
     "input": [
      "articles['response']['docs'][0]"
     ],
     "language": "python",
     "metadata": {},
     "outputs": [
      {
       "metadata": {},
       "output_type": "pyout",
       "prompt_number": 199,
       "text": [
        "{u'_id': u'54d386f37988105ae2aa8fea',\n",
        " u'abstract': None,\n",
        " u'blog': [],\n",
        " u'byline': {u'original': u'By JULIE HIRSCHFELD DAVIS and ASHLEY PARKER',\n",
        "  u'person': [{u'firstname': u'Julie',\n",
        "    u'lastname': u'DAVIS',\n",
        "    u'middlename': u'Hirschfeld',\n",
        "    u'organization': u'',\n",
        "    u'rank': 1,\n",
        "    u'role': u'reported'},\n",
        "   {u'firstname': u'Ashley',\n",
        "    u'lastname': u'PARKER',\n",
        "    u'organization': u'',\n",
        "    u'rank': 2,\n",
        "    u'role': u'reported'}]},\n",
        " u'document_type': u'article',\n",
        " u'headline': {u'main': u'Menendez\\u2019s Hard Line on Cuba and Iran Shows Deep Rifts With Obama'},\n",
        " u'keywords': [{u'is_major': u'N',\n",
        "   u'name': u'subject',\n",
        "   u'rank': u'1',\n",
        "   u'value': u'United States International Relations'},\n",
        "  {u'is_major': u'N',\n",
        "   u'name': u'organizations',\n",
        "   u'rank': u'2',\n",
        "   u'value': u'Senate Committee on Foreign Relations'},\n",
        "  {u'is_major': u'N',\n",
        "   u'name': u'persons',\n",
        "   u'rank': u'3',\n",
        "   u'value': u'Menendez, Robert'},\n",
        "  {u'is_major': u'N',\n",
        "   u'name': u'persons',\n",
        "   u'rank': u'4',\n",
        "   u'value': u'Obama, Barack'},\n",
        "  {u'is_major': u'N',\n",
        "   u'name': u'glocations',\n",
        "   u'rank': u'5',\n",
        "   u'value': u'Cuba'},\n",
        "  {u'is_major': u'N',\n",
        "   u'name': u'glocations',\n",
        "   u'rank': u'6',\n",
        "   u'value': u'Iran'}],\n",
        " u'lead_paragraph': u'Policy battles between the president and Senator Robert Menendez of New Jersey, the top Democrat on the Foreign Relations Committee, have burst into public view in recent weeks.',\n",
        " u'multimedia': [{u'height': 126,\n",
        "   u'legacy': {u'wide': u'images/2015/02/04/us/05MENENDEZWEB/05MENENDEZWEB-thumbWide.jpg',\n",
        "    u'wideheight': u'126',\n",
        "    u'widewidth': u'190'},\n",
        "   u'subtype': u'wide',\n",
        "   u'type': u'image',\n",
        "   u'url': u'images/2015/02/04/us/05MENENDEZWEB/05MENENDEZWEB-thumbWide.jpg',\n",
        "   u'width': 190},\n",
        "  {u'height': 400,\n",
        "   u'legacy': {u'xlarge': u'images/2015/02/04/us/05MENENDEZWEB/05MENENDEZWEB-articleLarge.jpg',\n",
        "    u'xlargeheight': u'400',\n",
        "    u'xlargewidth': u'600'},\n",
        "   u'subtype': u'xlarge',\n",
        "   u'type': u'image',\n",
        "   u'url': u'images/2015/02/04/us/05MENENDEZWEB/05MENENDEZWEB-articleLarge.jpg',\n",
        "   u'width': 600},\n",
        "  {u'height': 75,\n",
        "   u'legacy': {u'thumbnail': u'images/2015/02/04/us/05MENENDEZWEB/05MENENDEZWEB-thumbStandard.jpg',\n",
        "    u'thumbnailheight': u'75',\n",
        "    u'thumbnailwidth': u'75'},\n",
        "   u'subtype': u'thumbnail',\n",
        "   u'type': u'image',\n",
        "   u'url': u'images/2015/02/04/us/05MENENDEZWEB/05MENENDEZWEB-thumbStandard.jpg',\n",
        "   u'width': 75}],\n",
        " u'news_desk': u'National',\n",
        " u'print_page': None,\n",
        " u'pub_date': u'2015-02-06T00:00:00Z',\n",
        " u'section_name': u'U.S.',\n",
        " u'snippet': u'Policy battles between the president and Senator Robert Menendez of New Jersey, the top Democrat on the Foreign Relations Committee, have burst into public view in recent weeks.',\n",
        " u'source': u'The New York Times',\n",
        " u'subsection_name': u'Politics',\n",
        " u'type_of_material': u'News',\n",
        " u'web_url': u'http://www.nytimes.com/2015/02/06/us/politics/senator-robert-menendez-obama-cuba-iran.html',\n",
        " u'word_count': u'1118'}"
       ]
      }
     ],
     "prompt_number": 199
    },
    {
     "cell_type": "code",
     "collapsed": false,
     "input": [
      "## Parsing\n",
      "def parse_articles(articles):\n",
      "    '''\n",
      "    This function takes in a response to the NYT api and parses the articles into a list of dictionaries\n",
      "    '''\n",
      "    news = []\n",
      "    for i in articles['response']['docs']:\n",
      "        dic = {}\n",
      "        dic['id'] = i['_id']\n",
      "        if i['abstract'] is not None:\n",
      "            dic['abstract'] = i['abstract'].encore(\"utf8\")\n",
      "        dic['headline'] = i['headline']['main'].encode(\"utf8\")\n",
      "        dic['desk'] = i['news_desk']\n",
      "        dic['date'] = i['pub_date'][0:10] # we don't need the time of day.\n",
      "        dic['section'] = i['section_name']\n",
      "        if i['snippet'] is not None:\n",
      "            dic['snippet'] = i['snippet'].encode(\"utf8\")\n",
      "        dic['source'] = i['source']\n",
      "        dic['type'] = i['type_of_material']\n",
      "        dic['url'] = i['web_url']\n",
      "        dic['word_count'] = i['word_count']\n",
      "        # locations\n",
      "        locations = []\n",
      "        for x in range(0,len(i['keywords'])):\n",
      "            if 'glocations' in i['keywords'][x]['name']:\n",
      "                locations.append(i['keywords'][x]['value'])\n",
      "        dic['locations'] = locations\n",
      "        # subject\n",
      "        subjects = []\n",
      "        for x in range(0,len(i['keywords'])):\n",
      "            if 'subject' in i['keywords'][x]['name']:\n",
      "                subjects.append(i['keywords'][x]['value'])\n",
      "        dic['subjects'] = subjects    \n",
      "        news.append(dic)\n",
      "    return(news)"
     ],
     "language": "python",
     "metadata": {},
     "outputs": [],
     "prompt_number": 121
    },
    {
     "cell_type": "code",
     "collapsed": false,
     "input": [
      "def get_facets(articles):\n",
      "    ''' \n",
      "    Accepts output of NYT api and returns dictionary with source counts\n",
      "    '''\n",
      "    source_count = []\n",
      "    for item in articles['response']['facets']['source']['terms']:\n",
      "        source = {}\n",
      "        count = int(item['count'])\n",
      "        pub = item['term']\n",
      "        source[pub] = count\n",
      "        source_count.append(source)\n",
      "    return(source_count)"
     ],
     "language": "python",
     "metadata": {},
     "outputs": [],
     "prompt_number": 122
    },
    {
     "cell_type": "code",
     "collapsed": false,
     "input": [
      "def get_articles(date,query):\n",
      "    '''\n",
      "    This function accepts a year in string format (e.g.'1980') and a query (e.g.'Amnesty International') \n",
      "    and it will return a list of parsed articles (in dictionaries) for that year.\n",
      "    '''\n",
      "    all_articles = []\n",
      "    for i in range(0,100): #NYT limits pager to first 100 pages. But rarely will you find over 100 pages of results anyway.\n",
      "        articles = api.search(q = query,\n",
      "                      fq = {'source':['Reuters','AP', 'The New York Times']}, \n",
      "                      facet_field='source',\n",
      "                      begin_date = date + '0101',\n",
      "                      end_date = date + '1231',\n",
      "                      facet_filter='true',\n",
      "                      sort='oldest',\n",
      "                      page = str(i))\n",
      "        articles = parse_articles(articles)\n",
      "        all_articles = all_articles + articles\n",
      "    return(all_articles)"
     ],
     "language": "python",
     "metadata": {},
     "outputs": [],
     "prompt_number": 123
    },
    {
     "cell_type": "code",
     "collapsed": false,
     "input": [
      "Amnesty_1 = get_articles('1980','Amnesty International')"
     ],
     "language": "python",
     "metadata": {},
     "outputs": [],
     "prompt_number": 124
    },
    {
     "cell_type": "code",
     "collapsed": false,
     "input": [
      "Amnesty_all = []\n",
      "for i in range(1980,2014):\n",
      "    Amnesty_year = get_articles(str(i),'Amnesty International')\n",
      "    print i\n",
      "    Amnesty_all = Amnesty_all + Amnesty_year   "
     ],
     "language": "python",
     "metadata": {},
     "outputs": [
      {
       "output_type": "stream",
       "stream": "stdout",
       "text": [
        "1980\n",
        "1981"
       ]
      },
      {
       "output_type": "stream",
       "stream": "stdout",
       "text": [
        "\n",
        "1982"
       ]
      },
      {
       "output_type": "stream",
       "stream": "stdout",
       "text": [
        "\n",
        "1983"
       ]
      },
      {
       "output_type": "stream",
       "stream": "stdout",
       "text": [
        "\n",
        "1984"
       ]
      },
      {
       "output_type": "stream",
       "stream": "stdout",
       "text": [
        "\n",
        "1985"
       ]
      },
      {
       "output_type": "stream",
       "stream": "stdout",
       "text": [
        "\n",
        "1986"
       ]
      },
      {
       "output_type": "stream",
       "stream": "stdout",
       "text": [
        "\n",
        "1987"
       ]
      },
      {
       "output_type": "stream",
       "stream": "stdout",
       "text": [
        "\n",
        "1988"
       ]
      },
      {
       "output_type": "stream",
       "stream": "stdout",
       "text": [
        "\n",
        "1989"
       ]
      },
      {
       "output_type": "stream",
       "stream": "stdout",
       "text": [
        "\n",
        "1990"
       ]
      },
      {
       "output_type": "stream",
       "stream": "stdout",
       "text": [
        "\n",
        "1991"
       ]
      },
      {
       "output_type": "stream",
       "stream": "stdout",
       "text": [
        "\n",
        "1992"
       ]
      },
      {
       "output_type": "stream",
       "stream": "stdout",
       "text": [
        "\n",
        "1993"
       ]
      },
      {
       "output_type": "stream",
       "stream": "stdout",
       "text": [
        "\n",
        "1994"
       ]
      },
      {
       "output_type": "stream",
       "stream": "stdout",
       "text": [
        "\n",
        "1995"
       ]
      },
      {
       "output_type": "stream",
       "stream": "stdout",
       "text": [
        "\n",
        "1996"
       ]
      },
      {
       "output_type": "stream",
       "stream": "stdout",
       "text": [
        "\n",
        "1997"
       ]
      },
      {
       "output_type": "stream",
       "stream": "stdout",
       "text": [
        "\n",
        "1998"
       ]
      },
      {
       "output_type": "stream",
       "stream": "stdout",
       "text": [
        "\n",
        "1999"
       ]
      },
      {
       "output_type": "stream",
       "stream": "stdout",
       "text": [
        "\n",
        "2000"
       ]
      },
      {
       "output_type": "stream",
       "stream": "stdout",
       "text": [
        "\n",
        "2001"
       ]
      },
      {
       "output_type": "stream",
       "stream": "stdout",
       "text": [
        "\n",
        "2002"
       ]
      },
      {
       "output_type": "stream",
       "stream": "stdout",
       "text": [
        "\n",
        "2003"
       ]
      },
      {
       "output_type": "stream",
       "stream": "stdout",
       "text": [
        "\n",
        "2004"
       ]
      },
      {
       "output_type": "stream",
       "stream": "stdout",
       "text": [
        "\n",
        "2005"
       ]
      },
      {
       "output_type": "stream",
       "stream": "stdout",
       "text": [
        "\n",
        "2006"
       ]
      },
      {
       "output_type": "stream",
       "stream": "stdout",
       "text": [
        "\n",
        "2007"
       ]
      },
      {
       "output_type": "stream",
       "stream": "stdout",
       "text": [
        "\n",
        "2008"
       ]
      },
      {
       "output_type": "stream",
       "stream": "stdout",
       "text": [
        "\n",
        "2009"
       ]
      },
      {
       "output_type": "stream",
       "stream": "stdout",
       "text": [
        "\n",
        "2010"
       ]
      },
      {
       "output_type": "stream",
       "stream": "stdout",
       "text": [
        "\n",
        "2011"
       ]
      },
      {
       "output_type": "stream",
       "stream": "stdout",
       "text": [
        "\n",
        "2012"
       ]
      },
      {
       "output_type": "stream",
       "stream": "stdout",
       "text": [
        "\n",
        "2013"
       ]
      },
      {
       "output_type": "stream",
       "stream": "stdout",
       "text": [
        "\n"
       ]
      }
     ],
     "prompt_number": 125
    },
    {
     "cell_type": "code",
     "collapsed": false,
     "input": [
      "for i in range(4000,56000):\n",
      "    if Amnesty_all[i]['abstract'] is not None:\n",
      "        try: \n",
      "            Amnesty_all[i]['abstract'] = Amnesty_all[i]['abstract'].encode(\"utf8\")\n",
      "        except:\n",
      "            print i"
     ],
     "language": "python",
     "metadata": {},
     "outputs": [
      {
       "output_type": "stream",
       "stream": "stdout",
       "text": [
        "4376\n",
        "5057\n",
        "5228\n",
        "5245\n",
        "5274\n",
        "5302\n"
       ]
      },
      {
       "ename": "IndexError",
       "evalue": "list index out of range",
       "output_type": "pyerr",
       "traceback": [
        "\u001b[0;31m---------------------------------------------------------------------------\u001b[0m\n\u001b[0;31mIndexError\u001b[0m                                Traceback (most recent call last)",
        "\u001b[0;32m<ipython-input-185-4f14b6368d14>\u001b[0m in \u001b[0;36m<module>\u001b[0;34m()\u001b[0m\n\u001b[1;32m      1\u001b[0m \u001b[0;32mfor\u001b[0m \u001b[0mi\u001b[0m \u001b[0;32min\u001b[0m \u001b[0mrange\u001b[0m\u001b[0;34m(\u001b[0m\u001b[0;36m4000\u001b[0m\u001b[0;34m,\u001b[0m\u001b[0;36m56000\u001b[0m\u001b[0;34m)\u001b[0m\u001b[0;34m:\u001b[0m\u001b[0;34m\u001b[0m\u001b[0m\n\u001b[0;32m----> 2\u001b[0;31m     \u001b[0;32mif\u001b[0m \u001b[0mAmnesty_all\u001b[0m\u001b[0;34m[\u001b[0m\u001b[0mi\u001b[0m\u001b[0;34m]\u001b[0m\u001b[0;34m[\u001b[0m\u001b[0;34m'abstract'\u001b[0m\u001b[0;34m]\u001b[0m \u001b[0;32mis\u001b[0m \u001b[0;32mnot\u001b[0m \u001b[0mNone\u001b[0m\u001b[0;34m:\u001b[0m\u001b[0;34m\u001b[0m\u001b[0m\n\u001b[0m\u001b[1;32m      3\u001b[0m         \u001b[0;32mtry\u001b[0m\u001b[0;34m:\u001b[0m\u001b[0;34m\u001b[0m\u001b[0m\n\u001b[1;32m      4\u001b[0m             \u001b[0mAmnesty_all\u001b[0m\u001b[0;34m[\u001b[0m\u001b[0mi\u001b[0m\u001b[0;34m]\u001b[0m\u001b[0;34m[\u001b[0m\u001b[0;34m'abstract'\u001b[0m\u001b[0;34m]\u001b[0m \u001b[0;34m=\u001b[0m \u001b[0mAmnesty_all\u001b[0m\u001b[0;34m[\u001b[0m\u001b[0mi\u001b[0m\u001b[0;34m]\u001b[0m\u001b[0;34m[\u001b[0m\u001b[0;34m'abstract'\u001b[0m\u001b[0;34m]\u001b[0m\u001b[0;34m.\u001b[0m\u001b[0mencode\u001b[0m\u001b[0;34m(\u001b[0m\u001b[0;34m\"utf8\"\u001b[0m\u001b[0;34m)\u001b[0m\u001b[0;34m\u001b[0m\u001b[0m\n\u001b[1;32m      5\u001b[0m         \u001b[0;32mexcept\u001b[0m\u001b[0;34m:\u001b[0m\u001b[0;34m\u001b[0m\u001b[0m\n",
        "\u001b[0;31mIndexError\u001b[0m: list index out of range"
       ]
      }
     ],
     "prompt_number": 185
    },
    {
     "cell_type": "code",
     "collapsed": false,
     "input": [
      "Amnesty_all[4376]['abstract'] = Amnesty_all[4376]['abstract'].encode(\"utf8\")"
     ],
     "language": "python",
     "metadata": {},
     "outputs": [],
     "prompt_number": 165
    },
    {
     "cell_type": "markdown",
     "metadata": {},
     "source": [
      "### Pickling"
     ]
    },
    {
     "cell_type": "code",
     "collapsed": false,
     "input": [
      "import pprint, pickle"
     ],
     "language": "python",
     "metadata": {},
     "outputs": [],
     "prompt_number": 127
    },
    {
     "cell_type": "code",
     "collapsed": false,
     "input": [
      "def ld_writeDicts(filePath,dict):  \n",
      "    f=open(filePath,'w')  \n",
      "    newData = pickle.dumps(dict, 1)  \n",
      "    f.write(newData)  \n",
      "    f.close() "
     ],
     "language": "python",
     "metadata": {},
     "outputs": [],
     "prompt_number": 128
    },
    {
     "cell_type": "code",
     "collapsed": false,
     "input": [
      "ld_writeDicts('Data/Python-output/Amnesty_in_nyt.pkl',Amnesty_all)  "
     ],
     "language": "python",
     "metadata": {},
     "outputs": [],
     "prompt_number": 129
    },
    {
     "cell_type": "markdown",
     "metadata": {},
     "source": [
      "### Writing CSV"
     ]
    },
    {
     "cell_type": "code",
     "collapsed": false,
     "input": [
      "import csv"
     ],
     "language": "python",
     "metadata": {},
     "outputs": [],
     "prompt_number": 130
    },
    {
     "cell_type": "code",
     "collapsed": false,
     "input": [
      "keys = Amnesty_all[0].keys()\n",
      "with open('amnesty-mentions.csv', 'wb') as output_file:\n",
      "    dict_writer = csv.DictWriter(output_file, keys)\n",
      "    dict_writer.writeheader()\n",
      "    dict_writer.writerows(Amnesty_all)\n",
      "        "
     ],
     "language": "python",
     "metadata": {},
     "outputs": [],
     "prompt_number": 186
    },
    {
     "cell_type": "code",
     "collapsed": false,
     "input": [
      "articles = api.search( q = 'Obama', fq = {'headline':'Obama', 'source':['Reuters','AP', 'The New York Times']}, begin_date = 20111231, facet_field = ['source','day_of_week'], facet_filter = True )"
     ],
     "language": "python",
     "metadata": {},
     "outputs": [],
     "prompt_number": 187
    },
    {
     "cell_type": "code",
     "collapsed": false,
     "input": [
      "parse_articles(articles)"
     ],
     "language": "python",
     "metadata": {},
     "outputs": [
      {
       "metadata": {},
       "output_type": "pyout",
       "prompt_number": 200,
       "text": [
        "[{'abstract': None,\n",
        "  'date': u'2015-02-06',\n",
        "  'desk': u'National',\n",
        "  'headline': u'Menendez\\u2019s Hard Line on Cuba and Iran Shows Deep Rifts With Obama',\n",
        "  'id': u'54d386f37988105ae2aa8fea',\n",
        "  'locations': [u'Cuba', u'Iran'],\n",
        "  'section': u'U.S.',\n",
        "  'snippet': 'Policy battles between the president and Senator Robert Menendez of New Jersey, the top Democrat on the Foreign Relations Committee, have burst into public view in recent weeks.',\n",
        "  'source': u'The New York Times',\n",
        "  'subjects': [u'United States International Relations'],\n",
        "  'type': u'News',\n",
        "  'url': u'http://www.nytimes.com/2015/02/06/us/politics/senator-robert-menendez-obama-cuba-iran.html',\n",
        "  'word_count': u'1118'},\n",
        " {'abstract': None,\n",
        "  'date': u'2015-02-01',\n",
        "  'desk': u'National',\n",
        "  'headline': u'Blue Dot for Obama Prompts Red Nebraska to Revisit Electoral College Rules',\n",
        "  'id': u'54cd161379881063e978c194',\n",
        "  'locations': [u'Nebraska'],\n",
        "  'section': u'U.S.',\n",
        "  'snippet': 'Nebraska is one of just two states, along with Maine, that do not award all their electoral voters to the statewide winner.',\n",
        "  'source': u'The New York Times',\n",
        "  'subjects': [u'Presidential Election of 2016',\n",
        "   u'Presidential Election of 2008',\n",
        "   u'United States Politics and Government',\n",
        "   u'Electoral College',\n",
        "   u'Presidential Elections (US)'],\n",
        "  'type': u'News',\n",
        "  'url': u'http://www.nytimes.com/2015/02/01/us/politics/blue-dot-for-obama-prompts-red-nebraska-to-revisit-electoral-college-rules.html',\n",
        "  'word_count': u'1062'},\n",
        " {'abstract': u\"Senate votes 62 to 36 on bill to force approval of Keystone XL oil pipeline; vote sets up new body's first major clash with Pres Obama, who is certain to exercise veto; increases pressure on Obama to make final decision on Keystone, which has been subject of five-year battle.\",\n",
        "  'date': u'2015-01-30',\n",
        "  'desk': u'National',\n",
        "  'headline': u'Senate Approves Keystone XL Pipeline Bill, Testing Obama',\n",
        "  'id': u'54ca798d79881068566a0f21',\n",
        "  'locations': [],\n",
        "  'section': u'U.S.',\n",
        "  'snippet': 'As expected, the Senate passed the bill forcing approval of the oil pipeline from Canada to the Gulf Coast &#8212; a measure President Obama has promised to veto.',\n",
        "  'source': u'The New York Times',\n",
        "  'subjects': [u'Keystone Pipeline System',\n",
        "   u'Oil (Petroleum) and Gasoline',\n",
        "   u'Law and Legislation'],\n",
        "  'type': u'News',\n",
        "  'url': u'http://www.nytimes.com/2015/01/30/us/politics/keystone-xl-pipeline-bill-senate-vote.html',\n",
        "  'word_count': u'968'},\n",
        " {'abstract': None,\n",
        "  'date': u'2015-01-21',\n",
        "  'desk': u'None',\n",
        "  'headline': u'Michelle Obama Accompanying Obama to India',\n",
        "  'id': u'54c067977988103f1e7029cb',\n",
        "  'locations': [],\n",
        "  'section': u'U.S.',\n",
        "  'snippet': 'President Barack Obama will have a little extra company with him when he arrives in India later this week: Michelle Obama.',\n",
        "  'source': u'AP',\n",
        "  'subjects': [],\n",
        "  'type': u'News',\n",
        "  'url': u'http://www.nytimes.com/aponline/2015/01/21/us/politics/ap-us-michelle-obama-india.html',\n",
        "  'word_count': u'117'},\n",
        " {'abstract': u\"News Analysis; experts on Israel fear that rift between Pres Obama and Prime Min Benjamin Netanyahu, exacerbated by Netanyahu's decision to address Congress directly, represents unprecedented crisis in United States-Israel relations; neither leaders' administration has tried to defuse crisis, presenting possibility that two could be at odds for years if Netanyahu survives upcoming election, even as crucial negotiations over Iran's nuclear program continue.\",\n",
        "  'date': u'2015-01-31',\n",
        "  'desk': u'Foreign',\n",
        "  'headline': u'A Strained Alliance: Obama-Netanyahu Rift Grew Over Years',\n",
        "  'id': u'54cc3a6e79881027ae29df87',\n",
        "  'locations': [u'Israel', u'Iran'],\n",
        "  'section': u'World',\n",
        "  'snippet': 'The diplomatic break touched off by Benjamin Netanyahu&#8217;s decision to negotiate an address to Congress without first telling President Obama reflects their fundamentally different world views.',\n",
        "  'source': u'The New York Times',\n",
        "  'subjects': [u'Nuclear Weapons',\n",
        "   u'United States International Relations',\n",
        "   u'Defense and Military Forces',\n",
        "   u'Palestinians',\n",
        "   u'Israeli Settlements'],\n",
        "  'type': u'An Analysis; News Analysis',\n",
        "  'url': u'http://www.nytimes.com/2015/01/31/world/middleeast/a-strained-alliance-obama-netanyahu-rift-grew-over-years.html',\n",
        "  'word_count': u'1191'},\n",
        " {'abstract': None,\n",
        "  'date': u'2015-02-03',\n",
        "  'desk': u'Foreign',\n",
        "  'headline': u'Obama Has Little to Say to the Poor',\n",
        "  'id': u'54cfa40f79881002ee7b49a2',\n",
        "  'locations': [],\n",
        "  'section': u'World',\n",
        "  'snippet': 'The president\\'s State of the Union address focused on \"middle-class economics\" and the \"working family,\" neglecting those with little financial hope.',\n",
        "  'source': u'The New York Times',\n",
        "  'subjects': [u'Poverty', u'State of the Union Message (US)'],\n",
        "  'type': u'News',\n",
        "  'url': u'http://www.nytimes.com/2015/02/03/world/americas/obama-has-little-to-say-to-the-poor.html',\n",
        "  'word_count': u'657'},\n",
        " {'abstract': u'Public figures, and politicians in particular, should communicate their clothing and hair choices before the public does it for them.',\n",
        "  'date': u'2015-01-30',\n",
        "  'desk': u'Styles',\n",
        "  'headline': u'The Lessons of the Michelle Obama Head Scarf Hoo-Ha',\n",
        "  'id': u'54cb4c6c79881068566a11d9',\n",
        "  'locations': [],\n",
        "  'section': u'false',\n",
        "  'snippet': 'Public figures, and politicians in particular, should communicate their clothing and hair choices before the public does it for them.',\n",
        "  'source': u'The New York Times',\n",
        "  'subjects': [u'Fashion and Apparel'],\n",
        "  'type': u'Blog',\n",
        "  'url': u'http://runway.blogs.nytimes.com/2015/01/30/the-lessons-of-the-michelle-obama-head-scarf-hoo-ha/',\n",
        "  'word_count': u'651'},\n",
        " {'abstract': None,\n",
        "  'date': u'2015-01-30',\n",
        "  'desk': u'U.S. / Politics',\n",
        "  'headline': u'Obama on New Medical Funding Initiative',\n",
        "  'id': u'54cbf30379881027ae29dea8',\n",
        "  'locations': [],\n",
        "  'section': u'U.S.',\n",
        "  'snippet': 'The president discussed a new initiative included in his budget that would fund research into precision medicine, which tailors treatment to genetic and other factors of individual patients.',\n",
        "  'source': u'The New York Times',\n",
        "  'subjects': [u'Medicine and Health',\n",
        "   u'United States Politics and Government'],\n",
        "  'type': u'Video',\n",
        "  'url': u'http://www.nytimes.com/video/us/politics/100000003483034/obama-on-new-medical-funding-initiative.html',\n",
        "  'word_count': u'28'},\n",
        " {'abstract': u'President Obama today, speaking after meeting with Dreamers in the Oval Office, according to pool reports.',\n",
        "  'date': u'2015-02-04',\n",
        "  'desk': None,\n",
        "  'headline': u\"First Draft Focus: Obama and the 'Dreamers'\",\n",
        "  'id': u'54d269797988105ae2aa88f7',\n",
        "  'locations': [],\n",
        "  'section': u'false',\n",
        "  'snippet': 'President Obama today, speaking after meeting with Dreamers in the Oval Office, according to pool reports.',\n",
        "  'source': u'The New York Times',\n",
        "  'subjects': [],\n",
        "  'type': u'Blog',\n",
        "  'url': u'http://www.nytimes.com/politics/first-draft/2015/02/04/first-draft-focus-obama-and-the-dreamers/',\n",
        "  'word_count': u'64'},\n",
        " {'abstract': u\"Pres Obama's proposed budget contains six-year, $478 billion infrastructure plan, giving 33 percent increase in funding for large, new public works projects; upgrading nation's roads, bridges and ports would be financed by new taxes on American companies' international profits.\",\n",
        "  'date': u'2015-02-03',\n",
        "  'desk': u'National',\n",
        "  'headline': u'Obama Proposes Tax for Upgrade of Infrastructure ',\n",
        "  'id': u'54cfb67579881045b454119e',\n",
        "  'locations': [],\n",
        "  'section': u'U.S.',\n",
        "  'snippet': 'A $478 billion construction spree would seek to upgrade roads, bridges and ports, using money from new taxes on overseas earnings by American companies.',\n",
        "  'source': u'The New York Times',\n",
        "  'subjects': [u'Infrastructure (Public Works)',\n",
        "   u'Federal Budget (US)',\n",
        "   u'Corporate Taxes',\n",
        "   u'Transportation',\n",
        "   u'Federal Taxes (US)'],\n",
        "  'type': u'News',\n",
        "  'url': u'http://www.nytimes.com/2015/02/03/us/obama-budget-would-target-overseas-earnings-to-fund-transportation.html',\n",
        "  'word_count': u'497'}]"
       ]
      }
     ],
     "prompt_number": 200
    },
    {
     "cell_type": "code",
     "collapsed": false,
     "input": [],
     "language": "python",
     "metadata": {},
     "outputs": []
    }
   ],
   "metadata": {}
  }
 ]
}