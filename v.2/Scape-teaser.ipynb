{
 "cells": [
  {
   "cell_type": "code",
   "execution_count": 1,
   "metadata": {
    "collapsed": true
   },
   "outputs": [],
   "source": [
    "# import required modules\n",
    "import requests\n",
    "from bs4 import BeautifulSoup\n",
    "import html5lib \n",
    "import csv\n",
    "import os"
   ]
  },
  {
   "cell_type": "code",
   "execution_count": 4,
   "metadata": {
    "collapsed": false
   },
   "outputs": [
    {
     "name": "stdout",
     "output_type": "stream",
     "text": [
      "1-499.csv\n",
      "1500-2499.csv\n",
      "2500-2155.csv\n",
      "500-1499.csv\n"
     ]
    }
   ],
   "source": [
    "uas=[]\n",
    "dir = '.'\n",
    "for file_name in os.listdir(dir):\n",
    "    if file_name.endswith(\"csv\"):\n",
    "        print file_name\n",
    "        with open(dir + \"/\" + file_name,'rU') as csvfile:\n",
    "            reader = csv.DictReader(csvfile)\n",
    "            for row in reader:\n",
    "                uas.append(row)"
   ]
  },
  {
   "cell_type": "code",
   "execution_count": 14,
   "metadata": {
    "collapsed": false
   },
   "outputs": [],
   "source": [
    "href = uas[0]['href']"
   ]
  },
  {
   "cell_type": "code",
   "execution_count": 15,
   "metadata": {
    "collapsed": false
   },
   "outputs": [],
   "source": [
    "link = \"https://www.amnesty.org\" + href"
   ]
  },
  {
   "cell_type": "code",
   "execution_count": 16,
   "metadata": {
    "collapsed": true
   },
   "outputs": [],
   "source": [
    "req = requests.get(link)\n",
    "src = req.text \n",
    "soup = BeautifulSoup(src, 'html.parser')"
   ]
  },
  {
   "cell_type": "code",
   "execution_count": 42,
   "metadata": {
    "collapsed": false
   },
   "outputs": [
    {
     "data": {
      "text/plain": [
       "u'12/2295/2015'"
      ]
     },
     "execution_count": 42,
     "metadata": {},
     "output_type": "execute_result"
    }
   ],
   "source": [
    "# ai index\n",
    "ai_id = soup.select(\"p.meta\")[0].text.split()[-1]\n",
    "ai_id"
   ]
  },
  {
   "cell_type": "code",
   "execution_count": 35,
   "metadata": {
    "collapsed": false
   },
   "outputs": [],
   "source": [
    "# teaser\n",
    "text = soup.select(\".wysiwyg p\")[0].text"
   ]
  },
  {
   "cell_type": "code",
   "execution_count": 40,
   "metadata": {
    "collapsed": false
   },
   "outputs": [],
   "source": [
    "tags = soup.select(\"a.tags__link\")\n",
    "tags_list = []\n",
    "for i in tags:\n",
    "    tags_list.append(i.text)"
   ]
  },
  {
   "cell_type": "code",
   "execution_count": 41,
   "metadata": {
    "collapsed": false
   },
   "outputs": [
    {
     "data": {
      "text/plain": [
       "[u'Angola',\n",
       " u'Censorship and Free Speech',\n",
       " u'Demonstrations',\n",
       " u'Unlawful Detention',\n",
       " u'Human Rights Defenders and Activists']"
      ]
     },
     "execution_count": 41,
     "metadata": {},
     "output_type": "execute_result"
    }
   ],
   "source": [
    "tags_list"
   ]
  },
  {
   "cell_type": "code",
   "execution_count": 121,
   "metadata": {
    "collapsed": true
   },
   "outputs": [],
   "source": [
    "def parse_ua(dic):\n",
    "    link = \"https://www.amnesty.org\" + dic['href']\n",
    "    req = requests.get(link)\n",
    "    src = req.text \n",
    "    soup = BeautifulSoup(src, 'html.parser')\n",
    "    \n",
    "    # id\n",
    "    try:\n",
    "        dic['id'] = soup.select(\"p.meta\")[0].text.split()[-1].encode('utf8')\n",
    "    except:\n",
    "        pass\n",
    "    \n",
    "    # teaser\n",
    "    try:\n",
    "        dic['teaser'] = soup.select(\".wysiwyg p\")[0].text.encode('utf8')\n",
    "    except:\n",
    "        pass\n",
    "    \n",
    "    # tags\n",
    "    tags = soup.select(\"a.tags__link\")\n",
    "    tags_list = []\n",
    "    for i in tags:\n",
    "        tags_list.append(i.text.encode('utf8'))\n",
    "    dic['tags'] = tags_list\n",
    "\n",
    "    return(dic)"
   ]
  },
  {
   "cell_type": "code",
   "execution_count": 137,
   "metadata": {
    "collapsed": false
   },
   "outputs": [],
   "source": [
    "uas_en = [i for i in uas if i['href'].endswith('en/')]"
   ]
  },
  {
   "cell_type": "code",
   "execution_count": 138,
   "metadata": {
    "collapsed": false
   },
   "outputs": [
    {
     "data": {
      "text/plain": [
       "19624"
      ]
     },
     "execution_count": 138,
     "metadata": {},
     "output_type": "execute_result"
    }
   ],
   "source": [
    "len(uas_en)"
   ]
  },
  {
   "cell_type": "code",
   "execution_count": null,
   "metadata": {
    "collapsed": false
   },
   "outputs": [
    {
     "name": "stdout",
     "output_type": "stream",
     "text": [
      "0\n",
      "1\n",
      "2\n",
      "3\n",
      "4\n",
      "5\n",
      "6\n",
      "7\n",
      "8\n",
      "9\n",
      "10\n",
      "11\n",
      "12\n",
      "13\n",
      "14\n",
      "15\n",
      "16\n",
      "17\n",
      "18\n",
      "19\n",
      "20\n",
      "21\n",
      "22\n",
      "23\n",
      "24\n",
      "25\n",
      "26\n",
      "27\n",
      "28\n",
      "29\n",
      "30\n",
      "31\n",
      "32\n",
      "33\n",
      "34\n",
      "35\n",
      "36\n",
      "37\n",
      "38\n",
      "39\n",
      "40\n",
      "41\n",
      "42\n",
      "43\n",
      "44\n",
      "45\n",
      "46\n",
      "47\n",
      "48"
     ]
    }
   ],
   "source": [
    "# do all english\n",
    "for i,j in enumerate(uas_en):\n",
    "    print i\n",
    "    parse_ua(j)"
   ]
  },
  {
   "cell_type": "code",
   "execution_count": 133,
   "metadata": {
    "collapsed": false
   },
   "outputs": [
    {
     "data": {
      "text/plain": [
       "{'country': 'United States of America',\n",
       " 'date': '2000-11-17',\n",
       " 'href': '/en/documents/amr51/177/2000/fr/',\n",
       " 'id': '51/177/2000',\n",
       " 'tags': ['United States of America', 'Americas', 'Death Penalty'],\n",
       " 'teaser': 'See below.',\n",
       " 'tite': 'USA:  Death penalty / Legal concern - Wanda Jean Allen'}"
      ]
     },
     "execution_count": 133,
     "metadata": {},
     "output_type": "execute_result"
    }
   ],
   "source": [
    "uas[14546]"
   ]
  },
  {
   "cell_type": "code",
   "execution_count": 119,
   "metadata": {
    "collapsed": false
   },
   "outputs": [],
   "source": [
    "for i in uas:\n",
    "    try:\n",
    "        i['teaser'] = i['teaser'].encode('utf8')\n",
    "    except:\n",
    "        continue"
   ]
  },
  {
   "cell_type": "code",
   "execution_count": 109,
   "metadata": {
    "collapsed": false
   },
   "outputs": [],
   "source": [
    "uas[0]['teaser'] = \"The fifteen activists arrested between 20 and 24 June in Luanda, Angola remain in \\\n",
    "detention with no formal indictment since their arrest in connection with a peaceful meeting to discuss \\\n",
    "politics and governance concerns. An additional arrest was made on 30 June and peaceful protests calling \\\n",
    "for the activists release on 29 July and 8 August were met with police violence\"\n",
    "# i['teaser'] = i['teaser'].decode('ascii').encode('utf8')"
   ]
  },
  {
   "cell_type": "code",
   "execution_count": 123,
   "metadata": {
    "collapsed": false
   },
   "outputs": [],
   "source": [
    "keys = uas[0].keys()\n",
    "#writing the rest\n",
    "with open('results-2525-11977.csv', 'wb') as output_file:\n",
    "    dict_writer = csv.DictWriter(output_file, keys)\n",
    "    dict_writer.writeheader()\n",
    "    dict_writer.writerows(uas)"
   ]
  },
  {
   "cell_type": "code",
   "execution_count": null,
   "metadata": {
    "collapsed": true
   },
   "outputs": [],
   "source": []
  }
 ],
 "metadata": {
  "kernelspec": {
   "display_name": "Python 2",
   "language": "python",
   "name": "python2"
  },
  "language_info": {
   "codemirror_mode": {
    "name": "ipython",
    "version": 2
   },
   "file_extension": ".py",
   "mimetype": "text/x-python",
   "name": "python",
   "nbconvert_exporter": "python",
   "pygments_lexer": "ipython2",
   "version": "2.7.9"
  }
 },
 "nbformat": 4,
 "nbformat_minor": 0
}
